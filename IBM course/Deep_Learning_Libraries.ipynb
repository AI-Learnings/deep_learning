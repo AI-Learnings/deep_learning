{
  "nbformat": 4,
  "nbformat_minor": 0,
  "metadata": {
    "colab": {
      "name": "Deep Learning Libraries.ipynb",
      "provenance": []
    },
    "kernelspec": {
      "name": "python3",
      "display_name": "Python 3"
    }
  },
  "cells": [
    {
      "cell_type": "markdown",
      "metadata": {
        "id": "BDrWrGOYek8M"
      },
      "source": [
        "# Deep Learning Libraries\r\n",
        "\r\n",
        "## Some of the popular libraries in descending order is\r\n",
        "1. Tensorflow\r\n",
        "2. Keras\r\n",
        "3. Pytorch\r\n",
        "4. Theano\r\n",
        "\r\n",
        "Theano is no longer supported. Tensorflow, developed by google is the most popular deep learning libraries. Pytorch is the cousin of lua based torch framework and a strong competitor to tensorflow. Both have stiff learning curve and not easy to learn and use. But keras is the easiest API to use and the go to library for quick proto typing and fast development. "
      ]
    },
    {
      "cell_type": "code",
      "metadata": {
        "id": "rsW26cHgeHO_"
      },
      "source": [
        ""
      ],
      "execution_count": null,
      "outputs": []
    }
  ]
}