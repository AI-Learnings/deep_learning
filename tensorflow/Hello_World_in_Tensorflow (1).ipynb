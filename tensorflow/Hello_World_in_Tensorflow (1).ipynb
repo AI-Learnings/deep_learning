{
  "nbformat": 4,
  "nbformat_minor": 0,
  "metadata": {
    "colab": {
      "name": "Hello World in Tensorflow.ipynb",
      "provenance": []
    },
    "kernelspec": {
      "name": "python3",
      "display_name": "Python 3"
    }
  },
  "cells": [
    {
      "cell_type": "markdown",
      "metadata": {
        "id": "HBaVTnf-98db"
      },
      "source": [
        "# **Tensorflow's Hello World**\r\n",
        "\r\n",
        "1. How does TensorFlow work?\r\n",
        "2. Building a Graph. \r\n",
        "3. Meaning of Tensor? \r\n",
        "4. Defining multidimensional arrays using TensorFlow. \r\n",
        "5. How TensorFlow handles Variables. \r\n",
        "6. What are these Placeholders and what do they do? \r\n",
        "7. Learn Operations using TensorFlow. "
      ]
    },
    {
      "cell_type": "markdown",
      "metadata": {
        "id": "_URx-pVM-NsC"
      },
      "source": [
        "<a id=\"ref2\"></a>\r\n",
        "\r\n",
        "<h2>How does TensorFlow work?</h2>\r\n",
        "\r\n",
        "TensorFlow defines computations as Graphs, and these are made with operations (also know as “ops”). So, when we work with TensorFlow, it is the same as defining a series of operations in a Graph.\r\n",
        "\r\n",
        "For example, the image below represents a graph in TensorFlow. _W_, _x_ and _b_ are tensors over the edges of this graph. _MatMul_ is an operation over the tensors_W_ and _b_, after that _Add_ is called and add the result of the previous operator with _b_. The resultant tensors of each operation cross the next one until the end where it's possible to get the wanted result.\r\n"
      ]
    },
    {
      "cell_type": "markdown",
      "metadata": {
        "id": "l8_7-6xi-QOn"
      },
      "source": [
        "<img src='https://ibm.box.com/shared/static/a94cgezzwbkrq02jzfjjljrcaozu5s2q.png'>\r\n"
      ]
    },
    {
      "cell_type": "markdown",
      "metadata": {
        "id": "VkKy994C-Wg0"
      },
      "source": [
        "With TensorFlow 2.x, **Eager Execution** is enabled by default. This allows TensorFlow code to be executed and evaluated line by line. Before version 2.x was released, every graph had to be run wihthin a TensorFlow session. This only allowed for the entire graph to be run all at once. This would make debugging the computation graph each time. "
      ]
    },
    {
      "cell_type": "markdown",
      "metadata": {
        "id": "3lie44GX-f9h"
      },
      "source": [
        "<h2>Installing TensorFlow </h2>\r\n",
        "\r\n",
        "We begin by installing TensorFlow version 2.2.0 and its required prerequistes. \r\n"
      ]
    },
    {
      "cell_type": "code",
      "metadata": {
        "id": "VPemIYt79xN_"
      },
      "source": [
        "# !pip install grpcio==1.24.3\r\n",
        "# !pip install tensorflow==2.2.0\r\n",
        "\r\n",
        "# uncomment and run to install tensorflow"
      ],
      "execution_count": null,
      "outputs": []
    },
    {
      "cell_type": "markdown",
      "metadata": {
        "id": "6NP7NivL-1X0"
      },
      "source": [
        "<h2>Importing TensorFlow</h2>\r\n",
        "<p>To use TensorFlow, we need to import the library. We imported it and optionally gave it the name \"tf\", so the modules can be accessed by <b>tf.module-name</b>:</p>"
      ]
    },
    {
      "cell_type": "code",
      "metadata": {
        "id": "45RbS17B-tGF"
      },
      "source": [
        "# import tensorflow as tf\r\n",
        "# if not tf.__version__ == '2.2.0':\r\n",
        "#     print(tf.__version__)\r\n",
        "#     raise ValueError('please upgrade to TensorFlow 2.2.0, or restart your Kernel (Kernel->Restart & Clear Output)')"
      ],
      "execution_count": null,
      "outputs": []
    },
    {
      "cell_type": "markdown",
      "metadata": {
        "id": "58ELijiW_ATI"
      },
      "source": [
        "# tf.function and AutoGraph\r\n"
      ]
    },
    {
      "cell_type": "markdown",
      "metadata": {
        "id": "lM8OM6sY_G9G"
      },
      "source": [
        "Now we call the TensorFlow functions that construct new <b>tf.Operation</b> and <b>tf.Tensor</b> objects. As mentioned, each <b>tf.Operation</b> is a <b>node</b> and each <b>tf.Tensor</b> is an edge in the graph.\r\n",
        "\r\n",
        "Lets add 2 constants to our graph. For example, calling tf.constant([2], name = 'constant_a') adds a single <b>tf.Operation</b> to the default graph. This operation produces the value 2, and returns a <b>tf.Tensor</b> that represents the value of the constant.  \r\n",
        "<b>Notice:</b> tf.constant([2], name=\"constant_a\") creates a new tf.Operation named \"constant_a\" and returns a tf.Tensor named \"constant_a:0\".\r\n"
      ]
    },
    {
      "cell_type": "code",
      "metadata": {
        "id": "tYOQJAN1-ydN"
      },
      "source": [
        "# a = tf.constant([2], name = 'constant_a')\r\n",
        "# b = tf.constant([3], name = 'constant_b')"
      ],
      "execution_count": null,
      "outputs": []
    },
    {
      "cell_type": "markdown",
      "metadata": {
        "id": "0vpJztJw_T5c"
      },
      "source": [
        "As you can see, it just shows the name, shape and type of the tensor in the graph. We will see it's value by running the TensorFlow code as shown below.\r\n",
        "\r\n",
        "Annotating the python functions with **tf.function** uses TensorFlow Autograph to create a TensorFlow static execution graph for the function.   tf.function annotation tells TensorFlow Autograph to transform function _add_ into TensorFlow control flow, which then defines the TensorFlow static execution graph. "
      ]
    },
    {
      "cell_type": "code",
      "metadata": {
        "id": "epq0DYBd_Nl9"
      },
      "source": [
        "# @tf.function\r\n",
        "# def add(a,b):\r\n",
        "#     c = tf.add(a, b)\r\n",
        "#     #c = a + b is also a way to define the sum of the terms\r\n",
        "#     print(c)\r\n",
        "#     return c"
      ],
      "execution_count": null,
      "outputs": []
    },
    {
      "cell_type": "code",
      "metadata": {
        "id": "-SFUeIZo_ocs"
      },
      "source": [
        "# result = add(a,b)\r\n",
        "# tf.print(result[0])"
      ],
      "execution_count": null,
      "outputs": []
    },
    {
      "cell_type": "markdown",
      "metadata": {
        "id": "bRgherzk_mKn"
      },
      "source": [
        "Even this silly example of adding 2 constants to reach a simple result defines the basis of TensorFlow. Define your operations (In this case our constants and _tf.add_), define a Python function named _add_ and decorate it with using the _tf.function_ annotator."
      ]
    },
    {
      "cell_type": "markdown",
      "metadata": {
        "id": "ik1weEzw_z7N"
      },
      "source": [
        "<h3>What is the meaning of Tensor?</h3>\r\n",
        "\r\n",
        "<div class=\"alert alert-success alertsuccess\" style=\"margin-top: 20px\">\r\n",
        "<font size = 3><strong>In TensorFlow all data is passed between operations in a computation graph, and these are passed in the form of Tensors, hence the name of TensorFlow.</strong></font>\r\n",
        "<br>\r\n",
        "<br>\r\n",
        "    The word <b>tensor</b> from new latin means \"that which stretches\". It is a mathematical object that is named \"tensor\" because an early application of tensors was the study of materials stretching under tension. The contemporary meaning of tensors can be taken as multidimensional arrays. \r\n",
        "\r\n",
        "</div>\r\n",
        "\r\n",
        "That's great, but... what are these multidimensional arrays? \r\n",
        "\r\n",
        "Going back a little bit to physics to understand the concept of dimensions:<br>\r\n",
        "<img src=\"https://ibm.box.com/shared/static/ymn0hl3hf8s3xb4k15v22y5vmuodnue1.svg\"/>\r\n",
        "\r\n",
        "<div style=\"text-align:center\"><a href=\"https://en.wikipedia.org/wiki/Dimension\">Image Source</a></div>\r\n",
        "<br>\r\n",
        "\r\n",
        "The zero dimension can be seen as a point, a single object or a single item.\r\n",
        "\r\n",
        "The first dimension can be seen as a line, a one-dimensional array can be seen as numbers along this line, or as points along the line. One dimension can contain infinite zero dimension/points elements.\r\n",
        "\r\n",
        "The second dimension can be seen as a surface, a two-dimensional array can be seen as an infinite series of lines along an infinite line. \r\n",
        "\r\n",
        "The third dimension can be seen as volume, a three-dimensional array can be seen as an infinite series of surfaces along an infinite line.\r\n",
        "\r\n",
        "The Fourth dimension can be seen as the hyperspace or spacetime, a volume varying through time, or an infinite series of volumes along an infinite line. And so forth on..."
      ]
    },
    {
      "cell_type": "markdown",
      "metadata": {
        "id": "L3ARh331_9MN"
      },
      "source": [
        "As mathematical objects: <br><br>\r\n",
        "<img src=\"https://ibm.box.com/shared/static/kmxz570uai8eeg6i6ynqdz6kmlx1m422.png\">\r\n",
        "\r\n",
        "<div style=\"text-align: center\"><a href=\"https://book.mql4.com/variables/arrays\">Image Source</a></div>\r\n"
      ]
    },
    {
      "cell_type": "markdown",
      "metadata": {
        "id": "BTVIM8fMADU4"
      },
      "source": [
        "Summarizing:<br><br>\r\n",
        "\r\n",
        "<table style=\"width:100%\">\r\n",
        "  <tr>\r\n",
        "    <td><b>Dimension</b></td>\r\n",
        "    <td><b>Physical Representation</b></td> \r\n",
        "    <td><b>Mathematical Object</b></td>\r\n",
        "    <td><b>In Code</b></td>\r\n",
        "  </tr>\r\n",
        "  \r\n",
        "  <tr>\r\n",
        "    <td>Zero </td>\r\n",
        "    <td>Point</td> \r\n",
        "    <td>Scalar (Single Number)</td>\r\n",
        "    <td>[ 1 ]</td>\r\n",
        "  </tr>\r\n",
        "\r\n",
        "  <tr>\r\n",
        "    <td>One</td>\r\n",
        "    <td>Line</td> \r\n",
        "    <td>Vector (Series of Numbers) </td>\r\n",
        "    <td>[ 1,2,3,4,... ]</td>\r\n",
        "  </tr>\r\n",
        "  \r\n",
        "   <tr>\r\n",
        "    <td>Two</td>\r\n",
        "    <td>Surface</td> \r\n",
        "    <td>Matrix (Table of Numbers)</td>\r\n",
        "       <td>[ [1,2,3,4,...], [1,2,3,4,...], [1,2,3,4,...],... ]</td>\r\n",
        "  </tr>\r\n",
        "  \r\n",
        "   <tr>\r\n",
        "    <td>Three</td>\r\n",
        "    <td>Volume</td> \r\n",
        "    <td>Tensor (Cube of Numbers)</td>\r\n",
        "    <td>[ [[1,2,...], [1,2,...], [1,2,...],...], [[1,2,...], [1,2,...], [1,2,...],...], [[1,2,...], [1,2,...], [1,2,...] ,...]... ]</td>\r\n",
        "  </tr>\r\n",
        "  \r\n",
        "</table>"
      ]
    },
    {
      "cell_type": "markdown",
      "metadata": {
        "id": "aC3M7AviAJnN"
      },
      "source": [
        "<h2>Defining multidimensional arrays using TensorFlow</h2>\r\n",
        "Now we will try to define such arrays using TensorFlow:\r\n"
      ]
    },
    {
      "cell_type": "code",
      "metadata": {
        "id": "72fb22fcAVTB"
      },
      "source": [
        "# Scalar = tf.constant(2)\r\n",
        "# Vector = tf.constant([5,6,2])\r\n",
        "# Matrix = tf.constant([[1,2,3],[2,3,4],[3,4,5]])\r\n",
        "# Tensor = tf.constant( [ [[1,2,3],[2,3,4],[3,4,5]] , [[4,5,6],[5,6,7],[6,7,8]] , [[7,8,9],[8,9,10],[9,10,11]] ] )\r\n",
        "\r\n",
        "# print (\"Scalar (1 entry):\\n %s \\n\" % Scalar)\r\n",
        "\r\n",
        "# print (\"Vector (3 entries) :\\n %s \\n\" % Vector)\r\n",
        "\r\n",
        "# print (\"Matrix (3x3 entries):\\n %s \\n\" % Matrix)\r\n",
        "\r\n",
        "# print (\"Tensor (3x3x3 entries) :\\n %s \\n\" % Tensor)"
      ],
      "execution_count": null,
      "outputs": []
    },
    {
      "cell_type": "code",
      "metadata": {
        "id": "gBe3UoC4A7pq"
      },
      "source": [
        "# Scalar.shape\r\n",
        "# Tensor.shape"
      ],
      "execution_count": null,
      "outputs": []
    },
    {
      "cell_type": "markdown",
      "metadata": {
        "id": "XeikLYssANfG"
      },
      "source": [
        "Now that you understand these data structures, I encourage you to play with them using some previous functions to see how they will behave, according to their structure types:\r\n"
      ]
    },
    {
      "cell_type": "code",
      "metadata": {
        "id": "6B0LN3sd_fir"
      },
      "source": [
        "# Matrix_one = tf.constant([[1,2,3],[2,3,4],[3,4,5]])\r\n",
        "# Matrix_two = tf.constant([[2,2,2],[2,2,2],[2,2,2]])\r\n",
        "\r\n",
        "# @tf.function\r\n",
        "# def add():\r\n",
        "#     add_1_operation = tf.add(Matrix_one, Matrix_two)\r\n",
        "#     return add_1_operation\r\n",
        "\r\n",
        "\r\n",
        "\r\n",
        "# print (\"Defined using tensorflow function :\")\r\n",
        "# add_1_operation = add()\r\n",
        "# print(add_1_operation)\r\n",
        "# print (\"Defined using normal expressions :\")\r\n",
        "# add_2_operation = Matrix_one + Matrix_two\r\n",
        "# print(add_2_operation)"
      ],
      "execution_count": null,
      "outputs": []
    },
    {
      "cell_type": "markdown",
      "metadata": {
        "id": "ZaEqy7dZBOqy"
      },
      "source": [
        "With the regular symbol definition and also the TensorFlow function we were able to get an element-wise multiplication, also known as Hadamard product. <br>\r\n",
        "\r\n",
        "But what if we want the regular matrix product?\r\n",
        "\r\n",
        "We then need to use another TensorFlow function called <b>tf.matmul()<b>:\r\n"
      ]
    },
    {
      "cell_type": "code",
      "metadata": {
        "id": "IZYFnYGABI4z"
      },
      "source": [
        "# Matrix_one = tf.constant([[2,3],[3,4]])\r\n",
        "# Matrix_two = tf.constant([[2,3],[3,4]])\r\n",
        "\r\n",
        "# @tf.function\r\n",
        "# def mathmul():\r\n",
        "#   return tf.matmul(Matrix_one, Matrix_two)\r\n",
        "\r\n",
        "\r\n",
        "# mul_operation = mathmul()\r\n",
        "\r\n",
        "# print (\"Defined using tensorflow function :\")\r\n",
        "# print(mul_operation)"
      ],
      "execution_count": null,
      "outputs": []
    },
    {
      "cell_type": "markdown",
      "metadata": {
        "id": "HKmU9Ch9BaJl"
      },
      "source": [
        "We could also define this multiplication ourselves, but there is a function that already does that, so no need to reinvent the wheel!"
      ]
    },
    {
      "cell_type": "markdown",
      "metadata": {
        "id": "x4VshPJDBgNs"
      },
      "source": [
        "Did you know? IBM Watson Studio lets you build and deploy an AI solution, using the best of open source and IBM software and giving your team a single environment to work in. Learn more here.\r\n"
      ]
    },
    {
      "cell_type": "markdown",
      "metadata": {
        "id": "Ix9MePjgBnCq"
      },
      "source": [
        "<a id=\"ref5\"></a>\r\n",
        "\r\n",
        "<h2>Why Tensors?</h2>\r\n",
        "\r\n",
        "The Tensor structure helps us by giving the freedom to shape the dataset in the way we want.\r\n",
        "\r\n",
        "And it is particularly helpful when dealing with images, due to the nature of how information in images are encoded,\r\n",
        "\r\n",
        "Thinking about images, its easy to understand that it has a height and width, so it would make sense to represent the information contained in it with a two dimensional structure (a matrix)... until you remember that images have colors, and to add information about the colors, we need another dimension, and thats when Tensors become particularly helpful.\r\n",
        "\r\n",
        "Images are encoded into color channels, the image data is represented into each color intensity in a color channel at a given point, the most common one being RGB, which means Red, Blue and Green. The information contained into an image is the intensity of each channel color into the width and height of the image, just like this:\r\n",
        "\r\n",
        "<img src='https://ibm.box.com/shared/static/xlpv9h5xws248c09k1rlx7cer69y4grh.png'>\r\n",
        "<a href=\"https://msdn.microsoft.com/en-us/library/windows/desktop/dn424131.aspx\">Image Source</a>\r\n",
        "\r\n",
        "So the intensity of the red channel at each point with width and height can be represented into a matrix, the same goes for the blue and green channels, so we end up having three matrices, and when these are combined they form a tensor. "
      ]
    },
    {
      "cell_type": "markdown",
      "metadata": {
        "id": "qDImytReBwDp"
      },
      "source": [
        "<a id=\"ref6\"></a>\r\n",
        "\r\n",
        "# Variables\r\n",
        "\r\n",
        "Now that we are more familiar with the structure of data, we will take a look at how TensorFlow handles variables.\r\n",
        "<b>First of all, having tensors, why do we need variables?</b>  \r\n",
        "TensorFlow variables are used to share and persist some stats that are manipulated by our program. That is, when you define a variable, TensorFlow adds a <b>tf.Operation</b> to your graph. Then, this operation will store a writable tensor value. So, you can update the value of a variable through each run.\r\n",
        "\r\n",
        "Let's first create a simple counter, by first initializing a variable _v_ that will be increased one unit at a time:\r\n"
      ]
    },
    {
      "cell_type": "code",
      "metadata": {
        "id": "176n7Qq6Bu6_"
      },
      "source": [
        "# v = tf.Variable(0)"
      ],
      "execution_count": null,
      "outputs": []
    },
    {
      "cell_type": "markdown",
      "metadata": {
        "id": "gNFjL6FyCAM-"
      },
      "source": [
        "We now create a python method _increment_by_one_. This method will internally call _td.add_ that takes in two arguments, the <b>reference_variable</b> to update, and assign it to the <b>value_to_update</b> it by."
      ]
    },
    {
      "cell_type": "code",
      "metadata": {
        "id": "yTWQFGYuBVAR"
      },
      "source": [
        "# @tf.function\r\n",
        "# def increment_by_one(v):\r\n",
        "#         v = tf.add(v,1)\r\n",
        "#         return v"
      ],
      "execution_count": null,
      "outputs": []
    },
    {
      "cell_type": "markdown",
      "metadata": {
        "id": "mkNb32pjCMu2"
      },
      "source": [
        "To update the value of the variable _v_, we simply call the _increment_by_one_ method and pass the variable to it. We will invoke this method thrice. This method will increment the variable by one and print the updated value each time. "
      ]
    },
    {
      "cell_type": "code",
      "metadata": {
        "id": "5buxneyiCH3d"
      },
      "source": [
        "# for i in range(3):\r\n",
        "#     v = increment_by_one(v)\r\n",
        "#     print(v)"
      ],
      "execution_count": null,
      "outputs": []
    },
    {
      "cell_type": "markdown",
      "metadata": {
        "id": "UMzzNxLRCV_L"
      },
      "source": [
        "<a id=\"ref7\"></a>\r\n",
        "\r\n",
        "<h2>Operations</h2>\r\n",
        "\r\n",
        "Operations are nodes that represent the mathematical operations over the tensors on a graph. These operations can be any kind of functions, like add and subtract tensor or maybe an activation function.\r\n",
        "\r\n",
        "<b>tf.constant</b>, <b>tf.matmul</b>, <b>tf.add</b>, <b>tf.nn.sigmoid</b> are some of the operations in TensorFlow. These are like functions in python but operate directly over tensors and each one does a specific thing. \r\n",
        "\r\n",
        "<div class=\"alert alert-success alertsuccess\" style=\"margin-top: 20px\">Other operations can be easily found in: <a href=\"https://www.tensorflow.org/versions/r0.9/api_docs/python/index.html\">https://www.tensorflow.org/versions/r0.9/api_docs/python/index.html</a></div>\r\n"
      ]
    },
    {
      "cell_type": "code",
      "metadata": {
        "id": "hcYCCYYOCRPE"
      },
      "source": [
        "# a = tf.constant([5])\r\n",
        "# b = tf.constant([2])\r\n",
        "# c = tf.add(a,b)\r\n",
        "# d = tf.subtract(a,b)\r\n",
        "\r\n",
        "\r\n",
        "# print ('c =: %s' % c)\r\n",
        "    \r\n",
        "# print ('d =: %s' % d)"
      ],
      "execution_count": null,
      "outputs": []
    },
    {
      "cell_type": "markdown",
      "metadata": {
        "id": "CK_6ahUECiD_"
      },
      "source": [
        "<b>tf.nn.sigmoid</b> is an activation function, it's a little more complicated, but this function helps learning models to evaluate what kind of information is good or not."
      ]
    },
    {
      "cell_type": "code",
      "metadata": {
        "id": "OPniBJ1RCdcP"
      },
      "source": [
        ""
      ],
      "execution_count": null,
      "outputs": []
    }
  ]
}