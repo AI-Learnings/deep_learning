{
 "cells": [
  {
   "cell_type": "markdown",
   "metadata": {},
   "source": [
    "# Introduction to Tensorflow\n",
    "\n",
    "It's an open source library by google brain team. Originally created for tasks with heavy numeric computation, so it's used in ML and DL. As c/c++ used in the backend, it's faster than pure pthon code. It's based on data flow graph. It provides both python and c++ API. It has a faster compilation time. It supports CPU, GPU and distributed omputing. \n",
    "\n",
    "### Data flow graph\n",
    "A data flow graph contains 2 main units; first is nodes, which contains mathemetical operations and the second is edges or multidimensional arrays(tensors). In a dataflowgraph the nodes are called operations, which represents unit of computation. The edges are tensors, which represents the data consumed or produced by an operation. In this graph, feature matrix is a placeholder. Placeholders can be seen as holes in your model. Holes through which you can pass the data from outside of your model.  Placeholders allow us to create our operations in the graph, without needing the data. When we want to execute the graph, we have to feed placeholders with our input data. This is why we need to initialize placeholders before using them."
   ]
  },
  {
   "cell_type": "code",
   "execution_count": null,
   "metadata": {},
   "outputs": [],
   "source": []
  }
 ],
 "metadata": {
  "kernelspec": {
   "display_name": "Python 3",
   "language": "python",
   "name": "python3"
  },
  "language_info": {
   "codemirror_mode": {
    "name": "ipython",
    "version": 3
   },
   "file_extension": ".py",
   "mimetype": "text/x-python",
   "name": "python",
   "nbconvert_exporter": "python",
   "pygments_lexer": "ipython3",
   "version": "3.8.5"
  }
 },
 "nbformat": 4,
 "nbformat_minor": 4
}
