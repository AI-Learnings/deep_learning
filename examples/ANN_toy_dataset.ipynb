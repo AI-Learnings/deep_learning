{
  "nbformat": 4,
  "nbformat_minor": 0,
  "metadata": {
    "colab": {
      "name": "ANN_toy_dataset.ipynb",
      "provenance": []
    },
    "kernelspec": {
      "name": "python3",
      "display_name": "Python 3"
    }
  },
  "cells": [
    {
      "cell_type": "code",
      "metadata": {
        "id": "lwQUGVyT9bYy"
      },
      "source": [
        "import numpy as np\r\n",
        "import pandas as pd\r\n",
        "import matplotlib.pyplot as plt\r\n",
        "import seaborn as sns\r\n",
        "from sklearn import model_selection, preprocessing, datasets\r\n",
        "\r\n",
        "from tensorflow.keras import layers, Sequential"
      ],
      "execution_count": 47,
      "outputs": []
    },
    {
      "cell_type": "markdown",
      "metadata": {
        "id": "GXHurJU_DuAH"
      },
      "source": [
        "# Housing Price"
      ]
    },
    {
      "cell_type": "code",
      "metadata": {
        "id": "dPONEcJI97kr"
      },
      "source": [
        "df = datasets.load_boston()"
      ],
      "execution_count": null,
      "outputs": []
    },
    {
      "cell_type": "code",
      "metadata": {
        "colab": {
          "base_uri": "https://localhost:8080/"
        },
        "id": "Fjjq8RsJ-UTd",
        "outputId": "93dc7323-ad28-4910-c9d1-1fcd9323e7e0"
      },
      "source": [
        "print(df.keys())"
      ],
      "execution_count": null,
      "outputs": [
        {
          "output_type": "stream",
          "text": [
            "dict_keys(['data', 'target', 'feature_names', 'DESCR', 'filename'])\n"
          ],
          "name": "stdout"
        }
      ]
    },
    {
      "cell_type": "code",
      "metadata": {
        "colab": {
          "base_uri": "https://localhost:8080/"
        },
        "id": "36vPFSvU-VgK",
        "outputId": "79b5c4c3-8c11-494d-fa09-e19f45105127"
      },
      "source": [
        "print(df['DESCR'])"
      ],
      "execution_count": null,
      "outputs": [
        {
          "output_type": "stream",
          "text": [
            ".. _boston_dataset:\n",
            "\n",
            "Boston house prices dataset\n",
            "---------------------------\n",
            "\n",
            "**Data Set Characteristics:**  \n",
            "\n",
            "    :Number of Instances: 506 \n",
            "\n",
            "    :Number of Attributes: 13 numeric/categorical predictive. Median Value (attribute 14) is usually the target.\n",
            "\n",
            "    :Attribute Information (in order):\n",
            "        - CRIM     per capita crime rate by town\n",
            "        - ZN       proportion of residential land zoned for lots over 25,000 sq.ft.\n",
            "        - INDUS    proportion of non-retail business acres per town\n",
            "        - CHAS     Charles River dummy variable (= 1 if tract bounds river; 0 otherwise)\n",
            "        - NOX      nitric oxides concentration (parts per 10 million)\n",
            "        - RM       average number of rooms per dwelling\n",
            "        - AGE      proportion of owner-occupied units built prior to 1940\n",
            "        - DIS      weighted distances to five Boston employment centres\n",
            "        - RAD      index of accessibility to radial highways\n",
            "        - TAX      full-value property-tax rate per $10,000\n",
            "        - PTRATIO  pupil-teacher ratio by town\n",
            "        - B        1000(Bk - 0.63)^2 where Bk is the proportion of blacks by town\n",
            "        - LSTAT    % lower status of the population\n",
            "        - MEDV     Median value of owner-occupied homes in $1000's\n",
            "\n",
            "    :Missing Attribute Values: None\n",
            "\n",
            "    :Creator: Harrison, D. and Rubinfeld, D.L.\n",
            "\n",
            "This is a copy of UCI ML housing dataset.\n",
            "https://archive.ics.uci.edu/ml/machine-learning-databases/housing/\n",
            "\n",
            "\n",
            "This dataset was taken from the StatLib library which is maintained at Carnegie Mellon University.\n",
            "\n",
            "The Boston house-price data of Harrison, D. and Rubinfeld, D.L. 'Hedonic\n",
            "prices and the demand for clean air', J. Environ. Economics & Management,\n",
            "vol.5, 81-102, 1978.   Used in Belsley, Kuh & Welsch, 'Regression diagnostics\n",
            "...', Wiley, 1980.   N.B. Various transformations are used in the table on\n",
            "pages 244-261 of the latter.\n",
            "\n",
            "The Boston house-price data has been used in many machine learning papers that address regression\n",
            "problems.   \n",
            "     \n",
            ".. topic:: References\n",
            "\n",
            "   - Belsley, Kuh & Welsch, 'Regression diagnostics: Identifying Influential Data and Sources of Collinearity', Wiley, 1980. 244-261.\n",
            "   - Quinlan,R. (1993). Combining Instance-Based and Model-Based Learning. In Proceedings on the Tenth International Conference of Machine Learning, 236-243, University of Massachusetts, Amherst. Morgan Kaufmann.\n",
            "\n"
          ],
          "name": "stdout"
        }
      ]
    },
    {
      "cell_type": "code",
      "metadata": {
        "id": "-WujkIe7-Zvm"
      },
      "source": [
        "X = pd.DataFrame(df['data'], columns=df['feature_names'])\r\n",
        "y = df['target']"
      ],
      "execution_count": null,
      "outputs": []
    },
    {
      "cell_type": "code",
      "metadata": {
        "colab": {
          "base_uri": "https://localhost:8080/"
        },
        "id": "kTrxeULQAhKe",
        "outputId": "6b3331e6-c5c1-4567-a0c1-1559ce88943b"
      },
      "source": [
        "X"
      ],
      "execution_count": null,
      "outputs": [
        {
          "output_type": "execute_result",
          "data": {
            "text/html": [
              "<div>\n",
              "<style scoped>\n",
              "    .dataframe tbody tr th:only-of-type {\n",
              "        vertical-align: middle;\n",
              "    }\n",
              "\n",
              "    .dataframe tbody tr th {\n",
              "        vertical-align: top;\n",
              "    }\n",
              "\n",
              "    .dataframe thead th {\n",
              "        text-align: right;\n",
              "    }\n",
              "</style>\n",
              "<table border=\"1\" class=\"dataframe\">\n",
              "  <thead>\n",
              "    <tr style=\"text-align: right;\">\n",
              "      <th></th>\n",
              "      <th>CRIM</th>\n",
              "      <th>ZN</th>\n",
              "      <th>INDUS</th>\n",
              "      <th>CHAS</th>\n",
              "      <th>NOX</th>\n",
              "      <th>RM</th>\n",
              "      <th>AGE</th>\n",
              "      <th>DIS</th>\n",
              "      <th>RAD</th>\n",
              "      <th>TAX</th>\n",
              "      <th>PTRATIO</th>\n",
              "      <th>B</th>\n",
              "      <th>LSTAT</th>\n",
              "    </tr>\n",
              "  </thead>\n",
              "  <tbody>\n",
              "    <tr>\n",
              "      <th>0</th>\n",
              "      <td>0.00632</td>\n",
              "      <td>18.0</td>\n",
              "      <td>2.31</td>\n",
              "      <td>0.0</td>\n",
              "      <td>0.538</td>\n",
              "      <td>6.575</td>\n",
              "      <td>65.2</td>\n",
              "      <td>4.0900</td>\n",
              "      <td>1.0</td>\n",
              "      <td>296.0</td>\n",
              "      <td>15.3</td>\n",
              "      <td>396.90</td>\n",
              "      <td>4.98</td>\n",
              "    </tr>\n",
              "    <tr>\n",
              "      <th>1</th>\n",
              "      <td>0.02731</td>\n",
              "      <td>0.0</td>\n",
              "      <td>7.07</td>\n",
              "      <td>0.0</td>\n",
              "      <td>0.469</td>\n",
              "      <td>6.421</td>\n",
              "      <td>78.9</td>\n",
              "      <td>4.9671</td>\n",
              "      <td>2.0</td>\n",
              "      <td>242.0</td>\n",
              "      <td>17.8</td>\n",
              "      <td>396.90</td>\n",
              "      <td>9.14</td>\n",
              "    </tr>\n",
              "    <tr>\n",
              "      <th>2</th>\n",
              "      <td>0.02729</td>\n",
              "      <td>0.0</td>\n",
              "      <td>7.07</td>\n",
              "      <td>0.0</td>\n",
              "      <td>0.469</td>\n",
              "      <td>7.185</td>\n",
              "      <td>61.1</td>\n",
              "      <td>4.9671</td>\n",
              "      <td>2.0</td>\n",
              "      <td>242.0</td>\n",
              "      <td>17.8</td>\n",
              "      <td>392.83</td>\n",
              "      <td>4.03</td>\n",
              "    </tr>\n",
              "    <tr>\n",
              "      <th>3</th>\n",
              "      <td>0.03237</td>\n",
              "      <td>0.0</td>\n",
              "      <td>2.18</td>\n",
              "      <td>0.0</td>\n",
              "      <td>0.458</td>\n",
              "      <td>6.998</td>\n",
              "      <td>45.8</td>\n",
              "      <td>6.0622</td>\n",
              "      <td>3.0</td>\n",
              "      <td>222.0</td>\n",
              "      <td>18.7</td>\n",
              "      <td>394.63</td>\n",
              "      <td>2.94</td>\n",
              "    </tr>\n",
              "    <tr>\n",
              "      <th>4</th>\n",
              "      <td>0.06905</td>\n",
              "      <td>0.0</td>\n",
              "      <td>2.18</td>\n",
              "      <td>0.0</td>\n",
              "      <td>0.458</td>\n",
              "      <td>7.147</td>\n",
              "      <td>54.2</td>\n",
              "      <td>6.0622</td>\n",
              "      <td>3.0</td>\n",
              "      <td>222.0</td>\n",
              "      <td>18.7</td>\n",
              "      <td>396.90</td>\n",
              "      <td>5.33</td>\n",
              "    </tr>\n",
              "    <tr>\n",
              "      <th>...</th>\n",
              "      <td>...</td>\n",
              "      <td>...</td>\n",
              "      <td>...</td>\n",
              "      <td>...</td>\n",
              "      <td>...</td>\n",
              "      <td>...</td>\n",
              "      <td>...</td>\n",
              "      <td>...</td>\n",
              "      <td>...</td>\n",
              "      <td>...</td>\n",
              "      <td>...</td>\n",
              "      <td>...</td>\n",
              "      <td>...</td>\n",
              "    </tr>\n",
              "    <tr>\n",
              "      <th>501</th>\n",
              "      <td>0.06263</td>\n",
              "      <td>0.0</td>\n",
              "      <td>11.93</td>\n",
              "      <td>0.0</td>\n",
              "      <td>0.573</td>\n",
              "      <td>6.593</td>\n",
              "      <td>69.1</td>\n",
              "      <td>2.4786</td>\n",
              "      <td>1.0</td>\n",
              "      <td>273.0</td>\n",
              "      <td>21.0</td>\n",
              "      <td>391.99</td>\n",
              "      <td>9.67</td>\n",
              "    </tr>\n",
              "    <tr>\n",
              "      <th>502</th>\n",
              "      <td>0.04527</td>\n",
              "      <td>0.0</td>\n",
              "      <td>11.93</td>\n",
              "      <td>0.0</td>\n",
              "      <td>0.573</td>\n",
              "      <td>6.120</td>\n",
              "      <td>76.7</td>\n",
              "      <td>2.2875</td>\n",
              "      <td>1.0</td>\n",
              "      <td>273.0</td>\n",
              "      <td>21.0</td>\n",
              "      <td>396.90</td>\n",
              "      <td>9.08</td>\n",
              "    </tr>\n",
              "    <tr>\n",
              "      <th>503</th>\n",
              "      <td>0.06076</td>\n",
              "      <td>0.0</td>\n",
              "      <td>11.93</td>\n",
              "      <td>0.0</td>\n",
              "      <td>0.573</td>\n",
              "      <td>6.976</td>\n",
              "      <td>91.0</td>\n",
              "      <td>2.1675</td>\n",
              "      <td>1.0</td>\n",
              "      <td>273.0</td>\n",
              "      <td>21.0</td>\n",
              "      <td>396.90</td>\n",
              "      <td>5.64</td>\n",
              "    </tr>\n",
              "    <tr>\n",
              "      <th>504</th>\n",
              "      <td>0.10959</td>\n",
              "      <td>0.0</td>\n",
              "      <td>11.93</td>\n",
              "      <td>0.0</td>\n",
              "      <td>0.573</td>\n",
              "      <td>6.794</td>\n",
              "      <td>89.3</td>\n",
              "      <td>2.3889</td>\n",
              "      <td>1.0</td>\n",
              "      <td>273.0</td>\n",
              "      <td>21.0</td>\n",
              "      <td>393.45</td>\n",
              "      <td>6.48</td>\n",
              "    </tr>\n",
              "    <tr>\n",
              "      <th>505</th>\n",
              "      <td>0.04741</td>\n",
              "      <td>0.0</td>\n",
              "      <td>11.93</td>\n",
              "      <td>0.0</td>\n",
              "      <td>0.573</td>\n",
              "      <td>6.030</td>\n",
              "      <td>80.8</td>\n",
              "      <td>2.5050</td>\n",
              "      <td>1.0</td>\n",
              "      <td>273.0</td>\n",
              "      <td>21.0</td>\n",
              "      <td>396.90</td>\n",
              "      <td>7.88</td>\n",
              "    </tr>\n",
              "  </tbody>\n",
              "</table>\n",
              "<p>506 rows × 13 columns</p>\n",
              "</div>"
            ],
            "text/plain": [
              "        CRIM    ZN  INDUS  CHAS    NOX  ...  RAD    TAX  PTRATIO       B  LSTAT\n",
              "0    0.00632  18.0   2.31   0.0  0.538  ...  1.0  296.0     15.3  396.90   4.98\n",
              "1    0.02731   0.0   7.07   0.0  0.469  ...  2.0  242.0     17.8  396.90   9.14\n",
              "2    0.02729   0.0   7.07   0.0  0.469  ...  2.0  242.0     17.8  392.83   4.03\n",
              "3    0.03237   0.0   2.18   0.0  0.458  ...  3.0  222.0     18.7  394.63   2.94\n",
              "4    0.06905   0.0   2.18   0.0  0.458  ...  3.0  222.0     18.7  396.90   5.33\n",
              "..       ...   ...    ...   ...    ...  ...  ...    ...      ...     ...    ...\n",
              "501  0.06263   0.0  11.93   0.0  0.573  ...  1.0  273.0     21.0  391.99   9.67\n",
              "502  0.04527   0.0  11.93   0.0  0.573  ...  1.0  273.0     21.0  396.90   9.08\n",
              "503  0.06076   0.0  11.93   0.0  0.573  ...  1.0  273.0     21.0  396.90   5.64\n",
              "504  0.10959   0.0  11.93   0.0  0.573  ...  1.0  273.0     21.0  393.45   6.48\n",
              "505  0.04741   0.0  11.93   0.0  0.573  ...  1.0  273.0     21.0  396.90   7.88\n",
              "\n",
              "[506 rows x 13 columns]"
            ]
          },
          "metadata": {
            "tags": []
          },
          "execution_count": 6
        }
      ]
    },
    {
      "cell_type": "code",
      "metadata": {
        "colab": {
          "base_uri": "https://localhost:8080/"
        },
        "id": "h3gSjhXOAiIB",
        "outputId": "1d771d93-8602-4d3f-c97a-4a1f36fa179d"
      },
      "source": [
        "X.info()"
      ],
      "execution_count": null,
      "outputs": [
        {
          "output_type": "stream",
          "text": [
            "<class 'pandas.core.frame.DataFrame'>\n",
            "RangeIndex: 506 entries, 0 to 505\n",
            "Data columns (total 13 columns):\n",
            " #   Column   Non-Null Count  Dtype  \n",
            "---  ------   --------------  -----  \n",
            " 0   CRIM     506 non-null    float64\n",
            " 1   ZN       506 non-null    float64\n",
            " 2   INDUS    506 non-null    float64\n",
            " 3   CHAS     506 non-null    float64\n",
            " 4   NOX      506 non-null    float64\n",
            " 5   RM       506 non-null    float64\n",
            " 6   AGE      506 non-null    float64\n",
            " 7   DIS      506 non-null    float64\n",
            " 8   RAD      506 non-null    float64\n",
            " 9   TAX      506 non-null    float64\n",
            " 10  PTRATIO  506 non-null    float64\n",
            " 11  B        506 non-null    float64\n",
            " 12  LSTAT    506 non-null    float64\n",
            "dtypes: float64(13)\n",
            "memory usage: 51.5 KB\n"
          ],
          "name": "stdout"
        }
      ]
    },
    {
      "cell_type": "code",
      "metadata": {
        "id": "jwSkiHySAj8E"
      },
      "source": [
        "X_tr, X_te, y_tr, y_te = model_selection.train_test_split(X,y,test_size=0.1)"
      ],
      "execution_count": null,
      "outputs": []
    },
    {
      "cell_type": "code",
      "metadata": {
        "id": "RTbsPjuAAtoP"
      },
      "source": [
        "from tensorflow.keras import layers, Sequential"
      ],
      "execution_count": null,
      "outputs": []
    },
    {
      "cell_type": "code",
      "metadata": {
        "id": "i4dimzAVA502"
      },
      "source": [
        "model = Sequential([\r\n",
        "                    layers.BatchNormalization(input_shape=(13,)),\r\n",
        "                    layers.Dense(13, input_shape=(13,)),\r\n",
        "                    layers.Dense(128, activation='relu'),\r\n",
        "                    layers.BatchNormalization(),\r\n",
        "                    layers.Dense(128, activation='relu'),\r\n",
        "                    layers.BatchNormalization(),\r\n",
        "                    layers.Dense(128, activation='relu'),\r\n",
        "                    layers.Dense(1, activation='linear')\r\n",
        "])\r\n",
        "\r\n",
        "model.compile(optimizer='adam', loss='mean_squared_error')"
      ],
      "execution_count": null,
      "outputs": []
    },
    {
      "cell_type": "code",
      "metadata": {
        "colab": {
          "base_uri": "https://localhost:8080/"
        },
        "id": "3c9_ZWXHBmE-",
        "outputId": "0ba0fd69-f1b5-4f29-9042-3b355956f64e"
      },
      "source": [
        "history = model.fit(X_tr, y_tr, validation_data=(X_te,y_te), epochs=100)"
      ],
      "execution_count": null,
      "outputs": [
        {
          "output_type": "stream",
          "text": [
            "Epoch 1/100\n",
            "15/15 [==============================] - 1s 44ms/step - loss: 540.1371 - val_loss: 412.3410\n",
            "Epoch 2/100\n",
            "15/15 [==============================] - 0s 5ms/step - loss: 320.6508 - val_loss: 326.6709\n",
            "Epoch 3/100\n",
            "15/15 [==============================] - 0s 5ms/step - loss: 152.8001 - val_loss: 276.2101\n",
            "Epoch 4/100\n",
            "15/15 [==============================] - 0s 4ms/step - loss: 74.9353 - val_loss: 259.1942\n",
            "Epoch 5/100\n",
            "15/15 [==============================] - 0s 5ms/step - loss: 32.6948 - val_loss: 227.8136\n",
            "Epoch 6/100\n",
            "15/15 [==============================] - 0s 5ms/step - loss: 26.4102 - val_loss: 185.6506\n",
            "Epoch 7/100\n",
            "15/15 [==============================] - 0s 5ms/step - loss: 25.8202 - val_loss: 171.6028\n",
            "Epoch 8/100\n",
            "15/15 [==============================] - 0s 5ms/step - loss: 25.4665 - val_loss: 142.0310\n",
            "Epoch 9/100\n",
            "15/15 [==============================] - 0s 5ms/step - loss: 24.7103 - val_loss: 122.3148\n",
            "Epoch 10/100\n",
            "15/15 [==============================] - 0s 5ms/step - loss: 17.9707 - val_loss: 101.9811\n",
            "Epoch 11/100\n",
            "15/15 [==============================] - 0s 5ms/step - loss: 11.9394 - val_loss: 88.3925\n",
            "Epoch 12/100\n",
            "15/15 [==============================] - 0s 4ms/step - loss: 13.7973 - val_loss: 71.1448\n",
            "Epoch 13/100\n",
            "15/15 [==============================] - 0s 5ms/step - loss: 14.8532 - val_loss: 74.5091\n",
            "Epoch 14/100\n",
            "15/15 [==============================] - 0s 4ms/step - loss: 18.0338 - val_loss: 46.3813\n",
            "Epoch 15/100\n",
            "15/15 [==============================] - 0s 4ms/step - loss: 16.9589 - val_loss: 51.3441\n",
            "Epoch 16/100\n",
            "15/15 [==============================] - 0s 5ms/step - loss: 15.1998 - val_loss: 36.9707\n",
            "Epoch 17/100\n",
            "15/15 [==============================] - 0s 4ms/step - loss: 16.3668 - val_loss: 34.9319\n",
            "Epoch 18/100\n",
            "15/15 [==============================] - 0s 5ms/step - loss: 11.5332 - val_loss: 27.4232\n",
            "Epoch 19/100\n",
            "15/15 [==============================] - 0s 5ms/step - loss: 15.4494 - val_loss: 22.5048\n",
            "Epoch 20/100\n",
            "15/15 [==============================] - 0s 4ms/step - loss: 10.5591 - val_loss: 21.4156\n",
            "Epoch 21/100\n",
            "15/15 [==============================] - 0s 5ms/step - loss: 11.3850 - val_loss: 15.9730\n",
            "Epoch 22/100\n",
            "15/15 [==============================] - 0s 5ms/step - loss: 11.7965 - val_loss: 17.6763\n",
            "Epoch 23/100\n",
            "15/15 [==============================] - 0s 4ms/step - loss: 11.0033 - val_loss: 14.1352\n",
            "Epoch 24/100\n",
            "15/15 [==============================] - 0s 5ms/step - loss: 10.5891 - val_loss: 11.6448\n",
            "Epoch 25/100\n",
            "15/15 [==============================] - 0s 5ms/step - loss: 14.4940 - val_loss: 13.0062\n",
            "Epoch 26/100\n",
            "15/15 [==============================] - 0s 5ms/step - loss: 13.5724 - val_loss: 11.5561\n",
            "Epoch 27/100\n",
            "15/15 [==============================] - 0s 5ms/step - loss: 11.5663 - val_loss: 10.1865\n",
            "Epoch 28/100\n",
            "15/15 [==============================] - 0s 5ms/step - loss: 10.9835 - val_loss: 10.1230\n",
            "Epoch 29/100\n",
            "15/15 [==============================] - 0s 6ms/step - loss: 8.8392 - val_loss: 8.9442\n",
            "Epoch 30/100\n",
            "15/15 [==============================] - 0s 5ms/step - loss: 11.3400 - val_loss: 8.3736\n",
            "Epoch 31/100\n",
            "15/15 [==============================] - 0s 5ms/step - loss: 9.5890 - val_loss: 8.7832\n",
            "Epoch 32/100\n",
            "15/15 [==============================] - 0s 5ms/step - loss: 11.4191 - val_loss: 8.5100\n",
            "Epoch 33/100\n",
            "15/15 [==============================] - 0s 5ms/step - loss: 9.8142 - val_loss: 8.4764\n",
            "Epoch 34/100\n",
            "15/15 [==============================] - 0s 5ms/step - loss: 11.0346 - val_loss: 8.0881\n",
            "Epoch 35/100\n",
            "15/15 [==============================] - 0s 5ms/step - loss: 8.4511 - val_loss: 8.2565\n",
            "Epoch 36/100\n",
            "15/15 [==============================] - 0s 5ms/step - loss: 7.4887 - val_loss: 8.7949\n",
            "Epoch 37/100\n",
            "15/15 [==============================] - 0s 5ms/step - loss: 8.3197 - val_loss: 8.8810\n",
            "Epoch 38/100\n",
            "15/15 [==============================] - 0s 5ms/step - loss: 10.0664 - val_loss: 10.4393\n",
            "Epoch 39/100\n",
            "15/15 [==============================] - 0s 5ms/step - loss: 9.9393 - val_loss: 8.7096\n",
            "Epoch 40/100\n",
            "15/15 [==============================] - 0s 5ms/step - loss: 9.2078 - val_loss: 14.1702\n",
            "Epoch 41/100\n",
            "15/15 [==============================] - 0s 5ms/step - loss: 12.7261 - val_loss: 11.8378\n",
            "Epoch 42/100\n",
            "15/15 [==============================] - 0s 5ms/step - loss: 9.0777 - val_loss: 13.5810\n",
            "Epoch 43/100\n",
            "15/15 [==============================] - 0s 5ms/step - loss: 9.2372 - val_loss: 8.5945\n",
            "Epoch 44/100\n",
            "15/15 [==============================] - 0s 5ms/step - loss: 11.9349 - val_loss: 12.8622\n",
            "Epoch 45/100\n",
            "15/15 [==============================] - 0s 5ms/step - loss: 11.5908 - val_loss: 10.9216\n",
            "Epoch 46/100\n",
            "15/15 [==============================] - 0s 5ms/step - loss: 10.0182 - val_loss: 9.3841\n",
            "Epoch 47/100\n",
            "15/15 [==============================] - 0s 5ms/step - loss: 11.1937 - val_loss: 11.2252\n",
            "Epoch 48/100\n",
            "15/15 [==============================] - 0s 5ms/step - loss: 8.4234 - val_loss: 13.1579\n",
            "Epoch 49/100\n",
            "15/15 [==============================] - 0s 5ms/step - loss: 8.5064 - val_loss: 12.4407\n",
            "Epoch 50/100\n",
            "15/15 [==============================] - 0s 5ms/step - loss: 11.2503 - val_loss: 10.0830\n",
            "Epoch 51/100\n",
            "15/15 [==============================] - 0s 5ms/step - loss: 8.8364 - val_loss: 11.3579\n",
            "Epoch 52/100\n",
            "15/15 [==============================] - 0s 5ms/step - loss: 9.7901 - val_loss: 9.8224\n",
            "Epoch 53/100\n",
            "15/15 [==============================] - 0s 5ms/step - loss: 10.1849 - val_loss: 10.0048\n",
            "Epoch 54/100\n",
            "15/15 [==============================] - 0s 14ms/step - loss: 7.4282 - val_loss: 13.4158\n",
            "Epoch 55/100\n",
            "15/15 [==============================] - 0s 5ms/step - loss: 5.3096 - val_loss: 10.8375\n",
            "Epoch 56/100\n",
            "15/15 [==============================] - 0s 5ms/step - loss: 11.5413 - val_loss: 10.1188\n",
            "Epoch 57/100\n",
            "15/15 [==============================] - 0s 5ms/step - loss: 8.4796 - val_loss: 11.0528\n",
            "Epoch 58/100\n",
            "15/15 [==============================] - 0s 5ms/step - loss: 8.4581 - val_loss: 12.0190\n",
            "Epoch 59/100\n",
            "15/15 [==============================] - 0s 5ms/step - loss: 7.8476 - val_loss: 19.5821\n",
            "Epoch 60/100\n",
            "15/15 [==============================] - 0s 5ms/step - loss: 11.9695 - val_loss: 10.1902\n",
            "Epoch 61/100\n",
            "15/15 [==============================] - 0s 8ms/step - loss: 7.7460 - val_loss: 12.6019\n",
            "Epoch 62/100\n",
            "15/15 [==============================] - 0s 5ms/step - loss: 8.2575 - val_loss: 10.1880\n",
            "Epoch 63/100\n",
            "15/15 [==============================] - 0s 5ms/step - loss: 8.3849 - val_loss: 8.3711\n",
            "Epoch 64/100\n",
            "15/15 [==============================] - 0s 5ms/step - loss: 9.0725 - val_loss: 9.7496\n",
            "Epoch 65/100\n",
            "15/15 [==============================] - 0s 5ms/step - loss: 7.3548 - val_loss: 8.0145\n",
            "Epoch 66/100\n",
            "15/15 [==============================] - 0s 5ms/step - loss: 9.5773 - val_loss: 9.9847\n",
            "Epoch 67/100\n",
            "15/15 [==============================] - 0s 5ms/step - loss: 7.7141 - val_loss: 11.0003\n",
            "Epoch 68/100\n",
            "15/15 [==============================] - 0s 5ms/step - loss: 6.0451 - val_loss: 8.9249\n",
            "Epoch 69/100\n",
            "15/15 [==============================] - 0s 5ms/step - loss: 7.2353 - val_loss: 10.3567\n",
            "Epoch 70/100\n",
            "15/15 [==============================] - 0s 5ms/step - loss: 11.6182 - val_loss: 13.3625\n",
            "Epoch 71/100\n",
            "15/15 [==============================] - 0s 6ms/step - loss: 10.1364 - val_loss: 9.8433\n",
            "Epoch 72/100\n",
            "15/15 [==============================] - 0s 5ms/step - loss: 11.0554 - val_loss: 12.1980\n",
            "Epoch 73/100\n",
            "15/15 [==============================] - 0s 5ms/step - loss: 9.2055 - val_loss: 9.3988\n",
            "Epoch 74/100\n",
            "15/15 [==============================] - 0s 5ms/step - loss: 8.1346 - val_loss: 7.5960\n",
            "Epoch 75/100\n",
            "15/15 [==============================] - 0s 5ms/step - loss: 9.6929 - val_loss: 8.0820\n",
            "Epoch 76/100\n",
            "15/15 [==============================] - 0s 5ms/step - loss: 7.4539 - val_loss: 8.6063\n",
            "Epoch 77/100\n",
            "15/15 [==============================] - 0s 5ms/step - loss: 6.4102 - val_loss: 7.4546\n",
            "Epoch 78/100\n",
            "15/15 [==============================] - 0s 5ms/step - loss: 8.3077 - val_loss: 7.9446\n",
            "Epoch 79/100\n",
            "15/15 [==============================] - 0s 5ms/step - loss: 6.1835 - val_loss: 7.9300\n",
            "Epoch 80/100\n",
            "15/15 [==============================] - 0s 5ms/step - loss: 6.3035 - val_loss: 8.9106\n",
            "Epoch 81/100\n",
            "15/15 [==============================] - 0s 5ms/step - loss: 8.0498 - val_loss: 8.2865\n",
            "Epoch 82/100\n",
            "15/15 [==============================] - 0s 5ms/step - loss: 9.9790 - val_loss: 10.4164\n",
            "Epoch 83/100\n",
            "15/15 [==============================] - 0s 5ms/step - loss: 9.3901 - val_loss: 9.3136\n",
            "Epoch 84/100\n",
            "15/15 [==============================] - 0s 5ms/step - loss: 7.2964 - val_loss: 8.4213\n",
            "Epoch 85/100\n",
            "15/15 [==============================] - 0s 5ms/step - loss: 10.5658 - val_loss: 7.3256\n",
            "Epoch 86/100\n",
            "15/15 [==============================] - 0s 5ms/step - loss: 7.1864 - val_loss: 7.0709\n",
            "Epoch 87/100\n",
            "15/15 [==============================] - 0s 5ms/step - loss: 6.6397 - val_loss: 6.8652\n",
            "Epoch 88/100\n",
            "15/15 [==============================] - 0s 5ms/step - loss: 9.6330 - val_loss: 7.6941\n",
            "Epoch 89/100\n",
            "15/15 [==============================] - 0s 5ms/step - loss: 6.5137 - val_loss: 7.8411\n",
            "Epoch 90/100\n",
            "15/15 [==============================] - 0s 5ms/step - loss: 5.4493 - val_loss: 7.1914\n",
            "Epoch 91/100\n",
            "15/15 [==============================] - 0s 5ms/step - loss: 6.6370 - val_loss: 7.9065\n",
            "Epoch 92/100\n",
            "15/15 [==============================] - 0s 5ms/step - loss: 5.7064 - val_loss: 7.5106\n",
            "Epoch 93/100\n",
            "15/15 [==============================] - 0s 5ms/step - loss: 7.9120 - val_loss: 9.2290\n",
            "Epoch 94/100\n",
            "15/15 [==============================] - 0s 5ms/step - loss: 5.1700 - val_loss: 9.4559\n",
            "Epoch 95/100\n",
            "15/15 [==============================] - 0s 5ms/step - loss: 6.2433 - val_loss: 9.3923\n",
            "Epoch 96/100\n",
            "15/15 [==============================] - 0s 5ms/step - loss: 9.6574 - val_loss: 7.7787\n",
            "Epoch 97/100\n",
            "15/15 [==============================] - 0s 5ms/step - loss: 7.1052 - val_loss: 8.2157\n",
            "Epoch 98/100\n",
            "15/15 [==============================] - 0s 6ms/step - loss: 9.1116 - val_loss: 9.3087\n",
            "Epoch 99/100\n",
            "15/15 [==============================] - 0s 5ms/step - loss: 9.6996 - val_loss: 8.7161\n",
            "Epoch 100/100\n",
            "15/15 [==============================] - 0s 5ms/step - loss: 5.5210 - val_loss: 9.6231\n"
          ],
          "name": "stdout"
        }
      ]
    },
    {
      "cell_type": "code",
      "metadata": {
        "colab": {
          "base_uri": "https://localhost:8080/"
        },
        "id": "JUkMXojbCuDm",
        "outputId": "d1f19a73-2e61-4888-e745-3c2ea6dcdb5f"
      },
      "source": [
        "plt.plot(range(100), history.history['loss'])\r\n",
        "plt.plot(range(100), history.history['val_loss'])\r\n",
        "plt.legend(['train_loss','val_lss'])\r\n",
        "plt.show()"
      ],
      "execution_count": null,
      "outputs": [
        {
          "output_type": "display_data",
          "data": {
            "image/png": "[encoded data removed]",
            "text/plain": [
              "<Figure size 432x288 with 1 Axes>"
            ]
          },
          "metadata": {
            "tags": [],
            "needs_background": "light"
          }
        }
      ]
    },
    {
      "cell_type": "code",
      "metadata": {
        "colab": {
          "base_uri": "https://localhost:8080/"
        },
        "id": "2H6Bnqr_C6iU",
        "outputId": "a805f052-88af-4be6-b493-837380509bb1"
      },
      "source": [
        "y_pred = model.predict(X_te)\r\n",
        "plt.scatter(y_te, y_pred)"
      ],
      "execution_count": null,
      "outputs": [
        {
          "output_type": "execute_result",
          "data": {
            "text/plain": [
              "<matplotlib.collections.PathCollection at 0x7f7b60828208>"
            ]
          },
          "metadata": {
            "tags": []
          },
          "execution_count": 13
        },
        {
          "output_type": "display_data",
          "data": {
            "image/png": "[encoded data removed]",
            "text/plain": [
              "<Figure size 432x288 with 1 Axes>"
            ]
          },
          "metadata": {
            "tags": [],
            "needs_background": "light"
          }
        }
      ]
    },
    {
      "cell_type": "code",
      "metadata": {
        "colab": {
          "base_uri": "https://localhost:8080/"
        },
        "id": "1pWNLPXgD1OM",
        "outputId": "8049453f-94fe-4117-ed29-3ff241d5bdfd"
      },
      "source": [
        "y_pred = y_pred.flatten()\r\n",
        "err = np.round(y_te - y_pred, 2)\r\n",
        "err"
      ],
      "execution_count": null,
      "outputs": [
        {
          "output_type": "execute_result",
          "data": {
            "text/plain": [
              "array([ 1.44,  0.34, -5.39,  0.81,  0.9 , -3.89,  0.98,  0.77, -0.08,\n",
              "        1.28,  0.45,  0.49,  1.16, -1.68, -5.03, -0.85, -1.71, -0.84,\n",
              "       -1.3 , -5.3 , -9.81, -0.2 , -0.7 , -0.51,  0.21, -2.83, -0.56,\n",
              "        1.01, -4.91,  7.82, -2.12, -5.29, -2.72, -0.42,  0.33,  0.1 ,\n",
              "        6.73,  1.66,  0.62, -2.09,  1.  ,  0.9 , -0.69,  6.98,  0.9 ,\n",
              "        0.02,  3.66, -0.27, -4.94, -1.1 , -0.36])"
            ]
          },
          "metadata": {
            "tags": []
          },
          "execution_count": 14
        }
      ]
    },
    {
      "cell_type": "markdown",
      "metadata": {
        "id": "79VLD412G8Nz"
      },
      "source": [
        "# Iris dataset\r\n"
      ]
    },
    {
      "cell_type": "code",
      "metadata": {
        "id": "dDjJPsOMP3Z7"
      },
      "source": [
        "from keras.utils.np_utils import to_categorical\r\n",
        "from sklearn.utils import shuffle"
      ],
      "execution_count": null,
      "outputs": []
    },
    {
      "cell_type": "code",
      "metadata": {
        "id": "pDzXu0oXEExP"
      },
      "source": [
        "data = datasets.load_iris()"
      ],
      "execution_count": null,
      "outputs": []
    },
    {
      "cell_type": "code",
      "metadata": {
        "colab": {
          "base_uri": "https://localhost:8080/"
        },
        "id": "bZGkmyr2HarU",
        "outputId": "f55154cc-7f0c-46d5-c3c9-7f49d628e030"
      },
      "source": [
        "data.keys()"
      ],
      "execution_count": null,
      "outputs": [
        {
          "output_type": "execute_result",
          "data": {
            "text/plain": [
              "dict_keys(['data', 'target', 'target_names', 'DESCR', 'feature_names', 'filename'])"
            ]
          },
          "metadata": {
            "tags": []
          },
          "execution_count": 17
        }
      ]
    },
    {
      "cell_type": "code",
      "metadata": {
        "colab": {
          "base_uri": "https://localhost:8080/"
        },
        "id": "su__bHr4HepF",
        "outputId": "a477a534-6ac1-4041-85e3-94bab1ce7823"
      },
      "source": [
        " X = pd.DataFrame(data['data'], columns=data['feature_names'])\r\n",
        " y = pd.Series(data['target'])\r\n",
        " y.name = data['target_names'][0]\r\n",
        " y.value_counts()"
      ],
      "execution_count": null,
      "outputs": [
        {
          "output_type": "execute_result",
          "data": {
            "text/plain": [
              "2    50\n",
              "1    50\n",
              "0    50\n",
              "Name: setosa, dtype: int64"
            ]
          },
          "metadata": {
            "tags": []
          },
          "execution_count": 18
        }
      ]
    },
    {
      "cell_type": "code",
      "metadata": {
        "colab": {
          "base_uri": "https://localhost:8080/"
        },
        "id": "A3s2ChUQPZQn",
        "outputId": "be598bd0-ec46-45e9-8390-32a23d86dff5"
      },
      "source": [
        "enc = preprocessing.LabelEncoder()\r\n",
        "y = enc.fit_transform(y)\r\n",
        "y = to_categorical(y)\r\n",
        "y"
      ],
      "execution_count": null,
      "outputs": [
        {
          "output_type": "execute_result",
          "data": {
            "text/plain": [
              "array([[1., 0., 0.],\n",
              "       [1., 0., 0.],\n",
              "       [1., 0., 0.],\n",
              "       [1., 0., 0.],\n",
              "       [1., 0., 0.],\n",
              "       [1., 0., 0.],\n",
              "       [1., 0., 0.],\n",
              "       [1., 0., 0.],\n",
              "       [1., 0., 0.],\n",
              "       [1., 0., 0.],\n",
              "       [1., 0., 0.],\n",
              "       [1., 0., 0.],\n",
              "       [1., 0., 0.],\n",
              "       [1., 0., 0.],\n",
              "       [1., 0., 0.],\n",
              "       [1., 0., 0.],\n",
              "       [1., 0., 0.],\n",
              "       [1., 0., 0.],\n",
              "       [1., 0., 0.],\n",
              "       [1., 0., 0.],\n",
              "       [1., 0., 0.],\n",
              "       [1., 0., 0.],\n",
              "       [1., 0., 0.],\n",
              "       [1., 0., 0.],\n",
              "       [1., 0., 0.],\n",
              "       [1., 0., 0.],\n",
              "       [1., 0., 0.],\n",
              "       [1., 0., 0.],\n",
              "       [1., 0., 0.],\n",
              "       [1., 0., 0.],\n",
              "       [1., 0., 0.],\n",
              "       [1., 0., 0.],\n",
              "       [1., 0., 0.],\n",
              "       [1., 0., 0.],\n",
              "       [1., 0., 0.],\n",
              "       [1., 0., 0.],\n",
              "       [1., 0., 0.],\n",
              "       [1., 0., 0.],\n",
              "       [1., 0., 0.],\n",
              "       [1., 0., 0.],\n",
              "       [1., 0., 0.],\n",
              "       [1., 0., 0.],\n",
              "       [1., 0., 0.],\n",
              "       [1., 0., 0.],\n",
              "       [1., 0., 0.],\n",
              "       [1., 0., 0.],\n",
              "       [1., 0., 0.],\n",
              "       [1., 0., 0.],\n",
              "       [1., 0., 0.],\n",
              "       [1., 0., 0.],\n",
              "       [0., 1., 0.],\n",
              "       [0., 1., 0.],\n",
              "       [0., 1., 0.],\n",
              "       [0., 1., 0.],\n",
              "       [0., 1., 0.],\n",
              "       [0., 1., 0.],\n",
              "       [0., 1., 0.],\n",
              "       [0., 1., 0.],\n",
              "       [0., 1., 0.],\n",
              "       [0., 1., 0.],\n",
              "       [0., 1., 0.],\n",
              "       [0., 1., 0.],\n",
              "       [0., 1., 0.],\n",
              "       [0., 1., 0.],\n",
              "       [0., 1., 0.],\n",
              "       [0., 1., 0.],\n",
              "       [0., 1., 0.],\n",
              "       [0., 1., 0.],\n",
              "       [0., 1., 0.],\n",
              "       [0., 1., 0.],\n",
              "       [0., 1., 0.],\n",
              "       [0., 1., 0.],\n",
              "       [0., 1., 0.],\n",
              "       [0., 1., 0.],\n",
              "       [0., 1., 0.],\n",
              "       [0., 1., 0.],\n",
              "       [0., 1., 0.],\n",
              "       [0., 1., 0.],\n",
              "       [0., 1., 0.],\n",
              "       [0., 1., 0.],\n",
              "       [0., 1., 0.],\n",
              "       [0., 1., 0.],\n",
              "       [0., 1., 0.],\n",
              "       [0., 1., 0.],\n",
              "       [0., 1., 0.],\n",
              "       [0., 1., 0.],\n",
              "       [0., 1., 0.],\n",
              "       [0., 1., 0.],\n",
              "       [0., 1., 0.],\n",
              "       [0., 1., 0.],\n",
              "       [0., 1., 0.],\n",
              "       [0., 1., 0.],\n",
              "       [0., 1., 0.],\n",
              "       [0., 1., 0.],\n",
              "       [0., 1., 0.],\n",
              "       [0., 1., 0.],\n",
              "       [0., 1., 0.],\n",
              "       [0., 1., 0.],\n",
              "       [0., 1., 0.],\n",
              "       [0., 1., 0.],\n",
              "       [0., 0., 1.],\n",
              "       [0., 0., 1.],\n",
              "       [0., 0., 1.],\n",
              "       [0., 0., 1.],\n",
              "       [0., 0., 1.],\n",
              "       [0., 0., 1.],\n",
              "       [0., 0., 1.],\n",
              "       [0., 0., 1.],\n",
              "       [0., 0., 1.],\n",
              "       [0., 0., 1.],\n",
              "       [0., 0., 1.],\n",
              "       [0., 0., 1.],\n",
              "       [0., 0., 1.],\n",
              "       [0., 0., 1.],\n",
              "       [0., 0., 1.],\n",
              "       [0., 0., 1.],\n",
              "       [0., 0., 1.],\n",
              "       [0., 0., 1.],\n",
              "       [0., 0., 1.],\n",
              "       [0., 0., 1.],\n",
              "       [0., 0., 1.],\n",
              "       [0., 0., 1.],\n",
              "       [0., 0., 1.],\n",
              "       [0., 0., 1.],\n",
              "       [0., 0., 1.],\n",
              "       [0., 0., 1.],\n",
              "       [0., 0., 1.],\n",
              "       [0., 0., 1.],\n",
              "       [0., 0., 1.],\n",
              "       [0., 0., 1.],\n",
              "       [0., 0., 1.],\n",
              "       [0., 0., 1.],\n",
              "       [0., 0., 1.],\n",
              "       [0., 0., 1.],\n",
              "       [0., 0., 1.],\n",
              "       [0., 0., 1.],\n",
              "       [0., 0., 1.],\n",
              "       [0., 0., 1.],\n",
              "       [0., 0., 1.],\n",
              "       [0., 0., 1.],\n",
              "       [0., 0., 1.],\n",
              "       [0., 0., 1.],\n",
              "       [0., 0., 1.],\n",
              "       [0., 0., 1.],\n",
              "       [0., 0., 1.],\n",
              "       [0., 0., 1.],\n",
              "       [0., 0., 1.],\n",
              "       [0., 0., 1.],\n",
              "       [0., 0., 1.],\n",
              "       [0., 0., 1.]], dtype=float32)"
            ]
          },
          "metadata": {
            "tags": []
          },
          "execution_count": 19
        }
      ]
    },
    {
      "cell_type": "code",
      "metadata": {
        "colab": {
          "base_uri": "https://localhost:8080/",
          "height": 419
        },
        "id": "xF9fgHvLJE_O",
        "outputId": "749310dd-8230-4dce-b612-e27854dfeeef"
      },
      "source": [
        "X"
      ],
      "execution_count": null,
      "outputs": [
        {
          "output_type": "execute_result",
          "data": {
            "text/html": [
              "<div>\n",
              "<style scoped>\n",
              "    .dataframe tbody tr th:only-of-type {\n",
              "        vertical-align: middle;\n",
              "    }\n",
              "\n",
              "    .dataframe tbody tr th {\n",
              "        vertical-align: top;\n",
              "    }\n",
              "\n",
              "    .dataframe thead th {\n",
              "        text-align: right;\n",
              "    }\n",
              "</style>\n",
              "<table border=\"1\" class=\"dataframe\">\n",
              "  <thead>\n",
              "    <tr style=\"text-align: right;\">\n",
              "      <th></th>\n",
              "      <th>sepal length (cm)</th>\n",
              "      <th>sepal width (cm)</th>\n",
              "      <th>petal length (cm)</th>\n",
              "      <th>petal width (cm)</th>\n",
              "    </tr>\n",
              "  </thead>\n",
              "  <tbody>\n",
              "    <tr>\n",
              "      <th>0</th>\n",
              "      <td>5.1</td>\n",
              "      <td>3.5</td>\n",
              "      <td>1.4</td>\n",
              "      <td>0.2</td>\n",
              "    </tr>\n",
              "    <tr>\n",
              "      <th>1</th>\n",
              "      <td>4.9</td>\n",
              "      <td>3.0</td>\n",
              "      <td>1.4</td>\n",
              "      <td>0.2</td>\n",
              "    </tr>\n",
              "    <tr>\n",
              "      <th>2</th>\n",
              "      <td>4.7</td>\n",
              "      <td>3.2</td>\n",
              "      <td>1.3</td>\n",
              "      <td>0.2</td>\n",
              "    </tr>\n",
              "    <tr>\n",
              "      <th>3</th>\n",
              "      <td>4.6</td>\n",
              "      <td>3.1</td>\n",
              "      <td>1.5</td>\n",
              "      <td>0.2</td>\n",
              "    </tr>\n",
              "    <tr>\n",
              "      <th>4</th>\n",
              "      <td>5.0</td>\n",
              "      <td>3.6</td>\n",
              "      <td>1.4</td>\n",
              "      <td>0.2</td>\n",
              "    </tr>\n",
              "    <tr>\n",
              "      <th>...</th>\n",
              "      <td>...</td>\n",
              "      <td>...</td>\n",
              "      <td>...</td>\n",
              "      <td>...</td>\n",
              "    </tr>\n",
              "    <tr>\n",
              "      <th>145</th>\n",
              "      <td>6.7</td>\n",
              "      <td>3.0</td>\n",
              "      <td>5.2</td>\n",
              "      <td>2.3</td>\n",
              "    </tr>\n",
              "    <tr>\n",
              "      <th>146</th>\n",
              "      <td>6.3</td>\n",
              "      <td>2.5</td>\n",
              "      <td>5.0</td>\n",
              "      <td>1.9</td>\n",
              "    </tr>\n",
              "    <tr>\n",
              "      <th>147</th>\n",
              "      <td>6.5</td>\n",
              "      <td>3.0</td>\n",
              "      <td>5.2</td>\n",
              "      <td>2.0</td>\n",
              "    </tr>\n",
              "    <tr>\n",
              "      <th>148</th>\n",
              "      <td>6.2</td>\n",
              "      <td>3.4</td>\n",
              "      <td>5.4</td>\n",
              "      <td>2.3</td>\n",
              "    </tr>\n",
              "    <tr>\n",
              "      <th>149</th>\n",
              "      <td>5.9</td>\n",
              "      <td>3.0</td>\n",
              "      <td>5.1</td>\n",
              "      <td>1.8</td>\n",
              "    </tr>\n",
              "  </tbody>\n",
              "</table>\n",
              "<p>150 rows × 4 columns</p>\n",
              "</div>"
            ],
            "text/plain": [
              "     sepal length (cm)  sepal width (cm)  petal length (cm)  petal width (cm)\n",
              "0                  5.1               3.5                1.4               0.2\n",
              "1                  4.9               3.0                1.4               0.2\n",
              "2                  4.7               3.2                1.3               0.2\n",
              "3                  4.6               3.1                1.5               0.2\n",
              "4                  5.0               3.6                1.4               0.2\n",
              "..                 ...               ...                ...               ...\n",
              "145                6.7               3.0                5.2               2.3\n",
              "146                6.3               2.5                5.0               1.9\n",
              "147                6.5               3.0                5.2               2.0\n",
              "148                6.2               3.4                5.4               2.3\n",
              "149                5.9               3.0                5.1               1.8\n",
              "\n",
              "[150 rows x 4 columns]"
            ]
          },
          "metadata": {
            "tags": []
          },
          "execution_count": 20
        }
      ]
    },
    {
      "cell_type": "code",
      "metadata": {
        "id": "Zkesns_wMvgu"
      },
      "source": [
        "X_tr, X_te, y_tr, y_te = model_selection.train_test_split(X,y,test_size=0.1)"
      ],
      "execution_count": null,
      "outputs": []
    },
    {
      "cell_type": "code",
      "metadata": {
        "colab": {
          "base_uri": "https://localhost:8080/"
        },
        "id": "h3dngv-hJbFp",
        "outputId": "09be6e24-e338-4c82-a210-187dad81b634"
      },
      "source": [
        "model = Sequential([\r\n",
        "                    layers.Dense(10, input_shape=(4,)),\r\n",
        "                    layers.Dense(128, activation='relu'),\r\n",
        "                    layers.BatchNormalization(),\r\n",
        "                    layers.Dense(128, activation='relu'),\r\n",
        "                    layers.Dense(128, activation='softmax'),\r\n",
        "                    layers.Dense(3, activation='softmax')\r\n",
        "])\r\n",
        "\r\n",
        "model.compile(optimizer='adam',  loss='categorical_crossentropy', metrics=['accuracy'])\r\n",
        "hist = model.fit(X_tr, y_tr, validation_data=(X_te,y_te), epochs=35)"
      ],
      "execution_count": null,
      "outputs": [
        {
          "output_type": "stream",
          "text": [
            "Epoch 1/35\n",
            "5/5 [==============================] - 1s 55ms/step - loss: 1.0943 - accuracy: 0.3920 - val_loss: 1.0962 - val_accuracy: 0.2667\n",
            "Epoch 2/35\n",
            "5/5 [==============================] - 0s 11ms/step - loss: 1.0733 - accuracy: 0.7175 - val_loss: 1.0928 - val_accuracy: 0.2667\n",
            "Epoch 3/35\n",
            "5/5 [==============================] - 0s 12ms/step - loss: 1.0475 - accuracy: 0.7176 - val_loss: 1.0871 - val_accuracy: 0.2667\n",
            "Epoch 4/35\n",
            "5/5 [==============================] - 0s 14ms/step - loss: 1.0195 - accuracy: 0.7027 - val_loss: 1.0802 - val_accuracy: 0.2667\n",
            "Epoch 5/35\n",
            "5/5 [==============================] - 0s 11ms/step - loss: 0.9867 - accuracy: 0.7411 - val_loss: 1.0766 - val_accuracy: 0.2667\n",
            "Epoch 6/35\n",
            "5/5 [==============================] - 0s 11ms/step - loss: 0.9579 - accuracy: 0.7507 - val_loss: 1.0760 - val_accuracy: 0.3333\n",
            "Epoch 7/35\n",
            "5/5 [==============================] - 0s 12ms/step - loss: 0.9453 - accuracy: 0.7731 - val_loss: 1.0707 - val_accuracy: 0.5333\n",
            "Epoch 8/35\n",
            "5/5 [==============================] - 0s 12ms/step - loss: 0.9453 - accuracy: 0.7651 - val_loss: 1.0538 - val_accuracy: 0.5333\n",
            "Epoch 9/35\n",
            "5/5 [==============================] - 0s 12ms/step - loss: 0.9165 - accuracy: 0.8879 - val_loss: 1.0398 - val_accuracy: 0.5333\n",
            "Epoch 10/35\n",
            "5/5 [==============================] - 0s 11ms/step - loss: 0.9095 - accuracy: 0.9399 - val_loss: 1.0281 - val_accuracy: 0.5333\n",
            "Epoch 11/35\n",
            "5/5 [==============================] - 0s 11ms/step - loss: 0.8991 - accuracy: 0.9518 - val_loss: 1.0154 - val_accuracy: 0.5333\n",
            "Epoch 12/35\n",
            "5/5 [==============================] - 0s 11ms/step - loss: 0.8895 - accuracy: 0.9312 - val_loss: 1.0052 - val_accuracy: 0.6000\n",
            "Epoch 13/35\n",
            "5/5 [==============================] - 0s 53ms/step - loss: 0.8614 - accuracy: 0.9652 - val_loss: 1.0122 - val_accuracy: 0.6000\n",
            "Epoch 14/35\n",
            "5/5 [==============================] - 0s 11ms/step - loss: 0.8549 - accuracy: 0.9573 - val_loss: 1.0180 - val_accuracy: 0.6000\n",
            "Epoch 15/35\n",
            "5/5 [==============================] - 0s 11ms/step - loss: 0.8428 - accuracy: 0.9574 - val_loss: 1.0056 - val_accuracy: 0.6000\n",
            "Epoch 16/35\n",
            "5/5 [==============================] - 0s 11ms/step - loss: 0.8254 - accuracy: 0.9786 - val_loss: 1.0068 - val_accuracy: 0.6000\n",
            "Epoch 17/35\n",
            "5/5 [==============================] - 0s 11ms/step - loss: 0.8080 - accuracy: 0.9938 - val_loss: 1.0133 - val_accuracy: 0.6000\n",
            "Epoch 18/35\n",
            "5/5 [==============================] - 0s 11ms/step - loss: 0.8002 - accuracy: 0.9829 - val_loss: 0.9893 - val_accuracy: 0.6000\n",
            "Epoch 19/35\n",
            "5/5 [==============================] - 0s 12ms/step - loss: 0.7957 - accuracy: 0.9561 - val_loss: 0.9485 - val_accuracy: 0.6667\n",
            "Epoch 20/35\n",
            "5/5 [==============================] - 0s 12ms/step - loss: 0.7856 - accuracy: 0.9471 - val_loss: 0.9050 - val_accuracy: 0.8000\n",
            "Epoch 21/35\n",
            "5/5 [==============================] - 0s 12ms/step - loss: 0.7804 - accuracy: 0.9493 - val_loss: 0.9659 - val_accuracy: 0.6000\n",
            "Epoch 22/35\n",
            "5/5 [==============================] - 0s 11ms/step - loss: 0.7610 - accuracy: 0.9726 - val_loss: 0.9938 - val_accuracy: 0.6000\n",
            "Epoch 23/35\n",
            "5/5 [==============================] - 0s 13ms/step - loss: 0.7662 - accuracy: 0.9574 - val_loss: 0.9698 - val_accuracy: 0.6000\n",
            "Epoch 24/35\n",
            "5/5 [==============================] - 0s 12ms/step - loss: 0.7534 - accuracy: 0.9667 - val_loss: 0.9209 - val_accuracy: 0.6667\n",
            "Epoch 25/35\n",
            "5/5 [==============================] - 0s 12ms/step - loss: 0.7430 - accuracy: 0.9812 - val_loss: 0.9191 - val_accuracy: 0.6667\n",
            "Epoch 26/35\n",
            "5/5 [==============================] - 0s 12ms/step - loss: 0.7390 - accuracy: 0.9673 - val_loss: 0.9279 - val_accuracy: 0.6000\n",
            "Epoch 27/35\n",
            "5/5 [==============================] - 0s 12ms/step - loss: 0.7340 - accuracy: 0.9712 - val_loss: 0.9169 - val_accuracy: 0.6667\n",
            "Epoch 28/35\n",
            "5/5 [==============================] - 0s 11ms/step - loss: 0.7279 - accuracy: 0.9712 - val_loss: 0.8161 - val_accuracy: 0.9333\n",
            "Epoch 29/35\n",
            "5/5 [==============================] - 0s 12ms/step - loss: 0.7269 - accuracy: 0.9664 - val_loss: 0.7398 - val_accuracy: 1.0000\n",
            "Epoch 30/35\n",
            "5/5 [==============================] - 0s 12ms/step - loss: 0.7209 - accuracy: 0.9676 - val_loss: 0.7285 - val_accuracy: 1.0000\n",
            "Epoch 31/35\n",
            "5/5 [==============================] - 0s 16ms/step - loss: 0.7166 - accuracy: 0.9693 - val_loss: 0.7309 - val_accuracy: 1.0000\n",
            "Epoch 32/35\n",
            "5/5 [==============================] - 0s 12ms/step - loss: 0.7133 - accuracy: 0.9525 - val_loss: 0.7689 - val_accuracy: 0.9333\n",
            "Epoch 33/35\n",
            "5/5 [==============================] - 0s 11ms/step - loss: 0.6935 - accuracy: 0.9742 - val_loss: 0.8200 - val_accuracy: 0.8667\n",
            "Epoch 34/35\n",
            "5/5 [==============================] - 0s 12ms/step - loss: 0.7183 - accuracy: 0.9444 - val_loss: 0.7499 - val_accuracy: 1.0000\n",
            "Epoch 35/35\n",
            "5/5 [==============================] - 0s 13ms/step - loss: 0.6968 - accuracy: 0.9649 - val_loss: 0.7027 - val_accuracy: 1.0000\n"
          ],
          "name": "stdout"
        }
      ]
    },
    {
      "cell_type": "code",
      "metadata": {
        "colab": {
          "base_uri": "https://localhost:8080/",
          "height": 265
        },
        "id": "eHG9UFY-QgdD",
        "outputId": "a1427794-f8e4-47dc-d8fd-a4d7fd60ac9b"
      },
      "source": [
        "plt.plot(range(35), hist.history['loss'])\r\n",
        "plt.plot(range(35), hist.history['val_loss'])\r\n",
        "plt.legend(['train loss','validation loss'])\r\n",
        "plt.show()"
      ],
      "execution_count": null,
      "outputs": [
        {
          "output_type": "display_data",
          "data": {
            "image/png": "[encoded data removed]",
            "text/plain": [
              "<Figure size 432x288 with 1 Axes>"
            ]
          },
          "metadata": {
            "tags": [],
            "needs_background": "light"
          }
        }
      ]
    },
    {
      "cell_type": "code",
      "metadata": {
        "colab": {
          "base_uri": "https://localhost:8080/"
        },
        "id": "YrNIt75IM6xS",
        "outputId": "9b4ec54c-56ac-47f3-e493-5362c5390c09"
      },
      "source": [
        "model.predict(X)"
      ],
      "execution_count": null,
      "outputs": [
        {
          "output_type": "execute_result",
          "data": {
            "text/plain": [
              "array([[0.48093954, 0.25685447, 0.262206  ],\n",
              "       [0.46676958, 0.26783878, 0.2653917 ],\n",
              "       [0.47760916, 0.25959024, 0.26280057],\n",
              "       [0.46272507, 0.2712035 , 0.2660714 ],\n",
              "       [0.4828142 , 0.25547448, 0.2617113 ],\n",
              "       [0.47180176, 0.26337674, 0.26482147],\n",
              "       [0.4747214 , 0.261734  , 0.26354465],\n",
              "       [0.4740009 , 0.26210505, 0.26389405],\n",
              "       [0.4595998 , 0.27414605, 0.26625416],\n",
              "       [0.46820465, 0.2667419 , 0.2650535 ],\n",
              "       [0.4816641 , 0.25620532, 0.26213053],\n",
              "       [0.4681203 , 0.26667702, 0.2652027 ],\n",
              "       [0.4703671 , 0.2652058 , 0.26442704],\n",
              "       [0.4827608 , 0.25592232, 0.26131684],\n",
              "       [0.492989  , 0.24787325, 0.25913784],\n",
              "       [0.4889316 , 0.25075305, 0.26031545],\n",
              "       [0.48707974, 0.25218588, 0.26073438],\n",
              "       [0.4781791 , 0.25888354, 0.26293734],\n",
              "       [0.47286937, 0.2625204 , 0.26461026],\n",
              "       [0.4808527 , 0.25684875, 0.26229855],\n",
              "       [0.4633627 , 0.26984754, 0.26678976],\n",
              "       [0.47562578, 0.26071596, 0.26365823],\n",
              "       [0.49215922, 0.24861506, 0.25922567],\n",
              "       [0.4425649 , 0.28581774, 0.27161735],\n",
              "       [0.44598204, 0.2838715 , 0.27014652],\n",
              "       [0.45260105, 0.2787454 , 0.2686536 ],\n",
              "       [0.45994022, 0.272649  , 0.26741073],\n",
              "       [0.4769409 , 0.25979286, 0.2632663 ],\n",
              "       [0.47887138, 0.25837812, 0.26275054],\n",
              "       [0.46023542, 0.27296945, 0.2667952 ],\n",
              "       [0.45633683, 0.27598575, 0.2676774 ],\n",
              "       [0.46731833, 0.26682782, 0.26585385],\n",
              "       [0.4897343 , 0.25028732, 0.25997826],\n",
              "       [0.4914968 , 0.24895582, 0.25954735],\n",
              "       [0.46400863, 0.26990518, 0.2660862 ],\n",
              "       [0.48211077, 0.25607163, 0.26181757],\n",
              "       [0.4847047 , 0.2539842 , 0.2613111 ],\n",
              "       [0.4849495 , 0.2539339 , 0.2611165 ],\n",
              "       [0.47079143, 0.2651294 , 0.2640791 ],\n",
              "       [0.47418255, 0.26191926, 0.26389813],\n",
              "       [0.48198634, 0.25608668, 0.26192695],\n",
              "       [0.41848424, 0.30981928, 0.27169648],\n",
              "       [0.47674474, 0.26040676, 0.26284853],\n",
              "       [0.45426977, 0.27680287, 0.26892737],\n",
              "       [0.45503   , 0.27612182, 0.2688482 ],\n",
              "       [0.4620093 , 0.27153352, 0.26645717],\n",
              "       [0.47960085, 0.25779462, 0.26260456],\n",
              "       [0.472436  , 0.263603  , 0.2639609 ],\n",
              "       [0.4815739 , 0.25629702, 0.26212907],\n",
              "       [0.4761478 , 0.26051578, 0.26333642],\n",
              "       [0.22924474, 0.50878507, 0.26197022],\n",
              "       [0.22926952, 0.5129445 , 0.25778595],\n",
              "       [0.23317327, 0.48914844, 0.2776784 ],\n",
              "       [0.22192678, 0.53680533, 0.24126787],\n",
              "       [0.22771068, 0.5130708 , 0.2592185 ],\n",
              "       [0.22658256, 0.5222516 , 0.2511659 ],\n",
              "       [0.23484196, 0.49001998, 0.27513808],\n",
              "       [0.224405  , 0.53396946, 0.24162547],\n",
              "       [0.22491941, 0.525235  , 0.24984562],\n",
              "       [0.2257742 , 0.52906924, 0.2451565 ],\n",
              "       [0.2209001 , 0.5405108 , 0.23858906],\n",
              "       [0.22714737, 0.5230135 , 0.24983923],\n",
              "       [0.22043492, 0.5407962 , 0.23876882],\n",
              "       [0.22941142, 0.5086042 , 0.26198435],\n",
              "       [0.22938406, 0.52274066, 0.24787524],\n",
              "       [0.22752246, 0.51829153, 0.25418594],\n",
              "       [0.2332447 , 0.50060797, 0.26614738],\n",
              "       [0.22291772, 0.53561884, 0.24146341],\n",
              "       [0.23341899, 0.48499936, 0.2815817 ],\n",
              "       [0.22227111, 0.5371473 , 0.24058165],\n",
              "       [0.2529134 , 0.38307092, 0.36401576],\n",
              "       [0.22438195, 0.5312    , 0.24441816],\n",
              "       [0.25192717, 0.3652757 , 0.3827971 ],\n",
              "       [0.22549772, 0.52362156, 0.25088072],\n",
              "       [0.22445257, 0.52921027, 0.24633723],\n",
              "       [0.2261785 , 0.52239496, 0.25142655],\n",
              "       [0.22852723, 0.50811607, 0.26335666],\n",
              "       [0.2479627 , 0.40334535, 0.348692  ],\n",
              "       [0.22805522, 0.5154668 , 0.256478  ],\n",
              "       [0.2253117 , 0.53150034, 0.24318795],\n",
              "       [0.22191675, 0.53804755, 0.2400357 ],\n",
              "       [0.2221238 , 0.5378472 , 0.24002904],\n",
              "       [0.22378999, 0.53358656, 0.24262346],\n",
              "       [0.2550086 , 0.2719276 , 0.4730637 ],\n",
              "       [0.23728697, 0.48742592, 0.27528718],\n",
              "       [0.23519972, 0.4976674 , 0.26713282],\n",
              "       [0.22996916, 0.5053996 , 0.26463124],\n",
              "       [0.2225534 , 0.5319785 , 0.24546815],\n",
              "       [0.22714649, 0.5259283 , 0.24692512],\n",
              "       [0.2227879 , 0.5352341 , 0.24197805],\n",
              "       [0.22525278, 0.526755  , 0.24799223],\n",
              "       [0.2277049 , 0.5172649 , 0.25503018],\n",
              "       [0.22265287, 0.5358012 , 0.241546  ],\n",
              "       [0.22327726, 0.53604084, 0.24068186],\n",
              "       [0.22411974, 0.53150874, 0.24437147],\n",
              "       [0.22638927, 0.52748024, 0.24613048],\n",
              "       [0.22566065, 0.5282761 , 0.2460633 ],\n",
              "       [0.22444123, 0.5297944 , 0.24576437],\n",
              "       [0.23000088, 0.5236509 , 0.24634817],\n",
              "       [0.22466102, 0.53087354, 0.24446547],\n",
              "       [0.2533195 , 0.24795511, 0.49872538],\n",
              "       [0.253748  , 0.25203905, 0.49421293],\n",
              "       [0.25335267, 0.24837495, 0.49827245],\n",
              "       [0.25347698, 0.24955514, 0.49696782],\n",
              "       [0.25333455, 0.2481108 , 0.49855474],\n",
              "       [0.25331175, 0.24790166, 0.49878666],\n",
              "       [0.2568751 , 0.28559965, 0.45752522],\n",
              "       [0.2533276 , 0.2480953 , 0.49857706],\n",
              "       [0.25334013, 0.24823533, 0.4984245 ],\n",
              "       [0.25333524, 0.24813084, 0.49853393],\n",
              "       [0.25556684, 0.28825432, 0.4561789 ],\n",
              "       [0.2536434 , 0.25176048, 0.4945961 ],\n",
              "       [0.2535397 , 0.25056118, 0.49589914],\n",
              "       [0.25354367, 0.25005692, 0.4963994 ],\n",
              "       [0.25340906, 0.24869137, 0.49789956],\n",
              "       [0.25363746, 0.2510852 , 0.49527732],\n",
              "       [0.25381646, 0.2536951 , 0.49248844],\n",
              "       [0.25332326, 0.24802367, 0.498653  ],\n",
              "       [0.2533092 , 0.24787112, 0.49881977],\n",
              "       [0.2544168 , 0.26445994, 0.48112318],\n",
              "       [0.25338474, 0.24867095, 0.49794438],\n",
              "       [0.25422755, 0.25613108, 0.4896414 ],\n",
              "       [0.25331053, 0.24788852, 0.4988009 ],\n",
              "       [0.25532514, 0.30411327, 0.4405616 ],\n",
              "       [0.25348848, 0.24969387, 0.4968177 ],\n",
              "       [0.25349495, 0.25013965, 0.49636546],\n",
              "       [0.25403932, 0.34551418, 0.4004465 ],\n",
              "       [0.25541866, 0.32909784, 0.4154835 ],\n",
              "       [0.25335371, 0.24831411, 0.4983321 ],\n",
              "       [0.25401494, 0.25814056, 0.48784456],\n",
              "       [0.2533404 , 0.24826933, 0.49839026],\n",
              "       [0.253482  , 0.25004157, 0.49647638],\n",
              "       [0.25334042, 0.24817674, 0.4984828 ],\n",
              "       [0.25451156, 0.33384418, 0.41164428],\n",
              "       [0.25356   , 0.25058773, 0.4958523 ],\n",
              "       [0.25332713, 0.24809968, 0.4985731 ],\n",
              "       [0.25340903, 0.2486942 , 0.4978968 ],\n",
              "       [0.25391325, 0.25446507, 0.49162164],\n",
              "       [0.25404778, 0.35760644, 0.38834572],\n",
              "       [0.25392509, 0.25579348, 0.4902814 ],\n",
              "       [0.2533597 , 0.24837789, 0.49826238],\n",
              "       [0.25442693, 0.26394302, 0.48163003],\n",
              "       [0.253748  , 0.25203905, 0.49421293],\n",
              "       [0.25333592, 0.24813381, 0.4985303 ],\n",
              "       [0.25335082, 0.24826096, 0.49838814],\n",
              "       [0.2537491 , 0.25312844, 0.49312243],\n",
              "       [0.25411692, 0.2587649 , 0.4871182 ],\n",
              "       [0.25435975, 0.26140386, 0.48423633],\n",
              "       [0.25364318, 0.25069854, 0.49565828],\n",
              "       [0.25504786, 0.26710755, 0.4778446 ]], dtype=float32)"
            ]
          },
          "metadata": {
            "tags": []
          },
          "execution_count": 39
        }
      ]
    },
    {
      "cell_type": "markdown",
      "metadata": {
        "id": "0TJOGAMxRaDV"
      },
      "source": [
        "# Diabetes"
      ]
    },
    {
      "cell_type": "code",
      "metadata": {
        "colab": {
          "base_uri": "https://localhost:8080/"
        },
        "id": "RmhU72i0Nukk",
        "outputId": "1c59db0c-973a-4156-c80a-ef112aecbd93"
      },
      "source": [
        "data = datasets.load_diabetes()\r\n",
        "data.keys()"
      ],
      "execution_count": null,
      "outputs": [
        {
          "output_type": "execute_result",
          "data": {
            "text/plain": [
              "dict_keys(['data', 'target', 'DESCR', 'feature_names', 'data_filename', 'target_filename'])"
            ]
          },
          "metadata": {
            "tags": []
          },
          "execution_count": 40
        }
      ]
    },
    {
      "cell_type": "code",
      "metadata": {
        "id": "EjKvBK5ERpNQ"
      },
      "source": [
        "X,y = pd.DataFrame(data['data'], columns=data['feature_names']), pd.Series(data['target'])"
      ],
      "execution_count": null,
      "outputs": []
    },
    {
      "cell_type": "code",
      "metadata": {
        "colab": {
          "base_uri": "https://localhost:8080/",
          "height": 419
        },
        "id": "sF5CQOdWSZew",
        "outputId": "4e5cb124-8857-426c-c2c0-8ca1d4a6ff54"
      },
      "source": [
        "X"
      ],
      "execution_count": null,
      "outputs": [
        {
          "output_type": "execute_result",
          "data": {
            "text/html": [
              "<div>\n",
              "<style scoped>\n",
              "    .dataframe tbody tr th:only-of-type {\n",
              "        vertical-align: middle;\n",
              "    }\n",
              "\n",
              "    .dataframe tbody tr th {\n",
              "        vertical-align: top;\n",
              "    }\n",
              "\n",
              "    .dataframe thead th {\n",
              "        text-align: right;\n",
              "    }\n",
              "</style>\n",
              "<table border=\"1\" class=\"dataframe\">\n",
              "  <thead>\n",
              "    <tr style=\"text-align: right;\">\n",
              "      <th></th>\n",
              "      <th>age</th>\n",
              "      <th>sex</th>\n",
              "      <th>bmi</th>\n",
              "      <th>bp</th>\n",
              "      <th>s1</th>\n",
              "      <th>s2</th>\n",
              "      <th>s3</th>\n",
              "      <th>s4</th>\n",
              "      <th>s5</th>\n",
              "      <th>s6</th>\n",
              "    </tr>\n",
              "  </thead>\n",
              "  <tbody>\n",
              "    <tr>\n",
              "      <th>0</th>\n",
              "      <td>0.038076</td>\n",
              "      <td>0.050680</td>\n",
              "      <td>0.061696</td>\n",
              "      <td>0.021872</td>\n",
              "      <td>-0.044223</td>\n",
              "      <td>-0.034821</td>\n",
              "      <td>-0.043401</td>\n",
              "      <td>-0.002592</td>\n",
              "      <td>0.019908</td>\n",
              "      <td>-0.017646</td>\n",
              "    </tr>\n",
              "    <tr>\n",
              "      <th>1</th>\n",
              "      <td>-0.001882</td>\n",
              "      <td>-0.044642</td>\n",
              "      <td>-0.051474</td>\n",
              "      <td>-0.026328</td>\n",
              "      <td>-0.008449</td>\n",
              "      <td>-0.019163</td>\n",
              "      <td>0.074412</td>\n",
              "      <td>-0.039493</td>\n",
              "      <td>-0.068330</td>\n",
              "      <td>-0.092204</td>\n",
              "    </tr>\n",
              "    <tr>\n",
              "      <th>2</th>\n",
              "      <td>0.085299</td>\n",
              "      <td>0.050680</td>\n",
              "      <td>0.044451</td>\n",
              "      <td>-0.005671</td>\n",
              "      <td>-0.045599</td>\n",
              "      <td>-0.034194</td>\n",
              "      <td>-0.032356</td>\n",
              "      <td>-0.002592</td>\n",
              "      <td>0.002864</td>\n",
              "      <td>-0.025930</td>\n",
              "    </tr>\n",
              "    <tr>\n",
              "      <th>3</th>\n",
              "      <td>-0.089063</td>\n",
              "      <td>-0.044642</td>\n",
              "      <td>-0.011595</td>\n",
              "      <td>-0.036656</td>\n",
              "      <td>0.012191</td>\n",
              "      <td>0.024991</td>\n",
              "      <td>-0.036038</td>\n",
              "      <td>0.034309</td>\n",
              "      <td>0.022692</td>\n",
              "      <td>-0.009362</td>\n",
              "    </tr>\n",
              "    <tr>\n",
              "      <th>4</th>\n",
              "      <td>0.005383</td>\n",
              "      <td>-0.044642</td>\n",
              "      <td>-0.036385</td>\n",
              "      <td>0.021872</td>\n",
              "      <td>0.003935</td>\n",
              "      <td>0.015596</td>\n",
              "      <td>0.008142</td>\n",
              "      <td>-0.002592</td>\n",
              "      <td>-0.031991</td>\n",
              "      <td>-0.046641</td>\n",
              "    </tr>\n",
              "    <tr>\n",
              "      <th>...</th>\n",
              "      <td>...</td>\n",
              "      <td>...</td>\n",
              "      <td>...</td>\n",
              "      <td>...</td>\n",
              "      <td>...</td>\n",
              "      <td>...</td>\n",
              "      <td>...</td>\n",
              "      <td>...</td>\n",
              "      <td>...</td>\n",
              "      <td>...</td>\n",
              "    </tr>\n",
              "    <tr>\n",
              "      <th>437</th>\n",
              "      <td>0.041708</td>\n",
              "      <td>0.050680</td>\n",
              "      <td>0.019662</td>\n",
              "      <td>0.059744</td>\n",
              "      <td>-0.005697</td>\n",
              "      <td>-0.002566</td>\n",
              "      <td>-0.028674</td>\n",
              "      <td>-0.002592</td>\n",
              "      <td>0.031193</td>\n",
              "      <td>0.007207</td>\n",
              "    </tr>\n",
              "    <tr>\n",
              "      <th>438</th>\n",
              "      <td>-0.005515</td>\n",
              "      <td>0.050680</td>\n",
              "      <td>-0.015906</td>\n",
              "      <td>-0.067642</td>\n",
              "      <td>0.049341</td>\n",
              "      <td>0.079165</td>\n",
              "      <td>-0.028674</td>\n",
              "      <td>0.034309</td>\n",
              "      <td>-0.018118</td>\n",
              "      <td>0.044485</td>\n",
              "    </tr>\n",
              "    <tr>\n",
              "      <th>439</th>\n",
              "      <td>0.041708</td>\n",
              "      <td>0.050680</td>\n",
              "      <td>-0.015906</td>\n",
              "      <td>0.017282</td>\n",
              "      <td>-0.037344</td>\n",
              "      <td>-0.013840</td>\n",
              "      <td>-0.024993</td>\n",
              "      <td>-0.011080</td>\n",
              "      <td>-0.046879</td>\n",
              "      <td>0.015491</td>\n",
              "    </tr>\n",
              "    <tr>\n",
              "      <th>440</th>\n",
              "      <td>-0.045472</td>\n",
              "      <td>-0.044642</td>\n",
              "      <td>0.039062</td>\n",
              "      <td>0.001215</td>\n",
              "      <td>0.016318</td>\n",
              "      <td>0.015283</td>\n",
              "      <td>-0.028674</td>\n",
              "      <td>0.026560</td>\n",
              "      <td>0.044528</td>\n",
              "      <td>-0.025930</td>\n",
              "    </tr>\n",
              "    <tr>\n",
              "      <th>441</th>\n",
              "      <td>-0.045472</td>\n",
              "      <td>-0.044642</td>\n",
              "      <td>-0.073030</td>\n",
              "      <td>-0.081414</td>\n",
              "      <td>0.083740</td>\n",
              "      <td>0.027809</td>\n",
              "      <td>0.173816</td>\n",
              "      <td>-0.039493</td>\n",
              "      <td>-0.004220</td>\n",
              "      <td>0.003064</td>\n",
              "    </tr>\n",
              "  </tbody>\n",
              "</table>\n",
              "<p>442 rows × 10 columns</p>\n",
              "</div>"
            ],
            "text/plain": [
              "          age       sex       bmi  ...        s4        s5        s6\n",
              "0    0.038076  0.050680  0.061696  ... -0.002592  0.019908 -0.017646\n",
              "1   -0.001882 -0.044642 -0.051474  ... -0.039493 -0.068330 -0.092204\n",
              "2    0.085299  0.050680  0.044451  ... -0.002592  0.002864 -0.025930\n",
              "3   -0.089063 -0.044642 -0.011595  ...  0.034309  0.022692 -0.009362\n",
              "4    0.005383 -0.044642 -0.036385  ... -0.002592 -0.031991 -0.046641\n",
              "..        ...       ...       ...  ...       ...       ...       ...\n",
              "437  0.041708  0.050680  0.019662  ... -0.002592  0.031193  0.007207\n",
              "438 -0.005515  0.050680 -0.015906  ...  0.034309 -0.018118  0.044485\n",
              "439  0.041708  0.050680 -0.015906  ... -0.011080 -0.046879  0.015491\n",
              "440 -0.045472 -0.044642  0.039062  ...  0.026560  0.044528 -0.025930\n",
              "441 -0.045472 -0.044642 -0.073030  ... -0.039493 -0.004220  0.003064\n",
              "\n",
              "[442 rows x 10 columns]"
            ]
          },
          "metadata": {
            "tags": []
          },
          "execution_count": 42
        }
      ]
    },
    {
      "cell_type": "code",
      "metadata": {
        "colab": {
          "base_uri": "https://localhost:8080/"
        },
        "id": "UMZtwHdvSaXv",
        "outputId": "0b1ccb92-c623-48d8-ce4b-a63c695284f1"
      },
      "source": [
        "y.value_counts()"
      ],
      "execution_count": null,
      "outputs": [
        {
          "output_type": "execute_result",
          "data": {
            "text/plain": [
              "200.0    6\n",
              "72.0     6\n",
              "178.0    5\n",
              "90.0     5\n",
              "71.0     5\n",
              "        ..\n",
              "162.0    1\n",
              "302.0    1\n",
              "346.0    1\n",
              "153.0    1\n",
              "261.0    1\n",
              "Length: 214, dtype: int64"
            ]
          },
          "metadata": {
            "tags": []
          },
          "execution_count": 43
        }
      ]
    },
    {
      "cell_type": "code",
      "metadata": {
        "colab": {
          "base_uri": "https://localhost:8080/"
        },
        "id": "5eEf5KY0ShBU",
        "outputId": "c14efaf8-ec61-4847-c900-7ad1825be674"
      },
      "source": [
        "X.info()"
      ],
      "execution_count": null,
      "outputs": [
        {
          "output_type": "stream",
          "text": [
            "<class 'pandas.core.frame.DataFrame'>\n",
            "RangeIndex: 442 entries, 0 to 441\n",
            "Data columns (total 10 columns):\n",
            " #   Column  Non-Null Count  Dtype  \n",
            "---  ------  --------------  -----  \n",
            " 0   age     442 non-null    float64\n",
            " 1   sex     442 non-null    float64\n",
            " 2   bmi     442 non-null    float64\n",
            " 3   bp      442 non-null    float64\n",
            " 4   s1      442 non-null    float64\n",
            " 5   s2      442 non-null    float64\n",
            " 6   s3      442 non-null    float64\n",
            " 7   s4      442 non-null    float64\n",
            " 8   s5      442 non-null    float64\n",
            " 9   s6      442 non-null    float64\n",
            "dtypes: float64(10)\n",
            "memory usage: 34.7 KB\n"
          ],
          "name": "stdout"
        }
      ]
    },
    {
      "cell_type": "code",
      "metadata": {
        "id": "OcwGPDpHTo4-"
      },
      "source": [
        "X_tr, X_te, y_tr, y_te = model_selection.train_test_split(X,y, test_size=0.2)"
      ],
      "execution_count": null,
      "outputs": []
    },
    {
      "cell_type": "code",
      "metadata": {
        "colab": {
          "base_uri": "https://localhost:8080/"
        },
        "id": "Ip0h1u6VS0me",
        "outputId": "66c4c184-b57b-4719-cc88-7d1b27bbdb6a"
      },
      "source": [
        "model = Sequential([\r\n",
        "                          layers.BatchNormalization(),\r\n",
        "                          layers.Dense(40, input_shape=(10,)),\r\n",
        "                          layers.Dense(128, activation='relu'),\r\n",
        "                          layers.Dense(1, activation='linear')\r\n",
        "])\r\n",
        "\r\n",
        "model.compile(optimizer='rmsprop', loss='mean_squared_error')\r\n",
        "hist = model.fit(X_tr, y_tr, validation_data=(X_te, y_te), epochs=200, batch_size=100)"
      ],
      "execution_count": null,
      "outputs": [
        {
          "output_type": "stream",
          "text": [
            "Epoch 1/200\n",
            "4/4 [==============================] - 1s 63ms/step - loss: 28734.7156 - val_loss: 31190.7383\n",
            "Epoch 2/200\n",
            "4/4 [==============================] - 0s 14ms/step - loss: 28217.6793 - val_loss: 31152.5977\n",
            "Epoch 3/200\n",
            "4/4 [==============================] - 0s 15ms/step - loss: 28677.8695 - val_loss: 31109.3770\n",
            "Epoch 4/200\n",
            "4/4 [==============================] - 0s 14ms/step - loss: 28149.8094 - val_loss: 31056.9668\n",
            "Epoch 5/200\n",
            "4/4 [==============================] - 0s 14ms/step - loss: 28722.3344 - val_loss: 30995.0254\n",
            "Epoch 6/200\n",
            "4/4 [==============================] - 0s 14ms/step - loss: 27212.9883 - val_loss: 30916.7949\n",
            "Epoch 7/200\n",
            "4/4 [==============================] - 0s 17ms/step - loss: 27642.5648 - val_loss: 30826.6406\n",
            "Epoch 8/200\n",
            "4/4 [==============================] - 0s 14ms/step - loss: 26799.9582 - val_loss: 30718.5059\n",
            "Epoch 9/200\n",
            "4/4 [==============================] - 0s 14ms/step - loss: 26373.6449 - val_loss: 30591.7871\n",
            "Epoch 10/200\n",
            "4/4 [==============================] - 0s 14ms/step - loss: 26156.4910 - val_loss: 30448.8535\n",
            "Epoch 11/200\n",
            "4/4 [==============================] - 0s 14ms/step - loss: 26475.8934 - val_loss: 30282.5566\n",
            "Epoch 12/200\n",
            "4/4 [==============================] - 0s 15ms/step - loss: 26437.9520 - val_loss: 30102.2578\n",
            "Epoch 13/200\n",
            "4/4 [==============================] - 0s 17ms/step - loss: 25395.9273 - val_loss: 29888.9668\n",
            "Epoch 14/200\n",
            "4/4 [==============================] - 0s 15ms/step - loss: 24097.8352 - val_loss: 29649.8652\n",
            "Epoch 15/200\n",
            "4/4 [==============================] - 0s 16ms/step - loss: 25216.7215 - val_loss: 29385.7695\n",
            "Epoch 16/200\n",
            "4/4 [==============================] - 0s 14ms/step - loss: 23339.4844 - val_loss: 29089.8379\n",
            "Epoch 17/200\n",
            "4/4 [==============================] - 0s 14ms/step - loss: 22100.9934 - val_loss: 28774.1738\n",
            "Epoch 18/200\n",
            "4/4 [==============================] - 0s 13ms/step - loss: 23044.2676 - val_loss: 28429.5332\n",
            "Epoch 19/200\n",
            "4/4 [==============================] - 0s 14ms/step - loss: 20829.1023 - val_loss: 28037.2383\n",
            "Epoch 20/200\n",
            "4/4 [==============================] - 0s 16ms/step - loss: 20423.4809 - val_loss: 27641.0957\n",
            "Epoch 21/200\n",
            "4/4 [==============================] - 0s 15ms/step - loss: 19934.5141 - val_loss: 27210.7480\n",
            "Epoch 22/200\n",
            "4/4 [==============================] - 0s 14ms/step - loss: 19846.2781 - val_loss: 26749.4375\n",
            "Epoch 23/200\n",
            "4/4 [==============================] - 0s 15ms/step - loss: 18599.6020 - val_loss: 26254.0684\n",
            "Epoch 24/200\n",
            "4/4 [==============================] - 0s 13ms/step - loss: 18457.3180 - val_loss: 25726.5586\n",
            "Epoch 25/200\n",
            "4/4 [==============================] - 0s 14ms/step - loss: 17069.3805 - val_loss: 25176.1133\n",
            "Epoch 26/200\n",
            "4/4 [==============================] - 0s 14ms/step - loss: 17299.9172 - val_loss: 24593.7363\n",
            "Epoch 27/200\n",
            "4/4 [==============================] - 0s 14ms/step - loss: 15991.6373 - val_loss: 23967.7363\n",
            "Epoch 28/200\n",
            "4/4 [==============================] - 0s 14ms/step - loss: 14638.9387 - val_loss: 23307.9531\n",
            "Epoch 29/200\n",
            "4/4 [==============================] - 0s 16ms/step - loss: 13627.1609 - val_loss: 22620.6934\n",
            "Epoch 30/200\n",
            "4/4 [==============================] - 0s 14ms/step - loss: 13570.1301 - val_loss: 21932.3145\n",
            "Epoch 31/200\n",
            "4/4 [==============================] - 0s 17ms/step - loss: 12415.4443 - val_loss: 21227.7031\n",
            "Epoch 32/200\n",
            "4/4 [==============================] - 0s 15ms/step - loss: 12321.3701 - val_loss: 20506.9883\n",
            "Epoch 33/200\n",
            "4/4 [==============================] - 0s 15ms/step - loss: 11144.3838 - val_loss: 19790.1230\n",
            "Epoch 34/200\n",
            "4/4 [==============================] - 0s 16ms/step - loss: 11724.4141 - val_loss: 19043.6699\n",
            "Epoch 35/200\n",
            "4/4 [==============================] - 0s 15ms/step - loss: 10002.2861 - val_loss: 18373.5723\n",
            "Epoch 36/200\n",
            "4/4 [==============================] - 0s 14ms/step - loss: 9497.6125 - val_loss: 17719.0723\n",
            "Epoch 37/200\n",
            "4/4 [==============================] - 0s 72ms/step - loss: 9549.2816 - val_loss: 17033.8574\n",
            "Epoch 38/200\n",
            "4/4 [==============================] - 0s 14ms/step - loss: 9513.7430 - val_loss: 16384.5547\n",
            "Epoch 39/200\n",
            "4/4 [==============================] - 0s 15ms/step - loss: 8969.7318 - val_loss: 15783.1240\n",
            "Epoch 40/200\n",
            "4/4 [==============================] - 0s 14ms/step - loss: 8719.5076 - val_loss: 15193.6240\n",
            "Epoch 41/200\n",
            "4/4 [==============================] - 0s 15ms/step - loss: 8654.7110 - val_loss: 14878.6602\n",
            "Epoch 42/200\n",
            "4/4 [==============================] - 0s 15ms/step - loss: 8394.3349 - val_loss: 14370.2988\n",
            "Epoch 43/200\n",
            "4/4 [==============================] - 0s 15ms/step - loss: 7838.4206 - val_loss: 14070.7158\n",
            "Epoch 44/200\n",
            "4/4 [==============================] - 0s 17ms/step - loss: 7681.9876 - val_loss: 13623.7510\n",
            "Epoch 45/200\n",
            "4/4 [==============================] - 0s 15ms/step - loss: 7869.5240 - val_loss: 13590.6055\n",
            "Epoch 46/200\n",
            "4/4 [==============================] - 0s 13ms/step - loss: 7869.2675 - val_loss: 13310.2715\n",
            "Epoch 47/200\n",
            "4/4 [==============================] - 0s 14ms/step - loss: 7157.6406 - val_loss: 12959.6475\n",
            "Epoch 48/200\n",
            "4/4 [==============================] - 0s 15ms/step - loss: 7876.9858 - val_loss: 12921.6406\n",
            "Epoch 49/200\n",
            "4/4 [==============================] - 0s 14ms/step - loss: 7232.3100 - val_loss: 12583.8105\n",
            "Epoch 50/200\n",
            "4/4 [==============================] - 0s 14ms/step - loss: 6962.6487 - val_loss: 12216.2822\n",
            "Epoch 51/200\n",
            "4/4 [==============================] - 0s 14ms/step - loss: 7283.9081 - val_loss: 12022.8486\n",
            "Epoch 52/200\n",
            "4/4 [==============================] - 0s 15ms/step - loss: 7091.7842 - val_loss: 12077.8633\n",
            "Epoch 53/200\n",
            "4/4 [==============================] - 0s 15ms/step - loss: 6907.8934 - val_loss: 11725.2549\n",
            "Epoch 54/200\n",
            "4/4 [==============================] - 0s 14ms/step - loss: 6772.8760 - val_loss: 11455.5186\n",
            "Epoch 55/200\n",
            "4/4 [==============================] - 0s 18ms/step - loss: 6225.0068 - val_loss: 11215.2158\n",
            "Epoch 56/200\n",
            "4/4 [==============================] - 0s 17ms/step - loss: 6689.8867 - val_loss: 11184.0205\n",
            "Epoch 57/200\n",
            "4/4 [==============================] - 0s 14ms/step - loss: 6480.0424 - val_loss: 11063.6826\n",
            "Epoch 58/200\n",
            "4/4 [==============================] - 0s 14ms/step - loss: 6709.3502 - val_loss: 11016.5889\n",
            "Epoch 59/200\n",
            "4/4 [==============================] - 0s 14ms/step - loss: 6716.9127 - val_loss: 11002.8486\n",
            "Epoch 60/200\n",
            "4/4 [==============================] - 0s 15ms/step - loss: 6179.9469 - val_loss: 10669.8311\n",
            "Epoch 61/200\n",
            "4/4 [==============================] - 0s 15ms/step - loss: 6473.8799 - val_loss: 10642.2930\n",
            "Epoch 62/200\n",
            "4/4 [==============================] - 0s 15ms/step - loss: 6420.2151 - val_loss: 10559.5811\n",
            "Epoch 63/200\n",
            "4/4 [==============================] - 0s 16ms/step - loss: 6327.3424 - val_loss: 10135.5918\n",
            "Epoch 64/200\n",
            "4/4 [==============================] - 0s 15ms/step - loss: 6304.8160 - val_loss: 9996.6982\n",
            "Epoch 65/200\n",
            "4/4 [==============================] - 0s 15ms/step - loss: 6035.9544 - val_loss: 9881.3418\n",
            "Epoch 66/200\n",
            "4/4 [==============================] - 0s 14ms/step - loss: 5947.1687 - val_loss: 9718.0928\n",
            "Epoch 67/200\n",
            "4/4 [==============================] - 0s 15ms/step - loss: 5994.0783 - val_loss: 9401.3838\n",
            "Epoch 68/200\n",
            "4/4 [==============================] - 0s 18ms/step - loss: 6349.1646 - val_loss: 9456.7266\n",
            "Epoch 69/200\n",
            "4/4 [==============================] - 0s 25ms/step - loss: 5732.4001 - val_loss: 9436.1279\n",
            "Epoch 70/200\n",
            "4/4 [==============================] - 0s 16ms/step - loss: 6338.0697 - val_loss: 9341.1406\n",
            "Epoch 71/200\n",
            "4/4 [==============================] - 0s 15ms/step - loss: 5753.7723 - val_loss: 9265.2012\n",
            "Epoch 72/200\n",
            "4/4 [==============================] - 0s 15ms/step - loss: 5604.9551 - val_loss: 9050.1338\n",
            "Epoch 73/200\n",
            "4/4 [==============================] - 0s 14ms/step - loss: 5485.4024 - val_loss: 8890.1963\n",
            "Epoch 74/200\n",
            "4/4 [==============================] - 0s 14ms/step - loss: 5902.9372 - val_loss: 8815.3525\n",
            "Epoch 75/200\n",
            "4/4 [==============================] - 0s 16ms/step - loss: 5499.9073 - val_loss: 8826.9766\n",
            "Epoch 76/200\n",
            "4/4 [==============================] - 0s 14ms/step - loss: 5745.6200 - val_loss: 8337.5068\n",
            "Epoch 77/200\n",
            "4/4 [==============================] - 0s 14ms/step - loss: 5533.6373 - val_loss: 8158.6812\n",
            "Epoch 78/200\n",
            "4/4 [==============================] - 0s 14ms/step - loss: 5638.7201 - val_loss: 8243.7891\n",
            "Epoch 79/200\n",
            "4/4 [==============================] - 0s 14ms/step - loss: 4997.1718 - val_loss: 7956.5142\n",
            "Epoch 80/200\n",
            "4/4 [==============================] - 0s 14ms/step - loss: 5198.7205 - val_loss: 7687.6797\n",
            "Epoch 81/200\n",
            "4/4 [==============================] - 0s 14ms/step - loss: 5433.2130 - val_loss: 7570.8315\n",
            "Epoch 82/200\n",
            "4/4 [==============================] - 0s 14ms/step - loss: 5074.5063 - val_loss: 7620.2896\n",
            "Epoch 83/200\n",
            "4/4 [==============================] - 0s 16ms/step - loss: 4769.2727 - val_loss: 7485.0591\n",
            "Epoch 84/200\n",
            "4/4 [==============================] - 0s 14ms/step - loss: 5281.2871 - val_loss: 7453.9453\n",
            "Epoch 85/200\n",
            "4/4 [==============================] - 0s 16ms/step - loss: 5039.1954 - val_loss: 7578.9829\n",
            "Epoch 86/200\n",
            "4/4 [==============================] - 0s 60ms/step - loss: 5080.3317 - val_loss: 7280.2417\n",
            "Epoch 87/200\n",
            "4/4 [==============================] - 0s 15ms/step - loss: 4877.3590 - val_loss: 6970.2422\n",
            "Epoch 88/200\n",
            "4/4 [==============================] - 0s 14ms/step - loss: 5472.9021 - val_loss: 7288.5518\n",
            "Epoch 89/200\n",
            "4/4 [==============================] - 0s 15ms/step - loss: 5149.4919 - val_loss: 7153.3687\n",
            "Epoch 90/200\n",
            "4/4 [==============================] - 0s 15ms/step - loss: 4886.2398 - val_loss: 6846.8755\n",
            "Epoch 91/200\n",
            "4/4 [==============================] - 0s 15ms/step - loss: 5343.8076 - val_loss: 6851.2471\n",
            "Epoch 92/200\n",
            "4/4 [==============================] - 0s 15ms/step - loss: 4663.6032 - val_loss: 6575.0435\n",
            "Epoch 93/200\n",
            "4/4 [==============================] - 0s 18ms/step - loss: 4694.4225 - val_loss: 6428.4980\n",
            "Epoch 94/200\n",
            "4/4 [==============================] - 0s 16ms/step - loss: 4524.2045 - val_loss: 6236.0894\n",
            "Epoch 95/200\n",
            "4/4 [==============================] - 0s 15ms/step - loss: 4451.0621 - val_loss: 6350.5342\n",
            "Epoch 96/200\n",
            "4/4 [==============================] - 0s 15ms/step - loss: 4770.7798 - val_loss: 6254.8682\n",
            "Epoch 97/200\n",
            "4/4 [==============================] - 0s 14ms/step - loss: 4416.3431 - val_loss: 6166.9482\n",
            "Epoch 98/200\n",
            "4/4 [==============================] - 0s 14ms/step - loss: 4153.2364 - val_loss: 6123.3843\n",
            "Epoch 99/200\n",
            "4/4 [==============================] - 0s 15ms/step - loss: 4466.5247 - val_loss: 6192.3979\n",
            "Epoch 100/200\n",
            "4/4 [==============================] - 0s 15ms/step - loss: 4321.8438 - val_loss: 5871.7969\n",
            "Epoch 101/200\n",
            "4/4 [==============================] - 0s 14ms/step - loss: 4260.9230 - val_loss: 5768.3247\n",
            "Epoch 102/200\n",
            "4/4 [==============================] - 0s 13ms/step - loss: 4060.8991 - val_loss: 5817.2495\n",
            "Epoch 103/200\n",
            "4/4 [==============================] - 0s 14ms/step - loss: 4245.4745 - val_loss: 5554.0308\n",
            "Epoch 104/200\n",
            "4/4 [==============================] - 0s 14ms/step - loss: 4235.1509 - val_loss: 5458.4395\n",
            "Epoch 105/200\n",
            "4/4 [==============================] - 0s 16ms/step - loss: 4192.5999 - val_loss: 5411.7529\n",
            "Epoch 106/200\n",
            "4/4 [==============================] - 0s 15ms/step - loss: 4097.8109 - val_loss: 5461.3081\n",
            "Epoch 107/200\n",
            "4/4 [==============================] - 0s 15ms/step - loss: 4334.9560 - val_loss: 5413.0645\n",
            "Epoch 108/200\n",
            "4/4 [==============================] - 0s 15ms/step - loss: 4074.0491 - val_loss: 5571.0493\n",
            "Epoch 109/200\n",
            "4/4 [==============================] - 0s 14ms/step - loss: 3914.0447 - val_loss: 5167.9575\n",
            "Epoch 110/200\n",
            "4/4 [==============================] - 0s 14ms/step - loss: 3700.9966 - val_loss: 5182.5742\n",
            "Epoch 111/200\n",
            "4/4 [==============================] - 0s 15ms/step - loss: 4164.1574 - val_loss: 5154.8564\n",
            "Epoch 112/200\n",
            "4/4 [==============================] - 0s 16ms/step - loss: 3713.7835 - val_loss: 4973.0425\n",
            "Epoch 113/200\n",
            "4/4 [==============================] - 0s 15ms/step - loss: 3897.6139 - val_loss: 4969.5801\n",
            "Epoch 114/200\n",
            "4/4 [==============================] - 0s 16ms/step - loss: 3711.5948 - val_loss: 4971.5371\n",
            "Epoch 115/200\n",
            "4/4 [==============================] - 0s 14ms/step - loss: 3679.2832 - val_loss: 4784.9185\n",
            "Epoch 116/200\n",
            "4/4 [==============================] - 0s 16ms/step - loss: 3449.6816 - val_loss: 4800.4531\n",
            "Epoch 117/200\n",
            "4/4 [==============================] - 0s 14ms/step - loss: 3518.8635 - val_loss: 4662.1943\n",
            "Epoch 118/200\n",
            "4/4 [==============================] - 0s 16ms/step - loss: 3503.3422 - val_loss: 4530.1895\n",
            "Epoch 119/200\n",
            "4/4 [==============================] - 0s 15ms/step - loss: 3633.5085 - val_loss: 4491.1167\n",
            "Epoch 120/200\n",
            "4/4 [==============================] - 0s 15ms/step - loss: 3498.5930 - val_loss: 4445.2090\n",
            "Epoch 121/200\n",
            "4/4 [==============================] - 0s 15ms/step - loss: 3304.4797 - val_loss: 4330.8560\n",
            "Epoch 122/200\n",
            "4/4 [==============================] - 0s 17ms/step - loss: 3493.2901 - val_loss: 4512.1133\n",
            "Epoch 123/200\n",
            "4/4 [==============================] - 0s 15ms/step - loss: 3416.8283 - val_loss: 4203.7495\n",
            "Epoch 124/200\n",
            "4/4 [==============================] - 0s 13ms/step - loss: 3412.8003 - val_loss: 4310.1406\n",
            "Epoch 125/200\n",
            "4/4 [==============================] - 0s 14ms/step - loss: 3212.8939 - val_loss: 4114.4839\n",
            "Epoch 126/200\n",
            "4/4 [==============================] - 0s 15ms/step - loss: 3240.9747 - val_loss: 4087.8125\n",
            "Epoch 127/200\n",
            "4/4 [==============================] - 0s 20ms/step - loss: 3134.3822 - val_loss: 4100.4116\n",
            "Epoch 128/200\n",
            "4/4 [==============================] - 0s 15ms/step - loss: 3258.2525 - val_loss: 4181.3296\n",
            "Epoch 129/200\n",
            "4/4 [==============================] - 0s 14ms/step - loss: 3201.7936 - val_loss: 4164.8652\n",
            "Epoch 130/200\n",
            "4/4 [==============================] - 0s 15ms/step - loss: 3085.8061 - val_loss: 3899.3647\n",
            "Epoch 131/200\n",
            "4/4 [==============================] - 0s 15ms/step - loss: 3188.0033 - val_loss: 3950.7180\n",
            "Epoch 132/200\n",
            "4/4 [==============================] - 0s 17ms/step - loss: 3175.4030 - val_loss: 4018.5537\n",
            "Epoch 133/200\n",
            "4/4 [==============================] - 0s 14ms/step - loss: 3244.3641 - val_loss: 3916.8052\n",
            "Epoch 134/200\n",
            "4/4 [==============================] - 0s 14ms/step - loss: 2966.2584 - val_loss: 3762.1741\n",
            "Epoch 135/200\n",
            "4/4 [==============================] - 0s 16ms/step - loss: 3177.0362 - val_loss: 3671.8030\n",
            "Epoch 136/200\n",
            "4/4 [==============================] - 0s 15ms/step - loss: 3159.7000 - val_loss: 3642.3479\n",
            "Epoch 137/200\n",
            "4/4 [==============================] - 0s 16ms/step - loss: 3166.5548 - val_loss: 3681.9214\n",
            "Epoch 138/200\n",
            "4/4 [==============================] - 0s 62ms/step - loss: 2890.6339 - val_loss: 3740.7563\n",
            "Epoch 139/200\n",
            "4/4 [==============================] - 0s 17ms/step - loss: 3127.3494 - val_loss: 3648.7991\n",
            "Epoch 140/200\n",
            "4/4 [==============================] - 0s 17ms/step - loss: 2983.5495 - val_loss: 3704.0881\n",
            "Epoch 141/200\n",
            "4/4 [==============================] - 0s 16ms/step - loss: 3174.7948 - val_loss: 3601.8171\n",
            "Epoch 142/200\n",
            "4/4 [==============================] - 0s 15ms/step - loss: 2956.9511 - val_loss: 3663.0186\n",
            "Epoch 143/200\n",
            "4/4 [==============================] - 0s 16ms/step - loss: 2920.1150 - val_loss: 3557.2556\n",
            "Epoch 144/200\n",
            "4/4 [==============================] - 0s 15ms/step - loss: 2758.9467 - val_loss: 3484.5105\n",
            "Epoch 145/200\n",
            "4/4 [==============================] - 0s 14ms/step - loss: 3000.7463 - val_loss: 3522.3406\n",
            "Epoch 146/200\n",
            "4/4 [==============================] - 0s 16ms/step - loss: 2861.3929 - val_loss: 3490.8621\n",
            "Epoch 147/200\n",
            "4/4 [==============================] - 0s 19ms/step - loss: 3091.3680 - val_loss: 3530.4849\n",
            "Epoch 148/200\n",
            "4/4 [==============================] - 0s 17ms/step - loss: 2924.7869 - val_loss: 3599.0872\n",
            "Epoch 149/200\n",
            "4/4 [==============================] - 0s 14ms/step - loss: 2928.3089 - val_loss: 3608.9614\n",
            "Epoch 150/200\n",
            "4/4 [==============================] - 0s 15ms/step - loss: 2746.7805 - val_loss: 3428.4404\n",
            "Epoch 151/200\n",
            "4/4 [==============================] - 0s 14ms/step - loss: 2976.7175 - val_loss: 3413.0479\n",
            "Epoch 152/200\n",
            "4/4 [==============================] - 0s 15ms/step - loss: 2916.3852 - val_loss: 3434.2017\n",
            "Epoch 153/200\n",
            "4/4 [==============================] - 0s 17ms/step - loss: 2793.9591 - val_loss: 3381.6504\n",
            "Epoch 154/200\n",
            "4/4 [==============================] - 0s 15ms/step - loss: 2806.8942 - val_loss: 3342.9060\n",
            "Epoch 155/200\n",
            "4/4 [==============================] - 0s 14ms/step - loss: 2686.4493 - val_loss: 3396.6169\n",
            "Epoch 156/200\n",
            "4/4 [==============================] - 0s 14ms/step - loss: 2922.5508 - val_loss: 3362.9585\n",
            "Epoch 157/200\n",
            "4/4 [==============================] - 0s 14ms/step - loss: 2970.0215 - val_loss: 3482.3557\n",
            "Epoch 158/200\n",
            "4/4 [==============================] - 0s 14ms/step - loss: 2894.3128 - val_loss: 3344.2402\n",
            "Epoch 159/200\n",
            "4/4 [==============================] - 0s 17ms/step - loss: 2819.4424 - val_loss: 3316.0979\n",
            "Epoch 160/200\n",
            "4/4 [==============================] - 0s 16ms/step - loss: 2866.2390 - val_loss: 3288.4519\n",
            "Epoch 161/200\n",
            "4/4 [==============================] - 0s 15ms/step - loss: 2867.2569 - val_loss: 3299.1592\n",
            "Epoch 162/200\n",
            "4/4 [==============================] - 0s 15ms/step - loss: 2740.2512 - val_loss: 3327.7971\n",
            "Epoch 163/200\n",
            "4/4 [==============================] - 0s 16ms/step - loss: 2920.9766 - val_loss: 3322.9346\n",
            "Epoch 164/200\n",
            "4/4 [==============================] - 0s 16ms/step - loss: 2872.4199 - val_loss: 3320.6965\n",
            "Epoch 165/200\n",
            "4/4 [==============================] - 0s 15ms/step - loss: 2749.0636 - val_loss: 3247.0527\n",
            "Epoch 166/200\n",
            "4/4 [==============================] - 0s 16ms/step - loss: 2821.5415 - val_loss: 3306.9368\n",
            "Epoch 167/200\n",
            "4/4 [==============================] - 0s 19ms/step - loss: 3035.2836 - val_loss: 3290.8044\n",
            "Epoch 168/200\n",
            "4/4 [==============================] - 0s 16ms/step - loss: 2994.5003 - val_loss: 3293.1641\n",
            "Epoch 169/200\n",
            "4/4 [==============================] - 0s 15ms/step - loss: 2723.3703 - val_loss: 3276.9758\n",
            "Epoch 170/200\n",
            "4/4 [==============================] - 0s 16ms/step - loss: 2846.7662 - val_loss: 3257.4368\n",
            "Epoch 171/200\n",
            "4/4 [==============================] - 0s 14ms/step - loss: 2827.6650 - val_loss: 3270.3831\n",
            "Epoch 172/200\n",
            "4/4 [==============================] - 0s 17ms/step - loss: 2747.9750 - val_loss: 3225.5935\n",
            "Epoch 173/200\n",
            "4/4 [==============================] - 0s 15ms/step - loss: 2599.6486 - val_loss: 3233.3059\n",
            "Epoch 174/200\n",
            "4/4 [==============================] - 0s 14ms/step - loss: 2721.2386 - val_loss: 3317.8716\n",
            "Epoch 175/200\n",
            "4/4 [==============================] - 0s 14ms/step - loss: 2790.8853 - val_loss: 3273.7017\n",
            "Epoch 176/200\n",
            "4/4 [==============================] - 0s 14ms/step - loss: 2953.5492 - val_loss: 3291.5996\n",
            "Epoch 177/200\n",
            "4/4 [==============================] - 0s 14ms/step - loss: 2758.4564 - val_loss: 3201.3022\n",
            "Epoch 178/200\n",
            "4/4 [==============================] - 0s 16ms/step - loss: 2960.3129 - val_loss: 3266.7385\n",
            "Epoch 179/200\n",
            "4/4 [==============================] - 0s 17ms/step - loss: 2916.0397 - val_loss: 3231.7314\n",
            "Epoch 180/200\n",
            "4/4 [==============================] - 0s 15ms/step - loss: 2863.3566 - val_loss: 3264.6443\n",
            "Epoch 181/200\n",
            "4/4 [==============================] - 0s 14ms/step - loss: 2724.7850 - val_loss: 3171.5713\n",
            "Epoch 182/200\n",
            "4/4 [==============================] - 0s 14ms/step - loss: 2769.9802 - val_loss: 3172.8916\n",
            "Epoch 183/200\n",
            "4/4 [==============================] - 0s 20ms/step - loss: 2914.7324 - val_loss: 3173.6274\n",
            "Epoch 184/200\n",
            "4/4 [==============================] - 0s 16ms/step - loss: 2709.5677 - val_loss: 3197.7441\n",
            "Epoch 185/200\n",
            "4/4 [==============================] - 0s 62ms/step - loss: 2711.2597 - val_loss: 3240.4177\n",
            "Epoch 186/200\n",
            "4/4 [==============================] - 0s 18ms/step - loss: 3066.0323 - val_loss: 3223.6721\n",
            "Epoch 187/200\n",
            "4/4 [==============================] - 0s 15ms/step - loss: 2997.2253 - val_loss: 3189.1665\n",
            "Epoch 188/200\n",
            "4/4 [==============================] - 0s 17ms/step - loss: 2685.9034 - val_loss: 3259.2244\n",
            "Epoch 189/200\n",
            "4/4 [==============================] - 0s 16ms/step - loss: 2926.3723 - val_loss: 3169.5498\n",
            "Epoch 190/200\n",
            "4/4 [==============================] - 0s 14ms/step - loss: 2747.9935 - val_loss: 3202.3479\n",
            "Epoch 191/200\n",
            "4/4 [==============================] - 0s 14ms/step - loss: 2766.1570 - val_loss: 3111.8501\n",
            "Epoch 192/200\n",
            "4/4 [==============================] - 0s 14ms/step - loss: 2806.0028 - val_loss: 3141.9373\n",
            "Epoch 193/200\n",
            "4/4 [==============================] - 0s 14ms/step - loss: 2645.3325 - val_loss: 3113.3779\n",
            "Epoch 194/200\n",
            "4/4 [==============================] - 0s 17ms/step - loss: 2682.7574 - val_loss: 3171.5696\n",
            "Epoch 195/200\n",
            "4/4 [==============================] - 0s 15ms/step - loss: 2658.4764 - val_loss: 3165.4729\n",
            "Epoch 196/200\n",
            "4/4 [==============================] - 0s 14ms/step - loss: 2856.1554 - val_loss: 3109.7947\n",
            "Epoch 197/200\n",
            "4/4 [==============================] - 0s 16ms/step - loss: 2636.8358 - val_loss: 3139.6699\n",
            "Epoch 198/200\n",
            "4/4 [==============================] - 0s 17ms/step - loss: 2863.4584 - val_loss: 3171.1604\n",
            "Epoch 199/200\n",
            "4/4 [==============================] - 0s 15ms/step - loss: 2858.2469 - val_loss: 3192.3123\n",
            "Epoch 200/200\n",
            "4/4 [==============================] - 0s 15ms/step - loss: 2993.3104 - val_loss: 3111.9270\n"
          ],
          "name": "stdout"
        }
      ]
    },
    {
      "cell_type": "code",
      "metadata": {
        "colab": {
          "base_uri": "https://localhost:8080/",
          "height": 265
        },
        "id": "ZpOAczunTzZj",
        "outputId": "2e2bb9d8-94c5-4d2b-b8f8-87013af2296f"
      },
      "source": [
        "plt.plot(range(200), hist.history['loss'])\r\n",
        "plt.plot(range(200), hist.history['val_loss'])\r\n",
        "plt.show()"
      ],
      "execution_count": null,
      "outputs": [
        {
          "output_type": "display_data",
          "data": {
            "image/png": "[encoded data removed]",
            "text/plain": [
              "<Figure size 432x288 with 1 Axes>"
            ]
          },
          "metadata": {
            "tags": [],
            "needs_background": "light"
          }
        }
      ]
    },
    {
      "cell_type": "code",
      "metadata": {
        "colab": {
          "base_uri": "https://localhost:8080/"
        },
        "id": "RUMDNgImUxgC",
        "outputId": "f0412296-5a7e-40bd-950e-35d3da9b3ba5"
      },
      "source": [
        "y_pred = model.predict(X_te).flatten()\r\n",
        "err = y_te - y_pred\r\n",
        "err"
      ],
      "execution_count": null,
      "outputs": [
        {
          "output_type": "execute_result",
          "data": {
            "text/plain": [
              "51      59.645523\n",
              "58      95.827660\n",
              "327      3.646896\n",
              "3       63.251343\n",
              "393    -49.351166\n",
              "          ...    \n",
              "277    -49.889069\n",
              "283     79.757683\n",
              "405      8.181824\n",
              "395    112.403595\n",
              "141    110.938370\n",
              "Length: 89, dtype: float64"
            ]
          },
          "metadata": {
            "tags": []
          },
          "execution_count": 61
        }
      ]
    },
    {
      "cell_type": "markdown",
      "metadata": {
        "id": "I2kFYnWhHLA3"
      },
      "source": [
        "# Digits Clssifiction"
      ]
    },
    {
      "cell_type": "code",
      "metadata": {
        "id": "2jWW3If1Ht77"
      },
      "source": [
        "digits = datasets.load_digits()"
      ],
      "execution_count": 30,
      "outputs": []
    },
    {
      "cell_type": "code",
      "metadata": {
        "colab": {
          "base_uri": "https://localhost:8080/"
        },
        "id": "TA4Ma6D7H-EC",
        "outputId": "62b78c43-5b5c-4818-f1e6-f39e1d2849f2"
      },
      "source": [
        "digits.keys()"
      ],
      "execution_count": 31,
      "outputs": [
        {
          "output_type": "execute_result",
          "data": {
            "text/plain": [
              "dict_keys(['data', 'target', 'target_names', 'images', 'DESCR'])"
            ]
          },
          "metadata": {
            "tags": []
          },
          "execution_count": 31
        }
      ]
    },
    {
      "cell_type": "code",
      "metadata": {
        "id": "E-NJ58G6IARx"
      },
      "source": [
        "X = digits['data']\r\n",
        "y = digits['target']"
      ],
      "execution_count": 57,
      "outputs": []
    },
    {
      "cell_type": "code",
      "metadata": {
        "colab": {
          "base_uri": "https://localhost:8080/"
        },
        "id": "gQ51piY7ILXu",
        "outputId": "ce4529e5-6cfc-4691-dce7-2a61df517631"
      },
      "source": [
        "print(digits['DESCR'])"
      ],
      "execution_count": 58,
      "outputs": [
        {
          "output_type": "stream",
          "text": [
            ".. _digits_dataset:\n",
            "\n",
            "Optical recognition of handwritten digits dataset\n",
            "--------------------------------------------------\n",
            "\n",
            "**Data Set Characteristics:**\n",
            "\n",
            "    :Number of Instances: 5620\n",
            "    :Number of Attributes: 64\n",
            "    :Attribute Information: 8x8 image of integer pixels in the range 0..16.\n",
            "    :Missing Attribute Values: None\n",
            "    :Creator: E. Alpaydin (alpaydin '@' boun.edu.tr)\n",
            "    :Date: July; 1998\n",
            "\n",
            "This is a copy of the test set of the UCI ML hand-written digits datasets\n",
            "https://archive.ics.uci.edu/ml/datasets/Optical+Recognition+of+Handwritten+Digits\n",
            "\n",
            "The data set contains images of hand-written digits: 10 classes where\n",
            "each class refers to a digit.\n",
            "\n",
            "Preprocessing programs made available by NIST were used to extract\n",
            "normalized bitmaps of handwritten digits from a preprinted form. From a\n",
            "total of 43 people, 30 contributed to the training set and different 13\n",
            "to the test set. 32x32 bitmaps are divided into nonoverlapping blocks of\n",
            "4x4 and the number of on pixels are counted in each block. This generates\n",
            "an input matrix of 8x8 where each element is an integer in the range\n",
            "0..16. This reduces dimensionality and gives invariance to small\n",
            "distortions.\n",
            "\n",
            "For info on NIST preprocessing routines, see M. D. Garris, J. L. Blue, G.\n",
            "T. Candela, D. L. Dimmick, J. Geist, P. J. Grother, S. A. Janet, and C.\n",
            "L. Wilson, NIST Form-Based Handprint Recognition System, NISTIR 5469,\n",
            "1994.\n",
            "\n",
            ".. topic:: References\n",
            "\n",
            "  - C. Kaynak (1995) Methods of Combining Multiple Classifiers and Their\n",
            "    Applications to Handwritten Digit Recognition, MSc Thesis, Institute of\n",
            "    Graduate Studies in Science and Engineering, Bogazici University.\n",
            "  - E. Alpaydin, C. Kaynak (1998) Cascading Classifiers, Kybernetika.\n",
            "  - Ken Tang and Ponnuthurai N. Suganthan and Xi Yao and A. Kai Qin.\n",
            "    Linear dimensionalityreduction using relevance weighted LDA. School of\n",
            "    Electrical and Electronic Engineering Nanyang Technological University.\n",
            "    2005.\n",
            "  - Claudio Gentile. A New Approximate Maximal Margin Classification\n",
            "    Algorithm. NIPS. 2000.\n"
          ],
          "name": "stdout"
        }
      ]
    },
    {
      "cell_type": "code",
      "metadata": {
        "colab": {
          "base_uri": "https://localhost:8080/"
        },
        "id": "OAs8uuDPIXKO",
        "outputId": "86ea1055-ae8b-45fb-c340-76d5624453a3"
      },
      "source": [
        "print(X.shape)\r\n",
        "X"
      ],
      "execution_count": 59,
      "outputs": [
        {
          "output_type": "stream",
          "text": [
            "(1797, 64)\n"
          ],
          "name": "stdout"
        },
        {
          "output_type": "execute_result",
          "data": {
            "text/plain": [
              "array([[ 0.,  0.,  5., ...,  0.,  0.,  0.],\n",
              "       [ 0.,  0.,  0., ..., 10.,  0.,  0.],\n",
              "       [ 0.,  0.,  0., ..., 16.,  9.,  0.],\n",
              "       ...,\n",
              "       [ 0.,  0.,  1., ...,  6.,  0.,  0.],\n",
              "       [ 0.,  0.,  2., ..., 12.,  0.,  0.],\n",
              "       [ 0.,  0., 10., ..., 12.,  1.,  0.]])"
            ]
          },
          "metadata": {
            "tags": []
          },
          "execution_count": 59
        }
      ]
    },
    {
      "cell_type": "code",
      "metadata": {
        "colab": {
          "base_uri": "https://localhost:8080/"
        },
        "id": "GF9Jj-0xITB9",
        "outputId": "c560ffd4-9378-4fed-ea4f-494ca0d4552a"
      },
      "source": [
        "X.dtype"
      ],
      "execution_count": 60,
      "outputs": [
        {
          "output_type": "execute_result",
          "data": {
            "text/plain": [
              "dtype('float64')"
            ]
          },
          "metadata": {
            "tags": []
          },
          "execution_count": 60
        }
      ]
    },
    {
      "cell_type": "code",
      "metadata": {
        "colab": {
          "base_uri": "https://localhost:8080/"
        },
        "id": "Ke_f_RRbLPNB",
        "outputId": "81ecc8a4-3338-447b-ce25-051f189c3ed5"
      },
      "source": [
        "y"
      ],
      "execution_count": 61,
      "outputs": [
        {
          "output_type": "execute_result",
          "data": {
            "text/plain": [
              "array([0, 1, 2, ..., 8, 9, 8])"
            ]
          },
          "metadata": {
            "tags": []
          },
          "execution_count": 61
        }
      ]
    },
    {
      "cell_type": "code",
      "metadata": {
        "id": "8XO5USyfKwqm"
      },
      "source": [
        "X_tr,X_te, y_tr, y_te = model_selection.train_test_split(X,y, test_size=0.2)"
      ],
      "execution_count": 62,
      "outputs": []
    },
    {
      "cell_type": "code",
      "metadata": {
        "id": "JNojcjKuJJuP"
      },
      "source": [
        "enc = preprocessing.OneHotEncoder()\r\n",
        "y_tr = enc.fit_transform(y_tr.reshape(-1,1)).toarray()\r\n",
        "y_te = enc.fit_transform(y_te.reshape(-1,1)).toarray()"
      ],
      "execution_count": 63,
      "outputs": []
    },
    {
      "cell_type": "code",
      "metadata": {
        "colab": {
          "base_uri": "https://localhost:8080/"
        },
        "id": "cftCtY8TJvwD",
        "outputId": "dfb03cd2-31ec-4bba-b319-a775b8ec4840"
      },
      "source": [
        "model = Sequential([\r\n",
        "                    layers.Dense(128, input_shape=(64,)),\r\n",
        "                    layers.Dense(128, activation='relu'),\r\n",
        "                    layers.Dense(64, activation='relu'),\r\n",
        "                    layers.Dense(10, activation='softmax')\r\n",
        "])\r\n",
        "\r\n",
        "model.compile(optimizer='rmsprop', loss='categorical_crossentropy', metrics=['accuracy'])\r\n",
        "\r\n",
        "hist = model.fit(X_tr, y_tr, validation_data=(X_te, y_te), epochs=20)"
      ],
      "execution_count": 69,
      "outputs": [
        {
          "output_type": "stream",
          "text": [
            "Epoch 1/20\n",
            "45/45 [==============================] - 1s 6ms/step - loss: 2.0270 - accuracy: 0.5757 - val_loss: 0.3668 - val_accuracy: 0.8889\n",
            "Epoch 2/20\n",
            "45/45 [==============================] - 0s 2ms/step - loss: 0.2350 - accuracy: 0.9338 - val_loss: 0.2566 - val_accuracy: 0.9222\n",
            "Epoch 3/20\n",
            "45/45 [==============================] - 0s 3ms/step - loss: 0.1109 - accuracy: 0.9643 - val_loss: 0.2084 - val_accuracy: 0.9389\n",
            "Epoch 4/20\n",
            "45/45 [==============================] - 0s 3ms/step - loss: 0.0665 - accuracy: 0.9817 - val_loss: 0.3343 - val_accuracy: 0.9361\n",
            "Epoch 5/20\n",
            "45/45 [==============================] - 0s 2ms/step - loss: 0.0678 - accuracy: 0.9749 - val_loss: 0.1162 - val_accuracy: 0.9583\n",
            "Epoch 6/20\n",
            "45/45 [==============================] - 0s 2ms/step - loss: 0.0249 - accuracy: 0.9927 - val_loss: 0.1310 - val_accuracy: 0.9611\n",
            "Epoch 7/20\n",
            "45/45 [==============================] - 0s 2ms/step - loss: 0.0113 - accuracy: 0.9992 - val_loss: 0.1398 - val_accuracy: 0.9611\n",
            "Epoch 8/20\n",
            "45/45 [==============================] - 0s 3ms/step - loss: 0.0118 - accuracy: 0.9964 - val_loss: 0.1617 - val_accuracy: 0.9667\n",
            "Epoch 9/20\n",
            "45/45 [==============================] - 0s 2ms/step - loss: 0.0073 - accuracy: 0.9977 - val_loss: 0.1599 - val_accuracy: 0.9639\n",
            "Epoch 10/20\n",
            "45/45 [==============================] - 0s 2ms/step - loss: 0.0104 - accuracy: 0.9984 - val_loss: 0.1148 - val_accuracy: 0.9694\n",
            "Epoch 11/20\n",
            "45/45 [==============================] - 0s 3ms/step - loss: 0.0115 - accuracy: 0.9966 - val_loss: 0.4736 - val_accuracy: 0.9250\n",
            "Epoch 12/20\n",
            "45/45 [==============================] - 0s 2ms/step - loss: 0.0279 - accuracy: 0.9950 - val_loss: 0.1439 - val_accuracy: 0.9667\n",
            "Epoch 13/20\n",
            "45/45 [==============================] - 0s 2ms/step - loss: 0.0052 - accuracy: 0.9989 - val_loss: 0.1239 - val_accuracy: 0.9750\n",
            "Epoch 14/20\n",
            "45/45 [==============================] - 0s 3ms/step - loss: 0.0040 - accuracy: 0.9983 - val_loss: 0.1664 - val_accuracy: 0.9667\n",
            "Epoch 15/20\n",
            "45/45 [==============================] - 0s 3ms/step - loss: 0.0173 - accuracy: 0.9970 - val_loss: 0.1275 - val_accuracy: 0.9806\n",
            "Epoch 16/20\n",
            "45/45 [==============================] - 0s 2ms/step - loss: 0.0015 - accuracy: 0.9997 - val_loss: 0.1496 - val_accuracy: 0.9750\n",
            "Epoch 17/20\n",
            "45/45 [==============================] - 0s 3ms/step - loss: 0.0096 - accuracy: 0.9976 - val_loss: 0.2378 - val_accuracy: 0.9556\n",
            "Epoch 18/20\n",
            "45/45 [==============================] - 0s 3ms/step - loss: 0.0575 - accuracy: 0.9893 - val_loss: 0.1403 - val_accuracy: 0.9750\n",
            "Epoch 19/20\n",
            "45/45 [==============================] - 0s 3ms/step - loss: 5.1620e-05 - accuracy: 1.0000 - val_loss: 0.1258 - val_accuracy: 0.9778\n",
            "Epoch 20/20\n",
            "45/45 [==============================] - 0s 3ms/step - loss: 0.0034 - accuracy: 0.9993 - val_loss: 0.1372 - val_accuracy: 0.9750\n"
          ],
          "name": "stdout"
        }
      ]
    },
    {
      "cell_type": "code",
      "metadata": {
        "colab": {
          "base_uri": "https://localhost:8080/",
          "height": 265
        },
        "id": "XIbyVzvcLd82",
        "outputId": "5b0db4ed-9e67-4f1c-a1bd-77e67cbbbff4"
      },
      "source": [
        "plt.plot(range(20), hist.history['loss'])\r\n",
        "plt.plot(range(20), hist.history['val_loss'])\r\n",
        "plt.legend(['train loss','val loss'])\r\n",
        "plt.show()"
      ],
      "execution_count": 70,
      "outputs": [
        {
          "output_type": "display_data",
          "data": {
            "image/png": "[encoded data removed]",
            "text/plain": [
              "<Figure size 432x288 with 1 Axes>"
            ]
          },
          "metadata": {
            "tags": [],
            "needs_background": "light"
          }
        }
      ]
    },
    {
      "cell_type": "code",
      "metadata": {
        "colab": {
          "base_uri": "https://localhost:8080/"
        },
        "id": "BCJwL0IJMW2X",
        "outputId": "dc44a8f1-46f3-4527-be9c-dc533359e61d"
      },
      "source": [
        "pred = np.round(model.predict(X_te), 2)\r\n",
        "pred = [i.argmax() for i in pred]\r\n",
        "pred_df = pd.DataFrame()\r\n",
        "pred_df['y_te'] = enc.inverse_transform(y_te).flatten()\r\n",
        "pred_df['pred'] = pred\r\n"
      ],
      "execution_count": 76,
      "outputs": [
        {
          "output_type": "execute_result",
          "data": {
            "text/plain": [
              "[4,\n",
              " 0,\n",
              " 0,\n",
              " 3,\n",
              " 2,\n",
              " 5,\n",
              " 9,\n",
              " 9,\n",
              " 1,\n",
              " 4,\n",
              " 9,\n",
              " 1,\n",
              " 5,\n",
              " 4,\n",
              " 3,\n",
              " 3,\n",
              " 8,\n",
              " 7,\n",
              " 0,\n",
              " 4,\n",
              " 1,\n",
              " 0,\n",
              " 9,\n",
              " 6,\n",
              " 8,\n",
              " 5,\n",
              " 0,\n",
              " 7,\n",
              " 6,\n",
              " 5,\n",
              " 7,\n",
              " 9,\n",
              " 5,\n",
              " 8,\n",
              " 7,\n",
              " 1,\n",
              " 4,\n",
              " 9,\n",
              " 3,\n",
              " 1,\n",
              " 8,\n",
              " 4,\n",
              " 7,\n",
              " 5,\n",
              " 5,\n",
              " 9,\n",
              " 9,\n",
              " 7,\n",
              " 7,\n",
              " 6,\n",
              " 3,\n",
              " 3,\n",
              " 8,\n",
              " 4,\n",
              " 8,\n",
              " 6,\n",
              " 4,\n",
              " 5,\n",
              " 9,\n",
              " 1,\n",
              " 7,\n",
              " 5,\n",
              " 6,\n",
              " 4,\n",
              " 5,\n",
              " 2,\n",
              " 9,\n",
              " 1,\n",
              " 7,\n",
              " 7,\n",
              " 1,\n",
              " 9,\n",
              " 9,\n",
              " 9,\n",
              " 8,\n",
              " 3,\n",
              " 0,\n",
              " 7,\n",
              " 0,\n",
              " 2,\n",
              " 0,\n",
              " 4,\n",
              " 3,\n",
              " 8,\n",
              " 3,\n",
              " 2,\n",
              " 5,\n",
              " 0,\n",
              " 2,\n",
              " 4,\n",
              " 2,\n",
              " 9,\n",
              " 4,\n",
              " 1,\n",
              " 9,\n",
              " 3,\n",
              " 5,\n",
              " 4,\n",
              " 6,\n",
              " 6,\n",
              " 5,\n",
              " 0,\n",
              " 7,\n",
              " 0,\n",
              " 1,\n",
              " 9,\n",
              " 4,\n",
              " 6,\n",
              " 1,\n",
              " 6,\n",
              " 9,\n",
              " 3,\n",
              " 6,\n",
              " 4,\n",
              " 6,\n",
              " 4,\n",
              " 4,\n",
              " 5,\n",
              " 5,\n",
              " 7,\n",
              " 1,\n",
              " 0,\n",
              " 4,\n",
              " 1,\n",
              " 8,\n",
              " 8,\n",
              " 6,\n",
              " 2,\n",
              " 1,\n",
              " 1,\n",
              " 7,\n",
              " 9,\n",
              " 4,\n",
              " 6,\n",
              " 7,\n",
              " 8,\n",
              " 4,\n",
              " 2,\n",
              " 1,\n",
              " 4,\n",
              " 9,\n",
              " 0,\n",
              " 0,\n",
              " 0,\n",
              " 5,\n",
              " 0,\n",
              " 2,\n",
              " 0,\n",
              " 6,\n",
              " 2,\n",
              " 7,\n",
              " 2,\n",
              " 2,\n",
              " 9,\n",
              " 5,\n",
              " 5,\n",
              " 9,\n",
              " 0,\n",
              " 8,\n",
              " 2,\n",
              " 0,\n",
              " 9,\n",
              " 4,\n",
              " 9,\n",
              " 2,\n",
              " 2,\n",
              " 3,\n",
              " 6,\n",
              " 5,\n",
              " 9,\n",
              " 9,\n",
              " 4,\n",
              " 7,\n",
              " 6,\n",
              " 5,\n",
              " 7,\n",
              " 7,\n",
              " 0,\n",
              " 4,\n",
              " 1,\n",
              " 0,\n",
              " 4,\n",
              " 4,\n",
              " 1,\n",
              " 4,\n",
              " 1,\n",
              " 6,\n",
              " 6,\n",
              " 5,\n",
              " 4,\n",
              " 0,\n",
              " 1,\n",
              " 8,\n",
              " 4,\n",
              " 6,\n",
              " 8,\n",
              " 8,\n",
              " 7,\n",
              " 1,\n",
              " 6,\n",
              " 5,\n",
              " 4,\n",
              " 0,\n",
              " 6,\n",
              " 8,\n",
              " 2,\n",
              " 6,\n",
              " 4,\n",
              " 1,\n",
              " 6,\n",
              " 8,\n",
              " 3,\n",
              " 8,\n",
              " 4,\n",
              " 5,\n",
              " 9,\n",
              " 3,\n",
              " 6,\n",
              " 9,\n",
              " 0,\n",
              " 9,\n",
              " 3,\n",
              " 7,\n",
              " 0,\n",
              " 7,\n",
              " 9,\n",
              " 2,\n",
              " 7,\n",
              " 2,\n",
              " 1,\n",
              " 3,\n",
              " 5,\n",
              " 3,\n",
              " 5,\n",
              " 5,\n",
              " 2,\n",
              " 8,\n",
              " 2,\n",
              " 5,\n",
              " 8,\n",
              " 1,\n",
              " 3,\n",
              " 9,\n",
              " 6,\n",
              " 3,\n",
              " 2,\n",
              " 5,\n",
              " 3,\n",
              " 3,\n",
              " 1,\n",
              " 7,\n",
              " 2,\n",
              " 6,\n",
              " 5,\n",
              " 0,\n",
              " 5,\n",
              " 4,\n",
              " 3,\n",
              " 7,\n",
              " 5,\n",
              " 3,\n",
              " 3,\n",
              " 4,\n",
              " 1,\n",
              " 6,\n",
              " 8,\n",
              " 6,\n",
              " 4,\n",
              " 8,\n",
              " 3,\n",
              " 1,\n",
              " 7,\n",
              " 9,\n",
              " 0,\n",
              " 3,\n",
              " 7,\n",
              " 3,\n",
              " 3,\n",
              " 9,\n",
              " 6,\n",
              " 4,\n",
              " 7,\n",
              " 2,\n",
              " 7,\n",
              " 4,\n",
              " 3,\n",
              " 4,\n",
              " 6,\n",
              " 6,\n",
              " 4,\n",
              " 8,\n",
              " 7,\n",
              " 8,\n",
              " 7,\n",
              " 7,\n",
              " 9,\n",
              " 4,\n",
              " 6,\n",
              " 0,\n",
              " 9,\n",
              " 0,\n",
              " 5,\n",
              " 0,\n",
              " 2,\n",
              " 8,\n",
              " 3,\n",
              " 1,\n",
              " 2,\n",
              " 0,\n",
              " 6,\n",
              " 5,\n",
              " 9,\n",
              " 3,\n",
              " 6,\n",
              " 0,\n",
              " 9,\n",
              " 6,\n",
              " 8,\n",
              " 1,\n",
              " 7,\n",
              " 2,\n",
              " 9,\n",
              " 5,\n",
              " 6,\n",
              " 3,\n",
              " 3,\n",
              " 3,\n",
              " 9,\n",
              " 2,\n",
              " 2,\n",
              " 5,\n",
              " 3,\n",
              " 1,\n",
              " 8,\n",
              " 6,\n",
              " 9,\n",
              " 2,\n",
              " 9,\n",
              " 2,\n",
              " 0,\n",
              " 0,\n",
              " 3,\n",
              " 9,\n",
              " 5,\n",
              " 9,\n",
              " 1,\n",
              " 8,\n",
              " 3,\n",
              " 6,\n",
              " 4,\n",
              " 4,\n",
              " 1,\n",
              " 6,\n",
              " 1,\n",
              " 3,\n",
              " 8,\n",
              " 2,\n",
              " 2,\n",
              " 3,\n",
              " 6]"
            ]
          },
          "metadata": {
            "tags": []
          },
          "execution_count": 76
        }
      ]
    },
    {
      "cell_type": "code",
      "metadata": {
        "colab": {
          "base_uri": "https://localhost:8080/"
        },
        "id": "ss9Lb43WM3C5",
        "outputId": "9c2ea770-68c3-4a81-b1ce-43a96fd6eb81"
      },
      "source": [
        "pred_df['pred_diff'] = 0\r\n",
        "pred_df.loc[pred_df['y_te']!=pred_df['pred'],'pred_diff'] = 1\r\n",
        "pred_df['pred_diff'].value_counts()"
      ],
      "execution_count": 78,
      "outputs": [
        {
          "output_type": "execute_result",
          "data": {
            "text/plain": [
              "0    351\n",
              "1      9\n",
              "Name: pred_diff, dtype: int64"
            ]
          },
          "metadata": {
            "tags": []
          },
          "execution_count": 78
        }
      ]
    },
    {
      "cell_type": "code",
      "metadata": {
        "id": "HImOVDK6OkMM"
      },
      "source": [
        ""
      ],
      "execution_count": null,
      "outputs": []
    },
    {
      "cell_type": "markdown",
      "metadata": {
        "id": "YKcrC1xiPYWE"
      },
      "source": [
        "# Linnerud"
      ]
    },
    {
      "cell_type": "code",
      "metadata": {
        "colab": {
          "base_uri": "https://localhost:8080/"
        },
        "id": "6sZACEgDPje3",
        "outputId": "e47dd454-6236-4a8c-9bef-f46f1cbf8cb5"
      },
      "source": [
        "linnerud = datasets.load_linnerud()\r\n",
        "linnerud.keys()"
      ],
      "execution_count": 79,
      "outputs": [
        {
          "output_type": "execute_result",
          "data": {
            "text/plain": [
              "dict_keys(['data', 'feature_names', 'target', 'target_names', 'DESCR', 'data_filename', 'target_filename'])"
            ]
          },
          "metadata": {
            "tags": []
          },
          "execution_count": 79
        }
      ]
    },
    {
      "cell_type": "code",
      "metadata": {
        "id": "AmZcj1UPP6c3"
      },
      "source": [
        "X = pd.DataFrame(linnerud['data'], columns=linnerud['feature_names'])\r\n",
        "y = linnerud['target']"
      ],
      "execution_count": 81,
      "outputs": []
    },
    {
      "cell_type": "code",
      "metadata": {
        "colab": {
          "base_uri": "https://localhost:8080/",
          "height": 669
        },
        "id": "5jymfeE4QufG",
        "outputId": "99c03de9-bc4b-44d4-deae-24f73d2248de"
      },
      "source": [
        "X"
      ],
      "execution_count": 82,
      "outputs": [
        {
          "output_type": "execute_result",
          "data": {
            "text/html": [
              "<div>\n",
              "<style scoped>\n",
              "    .dataframe tbody tr th:only-of-type {\n",
              "        vertical-align: middle;\n",
              "    }\n",
              "\n",
              "    .dataframe tbody tr th {\n",
              "        vertical-align: top;\n",
              "    }\n",
              "\n",
              "    .dataframe thead th {\n",
              "        text-align: right;\n",
              "    }\n",
              "</style>\n",
              "<table border=\"1\" class=\"dataframe\">\n",
              "  <thead>\n",
              "    <tr style=\"text-align: right;\">\n",
              "      <th></th>\n",
              "      <th>Chins</th>\n",
              "      <th>Situps</th>\n",
              "      <th>Jumps</th>\n",
              "    </tr>\n",
              "  </thead>\n",
              "  <tbody>\n",
              "    <tr>\n",
              "      <th>0</th>\n",
              "      <td>5.0</td>\n",
              "      <td>162.0</td>\n",
              "      <td>60.0</td>\n",
              "    </tr>\n",
              "    <tr>\n",
              "      <th>1</th>\n",
              "      <td>2.0</td>\n",
              "      <td>110.0</td>\n",
              "      <td>60.0</td>\n",
              "    </tr>\n",
              "    <tr>\n",
              "      <th>2</th>\n",
              "      <td>12.0</td>\n",
              "      <td>101.0</td>\n",
              "      <td>101.0</td>\n",
              "    </tr>\n",
              "    <tr>\n",
              "      <th>3</th>\n",
              "      <td>12.0</td>\n",
              "      <td>105.0</td>\n",
              "      <td>37.0</td>\n",
              "    </tr>\n",
              "    <tr>\n",
              "      <th>4</th>\n",
              "      <td>13.0</td>\n",
              "      <td>155.0</td>\n",
              "      <td>58.0</td>\n",
              "    </tr>\n",
              "    <tr>\n",
              "      <th>5</th>\n",
              "      <td>4.0</td>\n",
              "      <td>101.0</td>\n",
              "      <td>42.0</td>\n",
              "    </tr>\n",
              "    <tr>\n",
              "      <th>6</th>\n",
              "      <td>8.0</td>\n",
              "      <td>101.0</td>\n",
              "      <td>38.0</td>\n",
              "    </tr>\n",
              "    <tr>\n",
              "      <th>7</th>\n",
              "      <td>6.0</td>\n",
              "      <td>125.0</td>\n",
              "      <td>40.0</td>\n",
              "    </tr>\n",
              "    <tr>\n",
              "      <th>8</th>\n",
              "      <td>15.0</td>\n",
              "      <td>200.0</td>\n",
              "      <td>40.0</td>\n",
              "    </tr>\n",
              "    <tr>\n",
              "      <th>9</th>\n",
              "      <td>17.0</td>\n",
              "      <td>251.0</td>\n",
              "      <td>250.0</td>\n",
              "    </tr>\n",
              "    <tr>\n",
              "      <th>10</th>\n",
              "      <td>17.0</td>\n",
              "      <td>120.0</td>\n",
              "      <td>38.0</td>\n",
              "    </tr>\n",
              "    <tr>\n",
              "      <th>11</th>\n",
              "      <td>13.0</td>\n",
              "      <td>210.0</td>\n",
              "      <td>115.0</td>\n",
              "    </tr>\n",
              "    <tr>\n",
              "      <th>12</th>\n",
              "      <td>14.0</td>\n",
              "      <td>215.0</td>\n",
              "      <td>105.0</td>\n",
              "    </tr>\n",
              "    <tr>\n",
              "      <th>13</th>\n",
              "      <td>1.0</td>\n",
              "      <td>50.0</td>\n",
              "      <td>50.0</td>\n",
              "    </tr>\n",
              "    <tr>\n",
              "      <th>14</th>\n",
              "      <td>6.0</td>\n",
              "      <td>70.0</td>\n",
              "      <td>31.0</td>\n",
              "    </tr>\n",
              "    <tr>\n",
              "      <th>15</th>\n",
              "      <td>12.0</td>\n",
              "      <td>210.0</td>\n",
              "      <td>120.0</td>\n",
              "    </tr>\n",
              "    <tr>\n",
              "      <th>16</th>\n",
              "      <td>4.0</td>\n",
              "      <td>60.0</td>\n",
              "      <td>25.0</td>\n",
              "    </tr>\n",
              "    <tr>\n",
              "      <th>17</th>\n",
              "      <td>11.0</td>\n",
              "      <td>230.0</td>\n",
              "      <td>80.0</td>\n",
              "    </tr>\n",
              "    <tr>\n",
              "      <th>18</th>\n",
              "      <td>15.0</td>\n",
              "      <td>225.0</td>\n",
              "      <td>73.0</td>\n",
              "    </tr>\n",
              "    <tr>\n",
              "      <th>19</th>\n",
              "      <td>2.0</td>\n",
              "      <td>110.0</td>\n",
              "      <td>43.0</td>\n",
              "    </tr>\n",
              "  </tbody>\n",
              "</table>\n",
              "</div>"
            ],
            "text/plain": [
              "    Chins  Situps  Jumps\n",
              "0     5.0   162.0   60.0\n",
              "1     2.0   110.0   60.0\n",
              "2    12.0   101.0  101.0\n",
              "3    12.0   105.0   37.0\n",
              "4    13.0   155.0   58.0\n",
              "5     4.0   101.0   42.0\n",
              "6     8.0   101.0   38.0\n",
              "7     6.0   125.0   40.0\n",
              "8    15.0   200.0   40.0\n",
              "9    17.0   251.0  250.0\n",
              "10   17.0   120.0   38.0\n",
              "11   13.0   210.0  115.0\n",
              "12   14.0   215.0  105.0\n",
              "13    1.0    50.0   50.0\n",
              "14    6.0    70.0   31.0\n",
              "15   12.0   210.0  120.0\n",
              "16    4.0    60.0   25.0\n",
              "17   11.0   230.0   80.0\n",
              "18   15.0   225.0   73.0\n",
              "19    2.0   110.0   43.0"
            ]
          },
          "metadata": {
            "tags": []
          },
          "execution_count": 82
        }
      ]
    },
    {
      "cell_type": "code",
      "metadata": {
        "colab": {
          "base_uri": "https://localhost:8080/"
        },
        "id": "fpmweTx_Q0lM",
        "outputId": "f1ac8c5f-4d6c-4c40-a62d-0bcca6067037"
      },
      "source": [
        "y"
      ],
      "execution_count": 83,
      "outputs": [
        {
          "output_type": "execute_result",
          "data": {
            "text/plain": [
              "array([[191.,  36.,  50.],\n",
              "       [189.,  37.,  52.],\n",
              "       [193.,  38.,  58.],\n",
              "       [162.,  35.,  62.],\n",
              "       [189.,  35.,  46.],\n",
              "       [182.,  36.,  56.],\n",
              "       [211.,  38.,  56.],\n",
              "       [167.,  34.,  60.],\n",
              "       [176.,  31.,  74.],\n",
              "       [154.,  33.,  56.],\n",
              "       [169.,  34.,  50.],\n",
              "       [166.,  33.,  52.],\n",
              "       [154.,  34.,  64.],\n",
              "       [247.,  46.,  50.],\n",
              "       [193.,  36.,  46.],\n",
              "       [202.,  37.,  62.],\n",
              "       [176.,  37.,  54.],\n",
              "       [157.,  32.,  52.],\n",
              "       [156.,  33.,  54.],\n",
              "       [138.,  33.,  68.]])"
            ]
          },
          "metadata": {
            "tags": []
          },
          "execution_count": 83
        }
      ]
    },
    {
      "cell_type": "code",
      "metadata": {
        "id": "qcbFL13UQ1sJ"
      },
      "source": [
        "X_tr, X_te, y_tr, y_te = model_selection.train_test_split(X,y,test_size=0.2, random_state=0)"
      ],
      "execution_count": 84,
      "outputs": []
    },
    {
      "cell_type": "code",
      "metadata": {
        "colab": {
          "base_uri": "https://localhost:8080/"
        },
        "id": "neEzceInRybN",
        "outputId": "be078fe8-16c3-4906-edf8-ac8596c33be8"
      },
      "source": [
        "model = Sequential([\r\n",
        "                    layers.Dense(10, input_shape=(3,)),\r\n",
        "                    layers.BatchNormalization(),\r\n",
        "                    layers.Dense(128, activation='relu'),\r\n",
        "                    layers.Dense(3, activation='linear')\r\n",
        "])\r\n",
        "\r\n",
        "model.compile(optimizer='adam', loss='mean_squared_error')\r\n",
        "hist = model.fit(X_tr, y_tr, validation_data=(X_te, y_te), epochs=100)"
      ],
      "execution_count": 89,
      "outputs": [
        {
          "output_type": "stream",
          "text": [
            "Epoch 1/100\n",
            "1/1 [==============================] - 1s 668ms/step - loss: 12682.4141 - val_loss: 11335.8496\n",
            "Epoch 2/100\n",
            "1/1 [==============================] - 0s 45ms/step - loss: 12672.0977 - val_loss: 11064.2871\n",
            "Epoch 3/100\n",
            "1/1 [==============================] - 0s 41ms/step - loss: 12661.8115 - val_loss: 10915.2168\n",
            "Epoch 4/100\n",
            "1/1 [==============================] - 0s 44ms/step - loss: 12651.5391 - val_loss: 10811.5684\n",
            "Epoch 5/100\n",
            "1/1 [==============================] - 0s 39ms/step - loss: 12641.2666 - val_loss: 10730.4766\n",
            "Epoch 6/100\n",
            "1/1 [==============================] - 0s 52ms/step - loss: 12631.0117 - val_loss: 10664.1299\n",
            "Epoch 7/100\n",
            "1/1 [==============================] - 0s 42ms/step - loss: 12620.7500 - val_loss: 10608.5508\n",
            "Epoch 8/100\n",
            "1/1 [==============================] - 0s 44ms/step - loss: 12610.5117 - val_loss: 10560.4072\n",
            "Epoch 9/100\n",
            "1/1 [==============================] - 0s 43ms/step - loss: 12600.2979 - val_loss: 10517.4541\n",
            "Epoch 10/100\n",
            "1/1 [==============================] - 0s 46ms/step - loss: 12590.0918 - val_loss: 10478.7754\n",
            "Epoch 11/100\n",
            "1/1 [==============================] - 0s 214ms/step - loss: 12579.8955 - val_loss: 10443.5137\n",
            "Epoch 12/100\n",
            "1/1 [==============================] - 0s 46ms/step - loss: 12569.6660 - val_loss: 10410.8115\n",
            "Epoch 13/100\n",
            "1/1 [==============================] - 0s 42ms/step - loss: 12559.3887 - val_loss: 10379.9746\n",
            "Epoch 14/100\n",
            "1/1 [==============================] - 0s 43ms/step - loss: 12549.0400 - val_loss: 10350.6133\n",
            "Epoch 15/100\n",
            "1/1 [==============================] - 0s 43ms/step - loss: 12538.6357 - val_loss: 10322.8057\n",
            "Epoch 16/100\n",
            "1/1 [==============================] - 0s 47ms/step - loss: 12528.1670 - val_loss: 10296.1846\n",
            "Epoch 17/100\n",
            "1/1 [==============================] - 0s 41ms/step - loss: 12517.6562 - val_loss: 10270.4961\n",
            "Epoch 18/100\n",
            "1/1 [==============================] - 0s 43ms/step - loss: 12507.0869 - val_loss: 10245.8145\n",
            "Epoch 19/100\n",
            "1/1 [==============================] - 0s 44ms/step - loss: 12496.4580 - val_loss: 10222.1172\n",
            "Epoch 20/100\n",
            "1/1 [==============================] - 0s 53ms/step - loss: 12485.7598 - val_loss: 10199.4150\n",
            "Epoch 21/100\n",
            "1/1 [==============================] - 0s 39ms/step - loss: 12474.9863 - val_loss: 10178.2207\n",
            "Epoch 22/100\n",
            "1/1 [==============================] - 0s 44ms/step - loss: 12464.1035 - val_loss: 10157.6816\n",
            "Epoch 23/100\n",
            "1/1 [==============================] - 0s 45ms/step - loss: 12453.1279 - val_loss: 10137.6670\n",
            "Epoch 24/100\n",
            "1/1 [==============================] - 0s 47ms/step - loss: 12442.0430 - val_loss: 10118.0752\n",
            "Epoch 25/100\n",
            "1/1 [==============================] - 0s 54ms/step - loss: 12430.8457 - val_loss: 10098.8271\n",
            "Epoch 26/100\n",
            "1/1 [==============================] - 0s 43ms/step - loss: 12419.5488 - val_loss: 10080.0176\n",
            "Epoch 27/100\n",
            "1/1 [==============================] - 0s 45ms/step - loss: 12408.1133 - val_loss: 10061.3457\n",
            "Epoch 28/100\n",
            "1/1 [==============================] - 0s 45ms/step - loss: 12396.5234 - val_loss: 10042.8779\n",
            "Epoch 29/100\n",
            "1/1 [==============================] - 0s 46ms/step - loss: 12384.7441 - val_loss: 10024.6699\n",
            "Epoch 30/100\n",
            "1/1 [==============================] - 0s 43ms/step - loss: 12372.8115 - val_loss: 10006.7041\n",
            "Epoch 31/100\n",
            "1/1 [==============================] - 0s 44ms/step - loss: 12360.7148 - val_loss: 9989.1348\n",
            "Epoch 32/100\n",
            "1/1 [==============================] - 0s 50ms/step - loss: 12348.4414 - val_loss: 9971.7393\n",
            "Epoch 33/100\n",
            "1/1 [==============================] - 0s 44ms/step - loss: 12336.0020 - val_loss: 9954.3984\n",
            "Epoch 34/100\n",
            "1/1 [==============================] - 0s 44ms/step - loss: 12323.3848 - val_loss: 9937.1016\n",
            "Epoch 35/100\n",
            "1/1 [==============================] - 0s 42ms/step - loss: 12310.5938 - val_loss: 9919.7266\n",
            "Epoch 36/100\n",
            "1/1 [==============================] - 0s 44ms/step - loss: 12297.5938 - val_loss: 9902.4121\n",
            "Epoch 37/100\n",
            "1/1 [==============================] - 0s 46ms/step - loss: 12284.3750 - val_loss: 9885.1270\n",
            "Epoch 38/100\n",
            "1/1 [==============================] - 0s 48ms/step - loss: 12270.9512 - val_loss: 9867.7725\n",
            "Epoch 39/100\n",
            "1/1 [==============================] - 0s 49ms/step - loss: 12257.3105 - val_loss: 9850.3838\n",
            "Epoch 40/100\n",
            "1/1 [==============================] - 0s 47ms/step - loss: 12243.4395 - val_loss: 9833.1426\n",
            "Epoch 41/100\n",
            "1/1 [==============================] - 0s 46ms/step - loss: 12229.3320 - val_loss: 9815.8057\n",
            "Epoch 42/100\n",
            "1/1 [==============================] - 0s 39ms/step - loss: 12214.9570 - val_loss: 9798.3594\n",
            "Epoch 43/100\n",
            "1/1 [==============================] - 0s 43ms/step - loss: 12200.3174 - val_loss: 9780.7881\n",
            "Epoch 44/100\n",
            "1/1 [==============================] - 0s 40ms/step - loss: 12185.4062 - val_loss: 9763.1553\n",
            "Epoch 45/100\n",
            "1/1 [==============================] - 0s 42ms/step - loss: 12170.2217 - val_loss: 9745.4102\n",
            "Epoch 46/100\n",
            "1/1 [==============================] - 0s 45ms/step - loss: 12154.7588 - val_loss: 9727.4971\n",
            "Epoch 47/100\n",
            "1/1 [==============================] - 0s 42ms/step - loss: 12138.9990 - val_loss: 9709.3848\n",
            "Epoch 48/100\n",
            "1/1 [==============================] - 0s 44ms/step - loss: 12122.9395 - val_loss: 9691.1299\n",
            "Epoch 49/100\n",
            "1/1 [==============================] - 0s 45ms/step - loss: 12106.5781 - val_loss: 9672.7695\n",
            "Epoch 50/100\n",
            "1/1 [==============================] - 0s 49ms/step - loss: 12089.9219 - val_loss: 9654.2666\n",
            "Epoch 51/100\n",
            "1/1 [==============================] - 0s 45ms/step - loss: 12072.9619 - val_loss: 9635.6338\n",
            "Epoch 52/100\n",
            "1/1 [==============================] - 0s 43ms/step - loss: 12055.6992 - val_loss: 9616.9346\n",
            "Epoch 53/100\n",
            "1/1 [==============================] - 0s 53ms/step - loss: 12038.1348 - val_loss: 9598.1064\n",
            "Epoch 54/100\n",
            "1/1 [==============================] - 0s 41ms/step - loss: 12020.2363 - val_loss: 9579.1484\n",
            "Epoch 55/100\n",
            "1/1 [==============================] - 0s 42ms/step - loss: 12002.0137 - val_loss: 9560.0996\n",
            "Epoch 56/100\n",
            "1/1 [==============================] - 0s 47ms/step - loss: 11983.4717 - val_loss: 9541.0264\n",
            "Epoch 57/100\n",
            "1/1 [==============================] - 0s 43ms/step - loss: 11964.5840 - val_loss: 9521.8623\n",
            "Epoch 58/100\n",
            "1/1 [==============================] - 0s 49ms/step - loss: 11945.3467 - val_loss: 9502.6133\n",
            "Epoch 59/100\n",
            "1/1 [==============================] - 0s 43ms/step - loss: 11925.7715 - val_loss: 9483.3291\n",
            "Epoch 60/100\n",
            "1/1 [==============================] - 0s 44ms/step - loss: 11905.8428 - val_loss: 9463.9912\n",
            "Epoch 61/100\n",
            "1/1 [==============================] - 0s 42ms/step - loss: 11885.5449 - val_loss: 9444.6006\n",
            "Epoch 62/100\n",
            "1/1 [==============================] - 0s 47ms/step - loss: 11864.8838 - val_loss: 9425.1514\n",
            "Epoch 63/100\n",
            "1/1 [==============================] - 0s 46ms/step - loss: 11843.8496 - val_loss: 9405.7168\n",
            "Epoch 64/100\n",
            "1/1 [==============================] - 0s 43ms/step - loss: 11822.4453 - val_loss: 9386.2451\n",
            "Epoch 65/100\n",
            "1/1 [==============================] - 0s 39ms/step - loss: 11800.6689 - val_loss: 9366.7295\n",
            "Epoch 66/100\n",
            "1/1 [==============================] - 0s 42ms/step - loss: 11778.5039 - val_loss: 9347.1279\n",
            "Epoch 67/100\n",
            "1/1 [==============================] - 0s 43ms/step - loss: 11755.9102 - val_loss: 9327.5283\n",
            "Epoch 68/100\n",
            "1/1 [==============================] - 0s 46ms/step - loss: 11732.9316 - val_loss: 9307.8379\n",
            "Epoch 69/100\n",
            "1/1 [==============================] - 0s 175ms/step - loss: 11709.5000 - val_loss: 9288.1211\n",
            "Epoch 70/100\n",
            "1/1 [==============================] - 0s 44ms/step - loss: 11685.6670 - val_loss: 9268.3652\n",
            "Epoch 71/100\n",
            "1/1 [==============================] - 0s 44ms/step - loss: 11661.4326 - val_loss: 9248.5391\n",
            "Epoch 72/100\n",
            "1/1 [==============================] - 0s 50ms/step - loss: 11636.7920 - val_loss: 9228.6641\n",
            "Epoch 73/100\n",
            "1/1 [==============================] - 0s 40ms/step - loss: 11611.7451 - val_loss: 9208.7617\n",
            "Epoch 74/100\n",
            "1/1 [==============================] - 0s 48ms/step - loss: 11586.2900 - val_loss: 9188.8164\n",
            "Epoch 75/100\n",
            "1/1 [==============================] - 0s 46ms/step - loss: 11560.4248 - val_loss: 9168.8359\n",
            "Epoch 76/100\n",
            "1/1 [==============================] - 0s 46ms/step - loss: 11534.1543 - val_loss: 9148.8340\n",
            "Epoch 77/100\n",
            "1/1 [==============================] - 0s 46ms/step - loss: 11507.4727 - val_loss: 9128.8057\n",
            "Epoch 78/100\n",
            "1/1 [==============================] - 0s 43ms/step - loss: 11480.3574 - val_loss: 9108.7402\n",
            "Epoch 79/100\n",
            "1/1 [==============================] - 0s 48ms/step - loss: 11452.8203 - val_loss: 9088.6582\n",
            "Epoch 80/100\n",
            "1/1 [==============================] - 0s 49ms/step - loss: 11424.8711 - val_loss: 9068.5703\n",
            "Epoch 81/100\n",
            "1/1 [==============================] - 0s 50ms/step - loss: 11396.5107 - val_loss: 9048.5186\n",
            "Epoch 82/100\n",
            "1/1 [==============================] - 0s 48ms/step - loss: 11367.7324 - val_loss: 9028.4824\n",
            "Epoch 83/100\n",
            "1/1 [==============================] - 0s 44ms/step - loss: 11338.5098 - val_loss: 9008.4629\n",
            "Epoch 84/100\n",
            "1/1 [==============================] - 0s 46ms/step - loss: 11308.8789 - val_loss: 8988.4590\n",
            "Epoch 85/100\n",
            "1/1 [==============================] - 0s 44ms/step - loss: 11278.8311 - val_loss: 8968.5371\n",
            "Epoch 86/100\n",
            "1/1 [==============================] - 0s 46ms/step - loss: 11248.3691 - val_loss: 8948.7031\n",
            "Epoch 87/100\n",
            "1/1 [==============================] - 0s 46ms/step - loss: 11217.4941 - val_loss: 8928.9561\n",
            "Epoch 88/100\n",
            "1/1 [==============================] - 0s 45ms/step - loss: 11186.1914 - val_loss: 8909.2500\n",
            "Epoch 89/100\n",
            "1/1 [==============================] - 0s 40ms/step - loss: 11154.4727 - val_loss: 8889.5996\n",
            "Epoch 90/100\n",
            "1/1 [==============================] - 0s 41ms/step - loss: 11122.3379 - val_loss: 8870.0303\n",
            "Epoch 91/100\n",
            "1/1 [==============================] - 0s 42ms/step - loss: 11089.7910 - val_loss: 8850.5410\n",
            "Epoch 92/100\n",
            "1/1 [==============================] - 0s 43ms/step - loss: 11056.8301 - val_loss: 8831.1367\n",
            "Epoch 93/100\n",
            "1/1 [==============================] - 0s 62ms/step - loss: 11023.4609 - val_loss: 8811.8096\n",
            "Epoch 94/100\n",
            "1/1 [==============================] - 0s 53ms/step - loss: 10989.6836 - val_loss: 8792.5547\n",
            "Epoch 95/100\n",
            "1/1 [==============================] - 0s 48ms/step - loss: 10955.5020 - val_loss: 8773.3945\n",
            "Epoch 96/100\n",
            "1/1 [==============================] - 0s 42ms/step - loss: 10920.9180 - val_loss: 8754.3672\n",
            "Epoch 97/100\n",
            "1/1 [==============================] - 0s 39ms/step - loss: 10885.9316 - val_loss: 8735.4668\n",
            "Epoch 98/100\n",
            "1/1 [==============================] - 0s 48ms/step - loss: 10850.5439 - val_loss: 8716.7012\n",
            "Epoch 99/100\n",
            "1/1 [==============================] - 0s 46ms/step - loss: 10814.7607 - val_loss: 8698.0605\n",
            "Epoch 100/100\n",
            "1/1 [==============================] - 0s 45ms/step - loss: 10778.5820 - val_loss: 8679.5146\n"
          ],
          "name": "stdout"
        }
      ]
    },
    {
      "cell_type": "code",
      "metadata": {
        "colab": {
          "base_uri": "https://localhost:8080/",
          "height": 265
        },
        "id": "4zZK5URNSmY1",
        "outputId": "9ce51b02-2282-4681-ec6d-0772f04f0c26"
      },
      "source": [
        "plt.plot(range(100), hist.history['loss'])\r\n",
        "plt.plot(range(100), hist.history['val_loss'])\r\n",
        "plt.legend(['train loss', 'val loss'])\r\n",
        "plt.show()"
      ],
      "execution_count": 91,
      "outputs": [
        {
          "output_type": "display_data",
          "data": {
            "image/png": "[encoded data removed]",
            "text/plain": [
              "<Figure size 432x288 with 1 Axes>"
            ]
          },
          "metadata": {
            "tags": [],
            "needs_background": "light"
          }
        }
      ]
    },
    {
      "cell_type": "code",
      "metadata": {
        "id": "uWMT0RbqTjmg"
      },
      "source": [
        ""
      ],
      "execution_count": null,
      "outputs": []
    },
    {
      "cell_type": "markdown",
      "metadata": {
        "id": "LfuVi6qvUmrF"
      },
      "source": [
        "# Wine quality"
      ]
    },
    {
      "cell_type": "code",
      "metadata": {
        "colab": {
          "base_uri": "https://localhost:8080/"
        },
        "id": "RZhsAJQgU5TB",
        "outputId": "6840c634-2ca8-499b-f2b7-82ff6e344b45"
      },
      "source": [
        "wine = datasets.load_wine()\r\n",
        "wine.keys()"
      ],
      "execution_count": 92,
      "outputs": [
        {
          "output_type": "execute_result",
          "data": {
            "text/plain": [
              "dict_keys(['data', 'target', 'target_names', 'DESCR', 'feature_names'])"
            ]
          },
          "metadata": {
            "tags": []
          },
          "execution_count": 92
        }
      ]
    },
    {
      "cell_type": "code",
      "metadata": {
        "colab": {
          "base_uri": "https://localhost:8080/"
        },
        "id": "mu5pDFQlVusY",
        "outputId": "01ba8670-2173-4c99-ad21-ce91b3b67ee9"
      },
      "source": [
        "print(wine['DESCR'])"
      ],
      "execution_count": 93,
      "outputs": [
        {
          "output_type": "stream",
          "text": [
            ".. _wine_dataset:\n",
            "\n",
            "Wine recognition dataset\n",
            "------------------------\n",
            "\n",
            "**Data Set Characteristics:**\n",
            "\n",
            "    :Number of Instances: 178 (50 in each of three classes)\n",
            "    :Number of Attributes: 13 numeric, predictive attributes and the class\n",
            "    :Attribute Information:\n",
            " \t\t- Alcohol\n",
            " \t\t- Malic acid\n",
            " \t\t- Ash\n",
            "\t\t- Alcalinity of ash  \n",
            " \t\t- Magnesium\n",
            "\t\t- Total phenols\n",
            " \t\t- Flavanoids\n",
            " \t\t- Nonflavanoid phenols\n",
            " \t\t- Proanthocyanins\n",
            "\t\t- Color intensity\n",
            " \t\t- Hue\n",
            " \t\t- OD280/OD315 of diluted wines\n",
            " \t\t- Proline\n",
            "\n",
            "    - class:\n",
            "            - class_0\n",
            "            - class_1\n",
            "            - class_2\n",
            "\t\t\n",
            "    :Summary Statistics:\n",
            "    \n",
            "    ============================= ==== ===== ======= =====\n",
            "                                   Min   Max   Mean     SD\n",
            "    ============================= ==== ===== ======= =====\n",
            "    Alcohol:                      11.0  14.8    13.0   0.8\n",
            "    Malic Acid:                   0.74  5.80    2.34  1.12\n",
            "    Ash:                          1.36  3.23    2.36  0.27\n",
            "    Alcalinity of Ash:            10.6  30.0    19.5   3.3\n",
            "    Magnesium:                    70.0 162.0    99.7  14.3\n",
            "    Total Phenols:                0.98  3.88    2.29  0.63\n",
            "    Flavanoids:                   0.34  5.08    2.03  1.00\n",
            "    Nonflavanoid Phenols:         0.13  0.66    0.36  0.12\n",
            "    Proanthocyanins:              0.41  3.58    1.59  0.57\n",
            "    Colour Intensity:              1.3  13.0     5.1   2.3\n",
            "    Hue:                          0.48  1.71    0.96  0.23\n",
            "    OD280/OD315 of diluted wines: 1.27  4.00    2.61  0.71\n",
            "    Proline:                       278  1680     746   315\n",
            "    ============================= ==== ===== ======= =====\n",
            "\n",
            "    :Missing Attribute Values: None\n",
            "    :Class Distribution: class_0 (59), class_1 (71), class_2 (48)\n",
            "    :Creator: R.A. Fisher\n",
            "    :Donor: Michael Marshall (MARSHALL%PLU@io.arc.nasa.gov)\n",
            "    :Date: July, 1988\n",
            "\n",
            "This is a copy of UCI ML Wine recognition datasets.\n",
            "https://archive.ics.uci.edu/ml/machine-learning-databases/wine/wine.data\n",
            "\n",
            "The data is the results of a chemical analysis of wines grown in the same\n",
            "region in Italy by three different cultivators. There are thirteen different\n",
            "measurements taken for different constituents found in the three types of\n",
            "wine.\n",
            "\n",
            "Original Owners: \n",
            "\n",
            "Forina, M. et al, PARVUS - \n",
            "An Extendible Package for Data Exploration, Classification and Correlation. \n",
            "Institute of Pharmaceutical and Food Analysis and Technologies,\n",
            "Via Brigata Salerno, 16147 Genoa, Italy.\n",
            "\n",
            "Citation:\n",
            "\n",
            "Lichman, M. (2013). UCI Machine Learning Repository\n",
            "[https://archive.ics.uci.edu/ml]. Irvine, CA: University of California,\n",
            "School of Information and Computer Science. \n",
            "\n",
            ".. topic:: References\n",
            "\n",
            "  (1) S. Aeberhard, D. Coomans and O. de Vel, \n",
            "  Comparison of Classifiers in High Dimensional Settings, \n",
            "  Tech. Rep. no. 92-02, (1992), Dept. of Computer Science and Dept. of  \n",
            "  Mathematics and Statistics, James Cook University of North Queensland. \n",
            "  (Also submitted to Technometrics). \n",
            "\n",
            "  The data was used with many others for comparing various \n",
            "  classifiers. The classes are separable, though only RDA \n",
            "  has achieved 100% correct classification. \n",
            "  (RDA : 100%, QDA 99.4%, LDA 98.9%, 1NN 96.1% (z-transformed data)) \n",
            "  (All results using the leave-one-out technique) \n",
            "\n",
            "  (2) S. Aeberhard, D. Coomans and O. de Vel, \n",
            "  \"THE CLASSIFICATION PERFORMANCE OF RDA\" \n",
            "  Tech. Rep. no. 92-01, (1992), Dept. of Computer Science and Dept. of \n",
            "  Mathematics and Statistics, James Cook University of North Queensland. \n",
            "  (Also submitted to Journal of Chemometrics).\n",
            "\n"
          ],
          "name": "stdout"
        }
      ]
    },
    {
      "cell_type": "code",
      "metadata": {
        "id": "yQlzFevGVjUT"
      },
      "source": [
        "X = pd.DataFrame(wine['data'], columns=wine['feature_names'])\r\n",
        "y = wine['target']"
      ],
      "execution_count": 94,
      "outputs": []
    },
    {
      "cell_type": "code",
      "metadata": {
        "colab": {
          "base_uri": "https://localhost:8080/"
        },
        "id": "dsajY0adW1oZ",
        "outputId": "d3672a23-5443-4b54-fc70-93e0fea26eee"
      },
      "source": [
        "X.shape, y.shape"
      ],
      "execution_count": 101,
      "outputs": [
        {
          "output_type": "execute_result",
          "data": {
            "text/plain": [
              "((178, 13), (178,))"
            ]
          },
          "metadata": {
            "tags": []
          },
          "execution_count": 101
        }
      ]
    },
    {
      "cell_type": "code",
      "metadata": {
        "id": "m8nOgOTgVjOn"
      },
      "source": [
        "X_tr, X_te, y_tr, y_te = model_selection.train_test_split(X,y,test_size=0.2)"
      ],
      "execution_count": 97,
      "outputs": []
    },
    {
      "cell_type": "code",
      "metadata": {
        "id": "Y90nbtbIVi7S"
      },
      "source": [
        "enc = preprocessing.OneHotEncoder()\r\n",
        "y_tr = enc.fit_transform(y_tr.reshape(-1,1)).toarray()\r\n",
        "y_te = enc.transform(y_te.reshape(-1,1)).toarray()"
      ],
      "execution_count": 100,
      "outputs": []
    },
    {
      "cell_type": "code",
      "metadata": {
        "colab": {
          "base_uri": "https://localhost:8080/"
        },
        "id": "08lf0uXhW7Go",
        "outputId": "badf85b5-c28a-447d-d36c-9139db9f819a"
      },
      "source": [
        "print(y_tr.shape)\r\n",
        "y"
      ],
      "execution_count": 104,
      "outputs": [
        {
          "output_type": "stream",
          "text": [
            "(142, 3)\n"
          ],
          "name": "stdout"
        },
        {
          "output_type": "execute_result",
          "data": {
            "text/plain": [
              "array([0, 0, 0, 0, 0, 0, 0, 0, 0, 0, 0, 0, 0, 0, 0, 0, 0, 0, 0, 0, 0, 0,\n",
              "       0, 0, 0, 0, 0, 0, 0, 0, 0, 0, 0, 0, 0, 0, 0, 0, 0, 0, 0, 0, 0, 0,\n",
              "       0, 0, 0, 0, 0, 0, 0, 0, 0, 0, 0, 0, 0, 0, 0, 1, 1, 1, 1, 1, 1, 1,\n",
              "       1, 1, 1, 1, 1, 1, 1, 1, 1, 1, 1, 1, 1, 1, 1, 1, 1, 1, 1, 1, 1, 1,\n",
              "       1, 1, 1, 1, 1, 1, 1, 1, 1, 1, 1, 1, 1, 1, 1, 1, 1, 1, 1, 1, 1, 1,\n",
              "       1, 1, 1, 1, 1, 1, 1, 1, 1, 1, 1, 1, 1, 1, 1, 1, 1, 1, 1, 1, 2, 2,\n",
              "       2, 2, 2, 2, 2, 2, 2, 2, 2, 2, 2, 2, 2, 2, 2, 2, 2, 2, 2, 2, 2, 2,\n",
              "       2, 2, 2, 2, 2, 2, 2, 2, 2, 2, 2, 2, 2, 2, 2, 2, 2, 2, 2, 2, 2, 2,\n",
              "       2, 2])"
            ]
          },
          "metadata": {
            "tags": []
          },
          "execution_count": 104
        }
      ]
    },
    {
      "cell_type": "code",
      "metadata": {
        "colab": {
          "base_uri": "https://localhost:8080/"
        },
        "id": "zG54ddQ1Vi3N",
        "outputId": "ae2d267c-e94b-478c-9678-de2d2af3fad5"
      },
      "source": [
        "model = Sequential([\r\n",
        "                    layers.Dense(10, input_shape=(13,)),\r\n",
        "                    layers.BatchNormalization(),\r\n",
        "                    layers.Dense(128, activation='relu'),\r\n",
        "                    layers.Dense(128, activation='relu'),\r\n",
        "                    layers.Dense(3, activation='softmax')\r\n",
        "])\r\n",
        "\r\n",
        "model.compile(optimizer='adam', loss='categorical_crossentropy', metrics=['accuracy'])\r\n",
        "\r\n",
        "hist = model.fit(X_tr, y_tr, validation_data=(X_te, y_te), epochs=100)"
      ],
      "execution_count": 105,
      "outputs": [
        {
          "output_type": "stream",
          "text": [
            "Epoch 1/100\n",
            "5/5 [==============================] - 1s 62ms/step - loss: 0.9905 - accuracy: 0.4080 - val_loss: 7.0486 - val_accuracy: 0.2500\n",
            "Epoch 2/100\n",
            "5/5 [==============================] - 0s 12ms/step - loss: 0.7530 - accuracy: 0.7164 - val_loss: 7.5385 - val_accuracy: 0.2500\n",
            "Epoch 3/100\n",
            "5/5 [==============================] - 0s 13ms/step - loss: 0.6739 - accuracy: 0.6919 - val_loss: 7.5956 - val_accuracy: 0.2500\n",
            "Epoch 4/100\n",
            "5/5 [==============================] - 0s 12ms/step - loss: 0.6501 - accuracy: 0.6862 - val_loss: 6.4771 - val_accuracy: 0.2500\n",
            "Epoch 5/100\n",
            "5/5 [==============================] - 0s 12ms/step - loss: 0.5952 - accuracy: 0.7053 - val_loss: 4.8769 - val_accuracy: 0.2500\n",
            "Epoch 6/100\n",
            "5/5 [==============================] - 0s 55ms/step - loss: 0.5461 - accuracy: 0.7423 - val_loss: 3.6395 - val_accuracy: 0.2500\n",
            "Epoch 7/100\n",
            "5/5 [==============================] - 0s 12ms/step - loss: 0.4982 - accuracy: 0.8340 - val_loss: 2.8611 - val_accuracy: 0.3056\n",
            "Epoch 8/100\n",
            "5/5 [==============================] - 0s 13ms/step - loss: 0.4295 - accuracy: 0.8530 - val_loss: 2.2821 - val_accuracy: 0.3333\n",
            "Epoch 9/100\n",
            "5/5 [==============================] - 0s 13ms/step - loss: 0.3419 - accuracy: 0.8841 - val_loss: 2.0958 - val_accuracy: 0.3056\n",
            "Epoch 10/100\n",
            "5/5 [==============================] - 0s 14ms/step - loss: 0.3057 - accuracy: 0.8815 - val_loss: 1.8689 - val_accuracy: 0.3333\n",
            "Epoch 11/100\n",
            "5/5 [==============================] - 0s 13ms/step - loss: 0.3230 - accuracy: 0.8841 - val_loss: 1.4831 - val_accuracy: 0.3056\n",
            "Epoch 12/100\n",
            "5/5 [==============================] - 0s 12ms/step - loss: 0.2939 - accuracy: 0.8828 - val_loss: 1.1840 - val_accuracy: 0.5000\n",
            "Epoch 13/100\n",
            "5/5 [==============================] - 0s 13ms/step - loss: 0.2595 - accuracy: 0.8978 - val_loss: 1.0952 - val_accuracy: 0.5556\n",
            "Epoch 14/100\n",
            "5/5 [==============================] - 0s 12ms/step - loss: 0.2510 - accuracy: 0.8992 - val_loss: 0.9669 - val_accuracy: 0.5833\n",
            "Epoch 15/100\n",
            "5/5 [==============================] - 0s 13ms/step - loss: 0.2562 - accuracy: 0.9005 - val_loss: 1.2075 - val_accuracy: 0.5556\n",
            "Epoch 16/100\n",
            "5/5 [==============================] - 0s 13ms/step - loss: 0.1668 - accuracy: 0.9705 - val_loss: 1.4356 - val_accuracy: 0.5833\n",
            "Epoch 17/100\n",
            "5/5 [==============================] - 0s 13ms/step - loss: 0.2771 - accuracy: 0.8912 - val_loss: 1.0115 - val_accuracy: 0.6389\n",
            "Epoch 18/100\n",
            "5/5 [==============================] - 0s 12ms/step - loss: 0.2353 - accuracy: 0.8940 - val_loss: 0.9410 - val_accuracy: 0.6944\n",
            "Epoch 19/100\n",
            "5/5 [==============================] - 0s 13ms/step - loss: 0.1623 - accuracy: 0.9303 - val_loss: 1.0763 - val_accuracy: 0.6667\n",
            "Epoch 20/100\n",
            "5/5 [==============================] - 0s 12ms/step - loss: 0.2051 - accuracy: 0.9359 - val_loss: 1.0072 - val_accuracy: 0.6667\n",
            "Epoch 21/100\n",
            "5/5 [==============================] - 0s 13ms/step - loss: 0.1816 - accuracy: 0.9093 - val_loss: 0.8900 - val_accuracy: 0.6667\n",
            "Epoch 22/100\n",
            "5/5 [==============================] - 0s 14ms/step - loss: 0.1502 - accuracy: 0.9325 - val_loss: 0.9338 - val_accuracy: 0.6944\n",
            "Epoch 23/100\n",
            "5/5 [==============================] - 0s 16ms/step - loss: 0.1354 - accuracy: 0.9361 - val_loss: 0.7127 - val_accuracy: 0.6944\n",
            "Epoch 24/100\n",
            "5/5 [==============================] - 0s 13ms/step - loss: 0.1273 - accuracy: 0.9613 - val_loss: 0.6837 - val_accuracy: 0.7222\n",
            "Epoch 25/100\n",
            "5/5 [==============================] - 0s 14ms/step - loss: 0.1583 - accuracy: 0.9282 - val_loss: 0.6293 - val_accuracy: 0.7778\n",
            "Epoch 26/100\n",
            "5/5 [==============================] - 0s 13ms/step - loss: 0.1553 - accuracy: 0.9251 - val_loss: 0.5992 - val_accuracy: 0.8056\n",
            "Epoch 27/100\n",
            "5/5 [==============================] - 0s 13ms/step - loss: 0.1384 - accuracy: 0.9351 - val_loss: 0.4936 - val_accuracy: 0.8333\n",
            "Epoch 28/100\n",
            "5/5 [==============================] - 0s 12ms/step - loss: 0.1276 - accuracy: 0.9519 - val_loss: 0.6289 - val_accuracy: 0.7778\n",
            "Epoch 29/100\n",
            "5/5 [==============================] - 0s 13ms/step - loss: 0.2095 - accuracy: 0.9040 - val_loss: 0.4502 - val_accuracy: 0.8056\n",
            "Epoch 30/100\n",
            "5/5 [==============================] - 0s 13ms/step - loss: 0.2376 - accuracy: 0.9113 - val_loss: 0.5723 - val_accuracy: 0.8056\n",
            "Epoch 31/100\n",
            "5/5 [==============================] - 0s 13ms/step - loss: 0.1804 - accuracy: 0.8952 - val_loss: 0.5248 - val_accuracy: 0.8333\n",
            "Epoch 32/100\n",
            "5/5 [==============================] - 0s 13ms/step - loss: 0.1532 - accuracy: 0.9343 - val_loss: 0.3763 - val_accuracy: 0.9167\n",
            "Epoch 33/100\n",
            "5/5 [==============================] - 0s 13ms/step - loss: 0.1595 - accuracy: 0.9230 - val_loss: 0.3518 - val_accuracy: 0.8889\n",
            "Epoch 34/100\n",
            "5/5 [==============================] - 0s 12ms/step - loss: 0.1806 - accuracy: 0.9299 - val_loss: 0.6553 - val_accuracy: 0.7500\n",
            "Epoch 35/100\n",
            "5/5 [==============================] - 0s 13ms/step - loss: 0.1706 - accuracy: 0.9461 - val_loss: 0.3222 - val_accuracy: 0.9444\n",
            "Epoch 36/100\n",
            "5/5 [==============================] - 0s 14ms/step - loss: 0.1583 - accuracy: 0.9369 - val_loss: 0.4136 - val_accuracy: 0.9167\n",
            "Epoch 37/100\n",
            "5/5 [==============================] - 0s 12ms/step - loss: 0.1615 - accuracy: 0.9222 - val_loss: 0.3463 - val_accuracy: 0.9444\n",
            "Epoch 38/100\n",
            "5/5 [==============================] - 0s 13ms/step - loss: 0.1217 - accuracy: 0.9527 - val_loss: 0.3083 - val_accuracy: 0.8889\n",
            "Epoch 39/100\n",
            "5/5 [==============================] - 0s 12ms/step - loss: 0.1001 - accuracy: 0.9619 - val_loss: 0.4038 - val_accuracy: 0.8889\n",
            "Epoch 40/100\n",
            "5/5 [==============================] - 0s 14ms/step - loss: 0.1103 - accuracy: 0.9633 - val_loss: 0.4342 - val_accuracy: 0.8611\n",
            "Epoch 41/100\n",
            "5/5 [==============================] - 0s 12ms/step - loss: 0.1049 - accuracy: 0.9676 - val_loss: 0.3649 - val_accuracy: 0.9167\n",
            "Epoch 42/100\n",
            "5/5 [==============================] - 0s 13ms/step - loss: 0.0896 - accuracy: 0.9674 - val_loss: 0.3336 - val_accuracy: 0.8889\n",
            "Epoch 43/100\n",
            "5/5 [==============================] - 0s 14ms/step - loss: 0.1323 - accuracy: 0.9465 - val_loss: 0.3821 - val_accuracy: 0.8611\n",
            "Epoch 44/100\n",
            "5/5 [==============================] - 0s 14ms/step - loss: 0.1289 - accuracy: 0.9560 - val_loss: 0.3704 - val_accuracy: 0.8611\n",
            "Epoch 45/100\n",
            "5/5 [==============================] - 0s 17ms/step - loss: 0.1047 - accuracy: 0.9612 - val_loss: 0.3750 - val_accuracy: 0.9167\n",
            "Epoch 46/100\n",
            "5/5 [==============================] - 0s 14ms/step - loss: 0.1001 - accuracy: 0.9594 - val_loss: 0.3585 - val_accuracy: 0.9167\n",
            "Epoch 47/100\n",
            "5/5 [==============================] - 0s 14ms/step - loss: 0.1095 - accuracy: 0.9458 - val_loss: 0.3309 - val_accuracy: 0.8889\n",
            "Epoch 48/100\n",
            "5/5 [==============================] - 0s 13ms/step - loss: 0.1037 - accuracy: 0.9538 - val_loss: 0.3416 - val_accuracy: 0.8889\n",
            "Epoch 49/100\n",
            "5/5 [==============================] - 0s 13ms/step - loss: 0.0742 - accuracy: 0.9819 - val_loss: 0.3305 - val_accuracy: 0.8889\n",
            "Epoch 50/100\n",
            "5/5 [==============================] - 0s 13ms/step - loss: 0.1010 - accuracy: 0.9595 - val_loss: 0.3061 - val_accuracy: 0.9167\n",
            "Epoch 51/100\n",
            "5/5 [==============================] - 0s 13ms/step - loss: 0.0688 - accuracy: 0.9706 - val_loss: 0.3529 - val_accuracy: 0.9167\n",
            "Epoch 52/100\n",
            "5/5 [==============================] - 0s 12ms/step - loss: 0.1052 - accuracy: 0.9516 - val_loss: 0.4027 - val_accuracy: 0.9167\n",
            "Epoch 53/100\n",
            "5/5 [==============================] - 0s 12ms/step - loss: 0.0832 - accuracy: 0.9703 - val_loss: 0.3854 - val_accuracy: 0.9167\n",
            "Epoch 54/100\n",
            "5/5 [==============================] - 0s 47ms/step - loss: 0.0991 - accuracy: 0.9680 - val_loss: 0.3394 - val_accuracy: 0.9167\n",
            "Epoch 55/100\n",
            "5/5 [==============================] - 0s 15ms/step - loss: 0.0745 - accuracy: 0.9676 - val_loss: 0.3339 - val_accuracy: 0.8889\n",
            "Epoch 56/100\n",
            "5/5 [==============================] - 0s 13ms/step - loss: 0.0879 - accuracy: 0.9550 - val_loss: 0.4135 - val_accuracy: 0.8056\n",
            "Epoch 57/100\n",
            "5/5 [==============================] - 0s 12ms/step - loss: 0.1196 - accuracy: 0.9567 - val_loss: 0.3800 - val_accuracy: 0.9167\n",
            "Epoch 58/100\n",
            "5/5 [==============================] - 0s 13ms/step - loss: 0.0524 - accuracy: 0.9847 - val_loss: 0.4013 - val_accuracy: 0.9167\n",
            "Epoch 59/100\n",
            "5/5 [==============================] - 0s 13ms/step - loss: 0.0866 - accuracy: 0.9603 - val_loss: 0.4053 - val_accuracy: 0.9167\n",
            "Epoch 60/100\n",
            "5/5 [==============================] - 0s 13ms/step - loss: 0.0537 - accuracy: 0.9923 - val_loss: 0.4370 - val_accuracy: 0.8889\n",
            "Epoch 61/100\n",
            "5/5 [==============================] - 0s 13ms/step - loss: 0.0589 - accuracy: 0.9789 - val_loss: 0.3747 - val_accuracy: 0.8889\n",
            "Epoch 62/100\n",
            "5/5 [==============================] - 0s 15ms/step - loss: 0.0713 - accuracy: 0.9708 - val_loss: 0.3439 - val_accuracy: 0.9167\n",
            "Epoch 63/100\n",
            "5/5 [==============================] - 0s 13ms/step - loss: 0.0563 - accuracy: 0.9788 - val_loss: 0.3950 - val_accuracy: 0.8889\n",
            "Epoch 64/100\n",
            "5/5 [==============================] - 0s 13ms/step - loss: 0.0470 - accuracy: 0.9884 - val_loss: 0.3819 - val_accuracy: 0.9167\n",
            "Epoch 65/100\n",
            "5/5 [==============================] - 0s 13ms/step - loss: 0.0400 - accuracy: 0.9910 - val_loss: 0.3216 - val_accuracy: 0.8611\n",
            "Epoch 66/100\n",
            "5/5 [==============================] - 0s 12ms/step - loss: 0.0626 - accuracy: 0.9868 - val_loss: 0.3133 - val_accuracy: 0.8611\n",
            "Epoch 67/100\n",
            "5/5 [==============================] - 0s 13ms/step - loss: 0.0500 - accuracy: 0.9736 - val_loss: 0.3280 - val_accuracy: 0.8889\n",
            "Epoch 68/100\n",
            "5/5 [==============================] - 0s 13ms/step - loss: 0.0442 - accuracy: 0.9946 - val_loss: 0.3166 - val_accuracy: 0.8611\n",
            "Epoch 69/100\n",
            "5/5 [==============================] - 0s 13ms/step - loss: 0.0383 - accuracy: 0.9927 - val_loss: 0.2970 - val_accuracy: 0.8889\n",
            "Epoch 70/100\n",
            "5/5 [==============================] - 0s 12ms/step - loss: 0.0485 - accuracy: 0.9708 - val_loss: 0.3097 - val_accuracy: 0.8889\n",
            "Epoch 71/100\n",
            "5/5 [==============================] - 0s 14ms/step - loss: 0.0261 - accuracy: 0.9977 - val_loss: 0.3138 - val_accuracy: 0.8889\n",
            "Epoch 72/100\n",
            "5/5 [==============================] - 0s 14ms/step - loss: 0.0501 - accuracy: 0.9806 - val_loss: 0.3540 - val_accuracy: 0.9167\n",
            "Epoch 73/100\n",
            "5/5 [==============================] - 0s 13ms/step - loss: 0.0701 - accuracy: 0.9752 - val_loss: 0.3066 - val_accuracy: 0.9167\n",
            "Epoch 74/100\n",
            "5/5 [==============================] - 0s 15ms/step - loss: 0.0249 - accuracy: 0.9964 - val_loss: 0.3280 - val_accuracy: 0.9167\n",
            "Epoch 75/100\n",
            "5/5 [==============================] - 0s 15ms/step - loss: 0.0734 - accuracy: 0.9622 - val_loss: 0.3263 - val_accuracy: 0.8889\n",
            "Epoch 76/100\n",
            "5/5 [==============================] - 0s 14ms/step - loss: 0.0280 - accuracy: 0.9940 - val_loss: 0.3576 - val_accuracy: 0.8889\n",
            "Epoch 77/100\n",
            "5/5 [==============================] - 0s 13ms/step - loss: 0.0211 - accuracy: 1.0000 - val_loss: 0.4013 - val_accuracy: 0.8889\n",
            "Epoch 78/100\n",
            "5/5 [==============================] - 0s 12ms/step - loss: 0.0337 - accuracy: 0.9920 - val_loss: 0.3829 - val_accuracy: 0.8889\n",
            "Epoch 79/100\n",
            "5/5 [==============================] - 0s 12ms/step - loss: 0.0299 - accuracy: 1.0000 - val_loss: 0.3547 - val_accuracy: 0.9167\n",
            "Epoch 80/100\n",
            "5/5 [==============================] - 0s 13ms/step - loss: 0.0399 - accuracy: 0.9868 - val_loss: 0.3459 - val_accuracy: 0.9167\n",
            "Epoch 81/100\n",
            "5/5 [==============================] - 0s 13ms/step - loss: 0.0231 - accuracy: 0.9977 - val_loss: 0.3416 - val_accuracy: 0.9167\n",
            "Epoch 82/100\n",
            "5/5 [==============================] - 0s 14ms/step - loss: 0.0238 - accuracy: 0.9920 - val_loss: 0.3496 - val_accuracy: 0.9167\n",
            "Epoch 83/100\n",
            "5/5 [==============================] - 0s 12ms/step - loss: 0.0167 - accuracy: 1.0000 - val_loss: 0.3853 - val_accuracy: 0.8889\n",
            "Epoch 84/100\n",
            "5/5 [==============================] - 0s 14ms/step - loss: 0.0357 - accuracy: 0.9868 - val_loss: 0.3698 - val_accuracy: 0.9167\n",
            "Epoch 85/100\n",
            "5/5 [==============================] - 0s 14ms/step - loss: 0.0359 - accuracy: 0.9927 - val_loss: 0.3424 - val_accuracy: 0.8889\n",
            "Epoch 86/100\n",
            "5/5 [==============================] - 0s 13ms/step - loss: 0.0367 - accuracy: 0.9923 - val_loss: 0.4040 - val_accuracy: 0.9167\n",
            "Epoch 87/100\n",
            "5/5 [==============================] - 0s 14ms/step - loss: 0.0250 - accuracy: 0.9940 - val_loss: 0.4565 - val_accuracy: 0.8889\n",
            "Epoch 88/100\n",
            "5/5 [==============================] - 0s 18ms/step - loss: 0.0239 - accuracy: 0.9946 - val_loss: 0.4171 - val_accuracy: 0.9167\n",
            "Epoch 89/100\n",
            "5/5 [==============================] - 0s 13ms/step - loss: 0.0666 - accuracy: 0.9700 - val_loss: 0.3803 - val_accuracy: 0.8889\n",
            "Epoch 90/100\n",
            "5/5 [==============================] - 0s 13ms/step - loss: 0.0236 - accuracy: 0.9927 - val_loss: 0.3653 - val_accuracy: 0.8889\n",
            "Epoch 91/100\n",
            "5/5 [==============================] - 0s 14ms/step - loss: 0.0383 - accuracy: 0.9840 - val_loss: 0.3423 - val_accuracy: 0.9167\n",
            "Epoch 92/100\n",
            "5/5 [==============================] - 0s 12ms/step - loss: 0.0156 - accuracy: 1.0000 - val_loss: 0.4069 - val_accuracy: 0.9167\n",
            "Epoch 93/100\n",
            "5/5 [==============================] - 0s 14ms/step - loss: 0.0257 - accuracy: 0.9977 - val_loss: 0.4141 - val_accuracy: 0.8889\n",
            "Epoch 94/100\n",
            "5/5 [==============================] - 0s 14ms/step - loss: 0.0151 - accuracy: 1.0000 - val_loss: 0.3842 - val_accuracy: 0.8889\n",
            "Epoch 95/100\n",
            "5/5 [==============================] - 0s 13ms/step - loss: 0.0183 - accuracy: 0.9923 - val_loss: 0.4160 - val_accuracy: 0.8611\n",
            "Epoch 96/100\n",
            "5/5 [==============================] - 0s 14ms/step - loss: 0.0259 - accuracy: 1.0000 - val_loss: 0.3306 - val_accuracy: 0.8889\n",
            "Epoch 97/100\n",
            "5/5 [==============================] - 0s 13ms/step - loss: 0.0164 - accuracy: 0.9964 - val_loss: 0.3560 - val_accuracy: 0.8889\n",
            "Epoch 98/100\n",
            "5/5 [==============================] - 0s 13ms/step - loss: 0.0256 - accuracy: 0.9845 - val_loss: 0.3585 - val_accuracy: 0.8889\n",
            "Epoch 99/100\n",
            "5/5 [==============================] - 0s 14ms/step - loss: 0.0263 - accuracy: 0.9977 - val_loss: 0.3810 - val_accuracy: 0.8611\n",
            "Epoch 100/100\n",
            "5/5 [==============================] - 0s 14ms/step - loss: 0.0128 - accuracy: 1.0000 - val_loss: 0.4672 - val_accuracy: 0.8333\n"
          ],
          "name": "stdout"
        }
      ]
    },
    {
      "cell_type": "code",
      "metadata": {
        "colab": {
          "base_uri": "https://localhost:8080/",
          "height": 265
        },
        "id": "IplhTR4BWtOk",
        "outputId": "b27d3e1d-27e1-41d5-b672-eab1b4b97b88"
      },
      "source": [
        "plt.plot(range(100), hist.history['loss'])\r\n",
        "plt.plot(range(100), hist.history['val_loss'])\r\n",
        "plt.legend(['train loss', 'test loss'])\r\n",
        "plt.show()"
      ],
      "execution_count": 106,
      "outputs": [
        {
          "output_type": "display_data",
          "data": {
            "image/png": "[encoded data removed]",
            "text/plain": [
              "<Figure size 432x288 with 1 Axes>"
            ]
          },
          "metadata": {
            "tags": [],
            "needs_background": "light"
          }
        }
      ]
    },
    {
      "cell_type": "code",
      "metadata": {
        "id": "uWXoHd0RWt-H"
      },
      "source": [
        ""
      ],
      "execution_count": null,
      "outputs": []
    },
    {
      "cell_type": "markdown",
      "metadata": {
        "id": "eDon9XEFUsC2"
      },
      "source": [
        "# Breast Cancer"
      ]
    },
    {
      "cell_type": "code",
      "metadata": {
        "colab": {
          "base_uri": "https://localhost:8080/"
        },
        "id": "d3cxo0RKUzJe",
        "outputId": "73bccac7-7887-48d9-8583-a4a9756466ee"
      },
      "source": [
        "cancer = datasets.load_breast_cancer()\r\n",
        "cancer.keys()"
      ],
      "execution_count": 107,
      "outputs": [
        {
          "output_type": "execute_result",
          "data": {
            "text/plain": [
              "dict_keys(['data', 'target', 'target_names', 'DESCR', 'feature_names', 'filename'])"
            ]
          },
          "metadata": {
            "tags": []
          },
          "execution_count": 107
        }
      ]
    },
    {
      "cell_type": "code",
      "metadata": {
        "id": "lznXZD7IYzxO"
      },
      "source": [
        "X = pd.DataFrame(cancer['data'], columns=cancer['feature_names'])\r\n",
        "y = cancer['target']"
      ],
      "execution_count": 108,
      "outputs": []
    },
    {
      "cell_type": "code",
      "metadata": {
        "colab": {
          "base_uri": "https://localhost:8080/",
          "height": 473
        },
        "id": "blRf1X1cZC55",
        "outputId": "1c5ac43f-9191-4b9a-f849-0791e1df4226"
      },
      "source": [
        "X"
      ],
      "execution_count": 109,
      "outputs": [
        {
          "output_type": "execute_result",
          "data": {
            "text/html": [
              "<div>\n",
              "<style scoped>\n",
              "    .dataframe tbody tr th:only-of-type {\n",
              "        vertical-align: middle;\n",
              "    }\n",
              "\n",
              "    .dataframe tbody tr th {\n",
              "        vertical-align: top;\n",
              "    }\n",
              "\n",
              "    .dataframe thead th {\n",
              "        text-align: right;\n",
              "    }\n",
              "</style>\n",
              "<table border=\"1\" class=\"dataframe\">\n",
              "  <thead>\n",
              "    <tr style=\"text-align: right;\">\n",
              "      <th></th>\n",
              "      <th>mean radius</th>\n",
              "      <th>mean texture</th>\n",
              "      <th>mean perimeter</th>\n",
              "      <th>mean area</th>\n",
              "      <th>mean smoothness</th>\n",
              "      <th>mean compactness</th>\n",
              "      <th>mean concavity</th>\n",
              "      <th>mean concave points</th>\n",
              "      <th>mean symmetry</th>\n",
              "      <th>mean fractal dimension</th>\n",
              "      <th>radius error</th>\n",
              "      <th>texture error</th>\n",
              "      <th>perimeter error</th>\n",
              "      <th>area error</th>\n",
              "      <th>smoothness error</th>\n",
              "      <th>compactness error</th>\n",
              "      <th>concavity error</th>\n",
              "      <th>concave points error</th>\n",
              "      <th>symmetry error</th>\n",
              "      <th>fractal dimension error</th>\n",
              "      <th>worst radius</th>\n",
              "      <th>worst texture</th>\n",
              "      <th>worst perimeter</th>\n",
              "      <th>worst area</th>\n",
              "      <th>worst smoothness</th>\n",
              "      <th>worst compactness</th>\n",
              "      <th>worst concavity</th>\n",
              "      <th>worst concave points</th>\n",
              "      <th>worst symmetry</th>\n",
              "      <th>worst fractal dimension</th>\n",
              "    </tr>\n",
              "  </thead>\n",
              "  <tbody>\n",
              "    <tr>\n",
              "      <th>0</th>\n",
              "      <td>17.99</td>\n",
              "      <td>10.38</td>\n",
              "      <td>122.80</td>\n",
              "      <td>1001.0</td>\n",
              "      <td>0.11840</td>\n",
              "      <td>0.27760</td>\n",
              "      <td>0.30010</td>\n",
              "      <td>0.14710</td>\n",
              "      <td>0.2419</td>\n",
              "      <td>0.07871</td>\n",
              "      <td>1.0950</td>\n",
              "      <td>0.9053</td>\n",
              "      <td>8.589</td>\n",
              "      <td>153.40</td>\n",
              "      <td>0.006399</td>\n",
              "      <td>0.04904</td>\n",
              "      <td>0.05373</td>\n",
              "      <td>0.01587</td>\n",
              "      <td>0.03003</td>\n",
              "      <td>0.006193</td>\n",
              "      <td>25.380</td>\n",
              "      <td>17.33</td>\n",
              "      <td>184.60</td>\n",
              "      <td>2019.0</td>\n",
              "      <td>0.16220</td>\n",
              "      <td>0.66560</td>\n",
              "      <td>0.7119</td>\n",
              "      <td>0.2654</td>\n",
              "      <td>0.4601</td>\n",
              "      <td>0.11890</td>\n",
              "    </tr>\n",
              "    <tr>\n",
              "      <th>1</th>\n",
              "      <td>20.57</td>\n",
              "      <td>17.77</td>\n",
              "      <td>132.90</td>\n",
              "      <td>1326.0</td>\n",
              "      <td>0.08474</td>\n",
              "      <td>0.07864</td>\n",
              "      <td>0.08690</td>\n",
              "      <td>0.07017</td>\n",
              "      <td>0.1812</td>\n",
              "      <td>0.05667</td>\n",
              "      <td>0.5435</td>\n",
              "      <td>0.7339</td>\n",
              "      <td>3.398</td>\n",
              "      <td>74.08</td>\n",
              "      <td>0.005225</td>\n",
              "      <td>0.01308</td>\n",
              "      <td>0.01860</td>\n",
              "      <td>0.01340</td>\n",
              "      <td>0.01389</td>\n",
              "      <td>0.003532</td>\n",
              "      <td>24.990</td>\n",
              "      <td>23.41</td>\n",
              "      <td>158.80</td>\n",
              "      <td>1956.0</td>\n",
              "      <td>0.12380</td>\n",
              "      <td>0.18660</td>\n",
              "      <td>0.2416</td>\n",
              "      <td>0.1860</td>\n",
              "      <td>0.2750</td>\n",
              "      <td>0.08902</td>\n",
              "    </tr>\n",
              "    <tr>\n",
              "      <th>2</th>\n",
              "      <td>19.69</td>\n",
              "      <td>21.25</td>\n",
              "      <td>130.00</td>\n",
              "      <td>1203.0</td>\n",
              "      <td>0.10960</td>\n",
              "      <td>0.15990</td>\n",
              "      <td>0.19740</td>\n",
              "      <td>0.12790</td>\n",
              "      <td>0.2069</td>\n",
              "      <td>0.05999</td>\n",
              "      <td>0.7456</td>\n",
              "      <td>0.7869</td>\n",
              "      <td>4.585</td>\n",
              "      <td>94.03</td>\n",
              "      <td>0.006150</td>\n",
              "      <td>0.04006</td>\n",
              "      <td>0.03832</td>\n",
              "      <td>0.02058</td>\n",
              "      <td>0.02250</td>\n",
              "      <td>0.004571</td>\n",
              "      <td>23.570</td>\n",
              "      <td>25.53</td>\n",
              "      <td>152.50</td>\n",
              "      <td>1709.0</td>\n",
              "      <td>0.14440</td>\n",
              "      <td>0.42450</td>\n",
              "      <td>0.4504</td>\n",
              "      <td>0.2430</td>\n",
              "      <td>0.3613</td>\n",
              "      <td>0.08758</td>\n",
              "    </tr>\n",
              "    <tr>\n",
              "      <th>3</th>\n",
              "      <td>11.42</td>\n",
              "      <td>20.38</td>\n",
              "      <td>77.58</td>\n",
              "      <td>386.1</td>\n",
              "      <td>0.14250</td>\n",
              "      <td>0.28390</td>\n",
              "      <td>0.24140</td>\n",
              "      <td>0.10520</td>\n",
              "      <td>0.2597</td>\n",
              "      <td>0.09744</td>\n",
              "      <td>0.4956</td>\n",
              "      <td>1.1560</td>\n",
              "      <td>3.445</td>\n",
              "      <td>27.23</td>\n",
              "      <td>0.009110</td>\n",
              "      <td>0.07458</td>\n",
              "      <td>0.05661</td>\n",
              "      <td>0.01867</td>\n",
              "      <td>0.05963</td>\n",
              "      <td>0.009208</td>\n",
              "      <td>14.910</td>\n",
              "      <td>26.50</td>\n",
              "      <td>98.87</td>\n",
              "      <td>567.7</td>\n",
              "      <td>0.20980</td>\n",
              "      <td>0.86630</td>\n",
              "      <td>0.6869</td>\n",
              "      <td>0.2575</td>\n",
              "      <td>0.6638</td>\n",
              "      <td>0.17300</td>\n",
              "    </tr>\n",
              "    <tr>\n",
              "      <th>4</th>\n",
              "      <td>20.29</td>\n",
              "      <td>14.34</td>\n",
              "      <td>135.10</td>\n",
              "      <td>1297.0</td>\n",
              "      <td>0.10030</td>\n",
              "      <td>0.13280</td>\n",
              "      <td>0.19800</td>\n",
              "      <td>0.10430</td>\n",
              "      <td>0.1809</td>\n",
              "      <td>0.05883</td>\n",
              "      <td>0.7572</td>\n",
              "      <td>0.7813</td>\n",
              "      <td>5.438</td>\n",
              "      <td>94.44</td>\n",
              "      <td>0.011490</td>\n",
              "      <td>0.02461</td>\n",
              "      <td>0.05688</td>\n",
              "      <td>0.01885</td>\n",
              "      <td>0.01756</td>\n",
              "      <td>0.005115</td>\n",
              "      <td>22.540</td>\n",
              "      <td>16.67</td>\n",
              "      <td>152.20</td>\n",
              "      <td>1575.0</td>\n",
              "      <td>0.13740</td>\n",
              "      <td>0.20500</td>\n",
              "      <td>0.4000</td>\n",
              "      <td>0.1625</td>\n",
              "      <td>0.2364</td>\n",
              "      <td>0.07678</td>\n",
              "    </tr>\n",
              "    <tr>\n",
              "      <th>...</th>\n",
              "      <td>...</td>\n",
              "      <td>...</td>\n",
              "      <td>...</td>\n",
              "      <td>...</td>\n",
              "      <td>...</td>\n",
              "      <td>...</td>\n",
              "      <td>...</td>\n",
              "      <td>...</td>\n",
              "      <td>...</td>\n",
              "      <td>...</td>\n",
              "      <td>...</td>\n",
              "      <td>...</td>\n",
              "      <td>...</td>\n",
              "      <td>...</td>\n",
              "      <td>...</td>\n",
              "      <td>...</td>\n",
              "      <td>...</td>\n",
              "      <td>...</td>\n",
              "      <td>...</td>\n",
              "      <td>...</td>\n",
              "      <td>...</td>\n",
              "      <td>...</td>\n",
              "      <td>...</td>\n",
              "      <td>...</td>\n",
              "      <td>...</td>\n",
              "      <td>...</td>\n",
              "      <td>...</td>\n",
              "      <td>...</td>\n",
              "      <td>...</td>\n",
              "      <td>...</td>\n",
              "    </tr>\n",
              "    <tr>\n",
              "      <th>564</th>\n",
              "      <td>21.56</td>\n",
              "      <td>22.39</td>\n",
              "      <td>142.00</td>\n",
              "      <td>1479.0</td>\n",
              "      <td>0.11100</td>\n",
              "      <td>0.11590</td>\n",
              "      <td>0.24390</td>\n",
              "      <td>0.13890</td>\n",
              "      <td>0.1726</td>\n",
              "      <td>0.05623</td>\n",
              "      <td>1.1760</td>\n",
              "      <td>1.2560</td>\n",
              "      <td>7.673</td>\n",
              "      <td>158.70</td>\n",
              "      <td>0.010300</td>\n",
              "      <td>0.02891</td>\n",
              "      <td>0.05198</td>\n",
              "      <td>0.02454</td>\n",
              "      <td>0.01114</td>\n",
              "      <td>0.004239</td>\n",
              "      <td>25.450</td>\n",
              "      <td>26.40</td>\n",
              "      <td>166.10</td>\n",
              "      <td>2027.0</td>\n",
              "      <td>0.14100</td>\n",
              "      <td>0.21130</td>\n",
              "      <td>0.4107</td>\n",
              "      <td>0.2216</td>\n",
              "      <td>0.2060</td>\n",
              "      <td>0.07115</td>\n",
              "    </tr>\n",
              "    <tr>\n",
              "      <th>565</th>\n",
              "      <td>20.13</td>\n",
              "      <td>28.25</td>\n",
              "      <td>131.20</td>\n",
              "      <td>1261.0</td>\n",
              "      <td>0.09780</td>\n",
              "      <td>0.10340</td>\n",
              "      <td>0.14400</td>\n",
              "      <td>0.09791</td>\n",
              "      <td>0.1752</td>\n",
              "      <td>0.05533</td>\n",
              "      <td>0.7655</td>\n",
              "      <td>2.4630</td>\n",
              "      <td>5.203</td>\n",
              "      <td>99.04</td>\n",
              "      <td>0.005769</td>\n",
              "      <td>0.02423</td>\n",
              "      <td>0.03950</td>\n",
              "      <td>0.01678</td>\n",
              "      <td>0.01898</td>\n",
              "      <td>0.002498</td>\n",
              "      <td>23.690</td>\n",
              "      <td>38.25</td>\n",
              "      <td>155.00</td>\n",
              "      <td>1731.0</td>\n",
              "      <td>0.11660</td>\n",
              "      <td>0.19220</td>\n",
              "      <td>0.3215</td>\n",
              "      <td>0.1628</td>\n",
              "      <td>0.2572</td>\n",
              "      <td>0.06637</td>\n",
              "    </tr>\n",
              "    <tr>\n",
              "      <th>566</th>\n",
              "      <td>16.60</td>\n",
              "      <td>28.08</td>\n",
              "      <td>108.30</td>\n",
              "      <td>858.1</td>\n",
              "      <td>0.08455</td>\n",
              "      <td>0.10230</td>\n",
              "      <td>0.09251</td>\n",
              "      <td>0.05302</td>\n",
              "      <td>0.1590</td>\n",
              "      <td>0.05648</td>\n",
              "      <td>0.4564</td>\n",
              "      <td>1.0750</td>\n",
              "      <td>3.425</td>\n",
              "      <td>48.55</td>\n",
              "      <td>0.005903</td>\n",
              "      <td>0.03731</td>\n",
              "      <td>0.04730</td>\n",
              "      <td>0.01557</td>\n",
              "      <td>0.01318</td>\n",
              "      <td>0.003892</td>\n",
              "      <td>18.980</td>\n",
              "      <td>34.12</td>\n",
              "      <td>126.70</td>\n",
              "      <td>1124.0</td>\n",
              "      <td>0.11390</td>\n",
              "      <td>0.30940</td>\n",
              "      <td>0.3403</td>\n",
              "      <td>0.1418</td>\n",
              "      <td>0.2218</td>\n",
              "      <td>0.07820</td>\n",
              "    </tr>\n",
              "    <tr>\n",
              "      <th>567</th>\n",
              "      <td>20.60</td>\n",
              "      <td>29.33</td>\n",
              "      <td>140.10</td>\n",
              "      <td>1265.0</td>\n",
              "      <td>0.11780</td>\n",
              "      <td>0.27700</td>\n",
              "      <td>0.35140</td>\n",
              "      <td>0.15200</td>\n",
              "      <td>0.2397</td>\n",
              "      <td>0.07016</td>\n",
              "      <td>0.7260</td>\n",
              "      <td>1.5950</td>\n",
              "      <td>5.772</td>\n",
              "      <td>86.22</td>\n",
              "      <td>0.006522</td>\n",
              "      <td>0.06158</td>\n",
              "      <td>0.07117</td>\n",
              "      <td>0.01664</td>\n",
              "      <td>0.02324</td>\n",
              "      <td>0.006185</td>\n",
              "      <td>25.740</td>\n",
              "      <td>39.42</td>\n",
              "      <td>184.60</td>\n",
              "      <td>1821.0</td>\n",
              "      <td>0.16500</td>\n",
              "      <td>0.86810</td>\n",
              "      <td>0.9387</td>\n",
              "      <td>0.2650</td>\n",
              "      <td>0.4087</td>\n",
              "      <td>0.12400</td>\n",
              "    </tr>\n",
              "    <tr>\n",
              "      <th>568</th>\n",
              "      <td>7.76</td>\n",
              "      <td>24.54</td>\n",
              "      <td>47.92</td>\n",
              "      <td>181.0</td>\n",
              "      <td>0.05263</td>\n",
              "      <td>0.04362</td>\n",
              "      <td>0.00000</td>\n",
              "      <td>0.00000</td>\n",
              "      <td>0.1587</td>\n",
              "      <td>0.05884</td>\n",
              "      <td>0.3857</td>\n",
              "      <td>1.4280</td>\n",
              "      <td>2.548</td>\n",
              "      <td>19.15</td>\n",
              "      <td>0.007189</td>\n",
              "      <td>0.00466</td>\n",
              "      <td>0.00000</td>\n",
              "      <td>0.00000</td>\n",
              "      <td>0.02676</td>\n",
              "      <td>0.002783</td>\n",
              "      <td>9.456</td>\n",
              "      <td>30.37</td>\n",
              "      <td>59.16</td>\n",
              "      <td>268.6</td>\n",
              "      <td>0.08996</td>\n",
              "      <td>0.06444</td>\n",
              "      <td>0.0000</td>\n",
              "      <td>0.0000</td>\n",
              "      <td>0.2871</td>\n",
              "      <td>0.07039</td>\n",
              "    </tr>\n",
              "  </tbody>\n",
              "</table>\n",
              "<p>569 rows × 30 columns</p>\n",
              "</div>"
            ],
            "text/plain": [
              "     mean radius  mean texture  ...  worst symmetry  worst fractal dimension\n",
              "0          17.99         10.38  ...          0.4601                  0.11890\n",
              "1          20.57         17.77  ...          0.2750                  0.08902\n",
              "2          19.69         21.25  ...          0.3613                  0.08758\n",
              "3          11.42         20.38  ...          0.6638                  0.17300\n",
              "4          20.29         14.34  ...          0.2364                  0.07678\n",
              "..           ...           ...  ...             ...                      ...\n",
              "564        21.56         22.39  ...          0.2060                  0.07115\n",
              "565        20.13         28.25  ...          0.2572                  0.06637\n",
              "566        16.60         28.08  ...          0.2218                  0.07820\n",
              "567        20.60         29.33  ...          0.4087                  0.12400\n",
              "568         7.76         24.54  ...          0.2871                  0.07039\n",
              "\n",
              "[569 rows x 30 columns]"
            ]
          },
          "metadata": {
            "tags": []
          },
          "execution_count": 109
        }
      ]
    },
    {
      "cell_type": "code",
      "metadata": {
        "colab": {
          "base_uri": "https://localhost:8080/"
        },
        "id": "qsxCLuJ2ZDjB",
        "outputId": "c50c52e4-4285-43e0-e7c7-18624cac075a"
      },
      "source": [
        "y"
      ],
      "execution_count": 110,
      "outputs": [
        {
          "output_type": "execute_result",
          "data": {
            "text/plain": [
              "array([0, 0, 0, 0, 0, 0, 0, 0, 0, 0, 0, 0, 0, 0, 0, 0, 0, 0, 0, 1, 1, 1,\n",
              "       0, 0, 0, 0, 0, 0, 0, 0, 0, 0, 0, 0, 0, 0, 0, 1, 0, 0, 0, 0, 0, 0,\n",
              "       0, 0, 1, 0, 1, 1, 1, 1, 1, 0, 0, 1, 0, 0, 1, 1, 1, 1, 0, 1, 0, 0,\n",
              "       1, 1, 1, 1, 0, 1, 0, 0, 1, 0, 1, 0, 0, 1, 1, 1, 0, 0, 1, 0, 0, 0,\n",
              "       1, 1, 1, 0, 1, 1, 0, 0, 1, 1, 1, 0, 0, 1, 1, 1, 1, 0, 1, 1, 0, 1,\n",
              "       1, 1, 1, 1, 1, 1, 1, 0, 0, 0, 1, 0, 0, 1, 1, 1, 0, 0, 1, 0, 1, 0,\n",
              "       0, 1, 0, 0, 1, 1, 0, 1, 1, 0, 1, 1, 1, 1, 0, 1, 1, 1, 1, 1, 1, 1,\n",
              "       1, 1, 0, 1, 1, 1, 1, 0, 0, 1, 0, 1, 1, 0, 0, 1, 1, 0, 0, 1, 1, 1,\n",
              "       1, 0, 1, 1, 0, 0, 0, 1, 0, 1, 0, 1, 1, 1, 0, 1, 1, 0, 0, 1, 0, 0,\n",
              "       0, 0, 1, 0, 0, 0, 1, 0, 1, 0, 1, 1, 0, 1, 0, 0, 0, 0, 1, 1, 0, 0,\n",
              "       1, 1, 1, 0, 1, 1, 1, 1, 1, 0, 0, 1, 1, 0, 1, 1, 0, 0, 1, 0, 1, 1,\n",
              "       1, 1, 0, 1, 1, 1, 1, 1, 0, 1, 0, 0, 0, 0, 0, 0, 0, 0, 0, 0, 0, 0,\n",
              "       0, 0, 1, 1, 1, 1, 1, 1, 0, 1, 0, 1, 1, 0, 1, 1, 0, 1, 0, 0, 1, 1,\n",
              "       1, 1, 1, 1, 1, 1, 1, 1, 1, 1, 1, 0, 1, 1, 0, 1, 0, 1, 1, 1, 1, 1,\n",
              "       1, 1, 1, 1, 1, 1, 1, 1, 1, 0, 1, 1, 1, 0, 1, 0, 1, 1, 1, 1, 0, 0,\n",
              "       0, 1, 1, 1, 1, 0, 1, 0, 1, 0, 1, 1, 1, 0, 1, 1, 1, 1, 1, 1, 1, 0,\n",
              "       0, 0, 1, 1, 1, 1, 1, 1, 1, 1, 1, 1, 1, 0, 0, 1, 0, 0, 0, 1, 0, 0,\n",
              "       1, 1, 1, 1, 1, 0, 1, 1, 1, 1, 1, 0, 1, 1, 1, 0, 1, 1, 0, 0, 1, 1,\n",
              "       1, 1, 1, 1, 0, 1, 1, 1, 1, 1, 1, 1, 0, 1, 1, 1, 1, 1, 0, 1, 1, 0,\n",
              "       1, 1, 1, 1, 1, 1, 1, 1, 1, 1, 1, 1, 0, 1, 0, 0, 1, 0, 1, 1, 1, 1,\n",
              "       1, 0, 1, 1, 0, 1, 0, 1, 1, 0, 1, 0, 1, 1, 1, 1, 1, 1, 1, 1, 0, 0,\n",
              "       1, 1, 1, 1, 1, 1, 0, 1, 1, 1, 1, 1, 1, 1, 1, 1, 1, 0, 1, 1, 1, 1,\n",
              "       1, 1, 1, 0, 1, 0, 1, 1, 0, 1, 1, 1, 1, 1, 0, 0, 1, 0, 1, 0, 1, 1,\n",
              "       1, 1, 1, 0, 1, 1, 0, 1, 0, 1, 0, 0, 1, 1, 1, 0, 1, 1, 1, 1, 1, 1,\n",
              "       1, 1, 1, 1, 1, 0, 1, 0, 0, 1, 1, 1, 1, 1, 1, 1, 1, 1, 1, 1, 1, 1,\n",
              "       1, 1, 1, 1, 1, 1, 1, 1, 1, 1, 1, 1, 0, 0, 0, 0, 0, 0, 1])"
            ]
          },
          "metadata": {
            "tags": []
          },
          "execution_count": 110
        }
      ]
    },
    {
      "cell_type": "code",
      "metadata": {
        "colab": {
          "base_uri": "https://localhost:8080/"
        },
        "id": "uYTluNgCZE1i",
        "outputId": "ef4b59ab-f615-461a-9464-1f4ada666718"
      },
      "source": [
        "X_tr, X_te, y_tr, y_te = model_selection.train_test_split(X,y,test_size=0.2, random_state=0)\r\n",
        "X_tr.shape, X_te.shape, y_tr.shape, y_te.shape"
      ],
      "execution_count": 112,
      "outputs": [
        {
          "output_type": "execute_result",
          "data": {
            "text/plain": [
              "((455, 30), (114, 30), (455,), (114,))"
            ]
          },
          "metadata": {
            "tags": []
          },
          "execution_count": 112
        }
      ]
    },
    {
      "cell_type": "code",
      "metadata": {
        "colab": {
          "base_uri": "https://localhost:8080/"
        },
        "id": "BrxquR3iZSyM",
        "outputId": "339069c5-8d27-4254-f2c4-07d6a49edb6b"
      },
      "source": [
        "model = Sequential([\r\n",
        "                    layers.Dense(32, input_shape=(30,)),\r\n",
        "                    layers.Dense(128, activation='relu'),\r\n",
        "                    layers.BatchNormalization(),\r\n",
        "                    layers.Dense(64, activation='relu'),\r\n",
        "                    layers.Dropout(0.2),\r\n",
        "                    layers.Dense(1, activation='sigmoid')\r\n",
        "])\r\n",
        "\r\n",
        "model.compile(optimizer='adam', loss='binary_crossentropy', metrics=['accuracy'])\r\n",
        "\r\n",
        "hist = model.fit(X_tr, y_tr, validation_data=(X_te, y_te), epochs=100)"
      ],
      "execution_count": 115,
      "outputs": [
        {
          "output_type": "stream",
          "text": [
            "Epoch 1/100\n",
            "15/15 [==============================] - 1s 19ms/step - loss: 0.5770 - accuracy: 0.6637 - val_loss: 5.0328 - val_accuracy: 0.4123\n",
            "Epoch 2/100\n",
            "15/15 [==============================] - 0s 6ms/step - loss: 0.2802 - accuracy: 0.9018 - val_loss: 2.1558 - val_accuracy: 0.4123\n",
            "Epoch 3/100\n",
            "15/15 [==============================] - 0s 6ms/step - loss: 0.2488 - accuracy: 0.9058 - val_loss: 1.3326 - val_accuracy: 0.5526\n",
            "Epoch 4/100\n",
            "15/15 [==============================] - 0s 5ms/step - loss: 0.2288 - accuracy: 0.9174 - val_loss: 1.0880 - val_accuracy: 0.5526\n",
            "Epoch 5/100\n",
            "15/15 [==============================] - 0s 5ms/step - loss: 0.1738 - accuracy: 0.9445 - val_loss: 0.6158 - val_accuracy: 0.6930\n",
            "Epoch 6/100\n",
            "15/15 [==============================] - 0s 5ms/step - loss: 0.1887 - accuracy: 0.9266 - val_loss: 0.7820 - val_accuracy: 0.6667\n",
            "Epoch 7/100\n",
            "15/15 [==============================] - 0s 5ms/step - loss: 0.1604 - accuracy: 0.9369 - val_loss: 0.2652 - val_accuracy: 0.8772\n",
            "Epoch 8/100\n",
            "15/15 [==============================] - 0s 5ms/step - loss: 0.1853 - accuracy: 0.9180 - val_loss: 0.3478 - val_accuracy: 0.8421\n",
            "Epoch 9/100\n",
            "15/15 [==============================] - 0s 5ms/step - loss: 0.1567 - accuracy: 0.9427 - val_loss: 0.3822 - val_accuracy: 0.7807\n",
            "Epoch 10/100\n",
            "15/15 [==============================] - 0s 4ms/step - loss: 0.1875 - accuracy: 0.9317 - val_loss: 0.3372 - val_accuracy: 0.8246\n",
            "Epoch 11/100\n",
            "15/15 [==============================] - 0s 5ms/step - loss: 0.1769 - accuracy: 0.9415 - val_loss: 0.3251 - val_accuracy: 0.8421\n",
            "Epoch 12/100\n",
            "15/15 [==============================] - 0s 5ms/step - loss: 0.1822 - accuracy: 0.9370 - val_loss: 0.1609 - val_accuracy: 0.9298\n",
            "Epoch 13/100\n",
            "15/15 [==============================] - 0s 5ms/step - loss: 0.1710 - accuracy: 0.9230 - val_loss: 0.2814 - val_accuracy: 0.8860\n",
            "Epoch 14/100\n",
            "15/15 [==============================] - 0s 5ms/step - loss: 0.1964 - accuracy: 0.9215 - val_loss: 0.1968 - val_accuracy: 0.9211\n",
            "Epoch 15/100\n",
            "15/15 [==============================] - 0s 5ms/step - loss: 0.1406 - accuracy: 0.9494 - val_loss: 0.4148 - val_accuracy: 0.8158\n",
            "Epoch 16/100\n",
            "15/15 [==============================] - 0s 5ms/step - loss: 0.1648 - accuracy: 0.9196 - val_loss: 0.3294 - val_accuracy: 0.8596\n",
            "Epoch 17/100\n",
            "15/15 [==============================] - 0s 5ms/step - loss: 0.1449 - accuracy: 0.9389 - val_loss: 0.1453 - val_accuracy: 0.9474\n",
            "Epoch 18/100\n",
            "15/15 [==============================] - 0s 5ms/step - loss: 0.1233 - accuracy: 0.9438 - val_loss: 0.3548 - val_accuracy: 0.8684\n",
            "Epoch 19/100\n",
            "15/15 [==============================] - 0s 5ms/step - loss: 0.1268 - accuracy: 0.9656 - val_loss: 0.4336 - val_accuracy: 0.8509\n",
            "Epoch 20/100\n",
            "15/15 [==============================] - 0s 5ms/step - loss: 0.2031 - accuracy: 0.9062 - val_loss: 0.2602 - val_accuracy: 0.8947\n",
            "Epoch 21/100\n",
            "15/15 [==============================] - 0s 5ms/step - loss: 0.1480 - accuracy: 0.9421 - val_loss: 0.1609 - val_accuracy: 0.9386\n",
            "Epoch 22/100\n",
            "15/15 [==============================] - 0s 5ms/step - loss: 0.1332 - accuracy: 0.9483 - val_loss: 0.2092 - val_accuracy: 0.9035\n",
            "Epoch 23/100\n",
            "15/15 [==============================] - 0s 5ms/step - loss: 0.1573 - accuracy: 0.9410 - val_loss: 0.1362 - val_accuracy: 0.9386\n",
            "Epoch 24/100\n",
            "15/15 [==============================] - 0s 5ms/step - loss: 0.1227 - accuracy: 0.9498 - val_loss: 0.3460 - val_accuracy: 0.8596\n",
            "Epoch 25/100\n",
            "15/15 [==============================] - 0s 5ms/step - loss: 0.1576 - accuracy: 0.9401 - val_loss: 0.1326 - val_accuracy: 0.9474\n",
            "Epoch 26/100\n",
            "15/15 [==============================] - 0s 5ms/step - loss: 0.1480 - accuracy: 0.9239 - val_loss: 0.2116 - val_accuracy: 0.9035\n",
            "Epoch 27/100\n",
            "15/15 [==============================] - 0s 5ms/step - loss: 0.2101 - accuracy: 0.9170 - val_loss: 0.5785 - val_accuracy: 0.7895\n",
            "Epoch 28/100\n",
            "15/15 [==============================] - 0s 5ms/step - loss: 0.1933 - accuracy: 0.8997 - val_loss: 0.2751 - val_accuracy: 0.8860\n",
            "Epoch 29/100\n",
            "15/15 [==============================] - 0s 5ms/step - loss: 0.1617 - accuracy: 0.9378 - val_loss: 0.5999 - val_accuracy: 0.7982\n",
            "Epoch 30/100\n",
            "15/15 [==============================] - 0s 5ms/step - loss: 0.1109 - accuracy: 0.9449 - val_loss: 0.7134 - val_accuracy: 0.7632\n",
            "Epoch 31/100\n",
            "15/15 [==============================] - 0s 5ms/step - loss: 0.1477 - accuracy: 0.9435 - val_loss: 0.5549 - val_accuracy: 0.7982\n",
            "Epoch 32/100\n",
            "15/15 [==============================] - 0s 5ms/step - loss: 0.2075 - accuracy: 0.9003 - val_loss: 0.9107 - val_accuracy: 0.7456\n",
            "Epoch 33/100\n",
            "15/15 [==============================] - 0s 16ms/step - loss: 0.1306 - accuracy: 0.9448 - val_loss: 0.7908 - val_accuracy: 0.7632\n",
            "Epoch 34/100\n",
            "15/15 [==============================] - 0s 5ms/step - loss: 0.1380 - accuracy: 0.9536 - val_loss: 0.3533 - val_accuracy: 0.8684\n",
            "Epoch 35/100\n",
            "15/15 [==============================] - 0s 5ms/step - loss: 0.1632 - accuracy: 0.9371 - val_loss: 0.4483 - val_accuracy: 0.8333\n",
            "Epoch 36/100\n",
            "15/15 [==============================] - 0s 5ms/step - loss: 0.1543 - accuracy: 0.9318 - val_loss: 0.1892 - val_accuracy: 0.9211\n",
            "Epoch 37/100\n",
            "15/15 [==============================] - 0s 5ms/step - loss: 0.1434 - accuracy: 0.9397 - val_loss: 0.1293 - val_accuracy: 0.9561\n",
            "Epoch 38/100\n",
            "15/15 [==============================] - 0s 5ms/step - loss: 0.1223 - accuracy: 0.9369 - val_loss: 0.4663 - val_accuracy: 0.8333\n",
            "Epoch 39/100\n",
            "15/15 [==============================] - 0s 5ms/step - loss: 0.1520 - accuracy: 0.9430 - val_loss: 0.2094 - val_accuracy: 0.9123\n",
            "Epoch 40/100\n",
            "15/15 [==============================] - 0s 5ms/step - loss: 0.1504 - accuracy: 0.9445 - val_loss: 0.4426 - val_accuracy: 0.8509\n",
            "Epoch 41/100\n",
            "15/15 [==============================] - 0s 6ms/step - loss: 0.1886 - accuracy: 0.9247 - val_loss: 0.2454 - val_accuracy: 0.9035\n",
            "Epoch 42/100\n",
            "15/15 [==============================] - 0s 5ms/step - loss: 0.1103 - accuracy: 0.9553 - val_loss: 1.0678 - val_accuracy: 0.6930\n",
            "Epoch 43/100\n",
            "15/15 [==============================] - 0s 5ms/step - loss: 0.1555 - accuracy: 0.9388 - val_loss: 0.3433 - val_accuracy: 0.8772\n",
            "Epoch 44/100\n",
            "15/15 [==============================] - 0s 5ms/step - loss: 0.1135 - accuracy: 0.9482 - val_loss: 0.8626 - val_accuracy: 0.7456\n",
            "Epoch 45/100\n",
            "15/15 [==============================] - 0s 5ms/step - loss: 0.1541 - accuracy: 0.9371 - val_loss: 0.2166 - val_accuracy: 0.9035\n",
            "Epoch 46/100\n",
            "15/15 [==============================] - 0s 5ms/step - loss: 0.1337 - accuracy: 0.9296 - val_loss: 0.3554 - val_accuracy: 0.8772\n",
            "Epoch 47/100\n",
            "15/15 [==============================] - 0s 5ms/step - loss: 0.1416 - accuracy: 0.9500 - val_loss: 0.1638 - val_accuracy: 0.9123\n",
            "Epoch 48/100\n",
            "15/15 [==============================] - 0s 5ms/step - loss: 0.1089 - accuracy: 0.9512 - val_loss: 0.1120 - val_accuracy: 0.9649\n",
            "Epoch 49/100\n",
            "15/15 [==============================] - 0s 6ms/step - loss: 0.1432 - accuracy: 0.9434 - val_loss: 0.1243 - val_accuracy: 0.9386\n",
            "Epoch 50/100\n",
            "15/15 [==============================] - 0s 5ms/step - loss: 0.1391 - accuracy: 0.9449 - val_loss: 0.2656 - val_accuracy: 0.9035\n",
            "Epoch 51/100\n",
            "15/15 [==============================] - 0s 5ms/step - loss: 0.1624 - accuracy: 0.9301 - val_loss: 0.2724 - val_accuracy: 0.8947\n",
            "Epoch 52/100\n",
            "15/15 [==============================] - 0s 5ms/step - loss: 0.1182 - accuracy: 0.9615 - val_loss: 0.1058 - val_accuracy: 0.9649\n",
            "Epoch 53/100\n",
            "15/15 [==============================] - 0s 6ms/step - loss: 0.1488 - accuracy: 0.9392 - val_loss: 0.1259 - val_accuracy: 0.9649\n",
            "Epoch 54/100\n",
            "15/15 [==============================] - 0s 5ms/step - loss: 0.1613 - accuracy: 0.9238 - val_loss: 0.2957 - val_accuracy: 0.8860\n",
            "Epoch 55/100\n",
            "15/15 [==============================] - 0s 5ms/step - loss: 0.1025 - accuracy: 0.9659 - val_loss: 0.3479 - val_accuracy: 0.8684\n",
            "Epoch 56/100\n",
            "15/15 [==============================] - 0s 5ms/step - loss: 0.1205 - accuracy: 0.9498 - val_loss: 0.1309 - val_accuracy: 0.9561\n",
            "Epoch 57/100\n",
            "15/15 [==============================] - 0s 6ms/step - loss: 0.1332 - accuracy: 0.9510 - val_loss: 0.2059 - val_accuracy: 0.9123\n",
            "Epoch 58/100\n",
            "15/15 [==============================] - 0s 5ms/step - loss: 0.1443 - accuracy: 0.9458 - val_loss: 0.1334 - val_accuracy: 0.9298\n",
            "Epoch 59/100\n",
            "15/15 [==============================] - 0s 5ms/step - loss: 0.1608 - accuracy: 0.9292 - val_loss: 0.1218 - val_accuracy: 0.9474\n",
            "Epoch 60/100\n",
            "15/15 [==============================] - 0s 5ms/step - loss: 0.1403 - accuracy: 0.9407 - val_loss: 0.1726 - val_accuracy: 0.9298\n",
            "Epoch 61/100\n",
            "15/15 [==============================] - 0s 5ms/step - loss: 0.1179 - accuracy: 0.9471 - val_loss: 0.2149 - val_accuracy: 0.9123\n",
            "Epoch 62/100\n",
            "15/15 [==============================] - 0s 5ms/step - loss: 0.1256 - accuracy: 0.9582 - val_loss: 0.5767 - val_accuracy: 0.7982\n",
            "Epoch 63/100\n",
            "15/15 [==============================] - 0s 5ms/step - loss: 0.1405 - accuracy: 0.9582 - val_loss: 0.1998 - val_accuracy: 0.9123\n",
            "Epoch 64/100\n",
            "15/15 [==============================] - 0s 7ms/step - loss: 0.1321 - accuracy: 0.9510 - val_loss: 0.1542 - val_accuracy: 0.9211\n",
            "Epoch 65/100\n",
            "15/15 [==============================] - 0s 5ms/step - loss: 0.1024 - accuracy: 0.9532 - val_loss: 0.1278 - val_accuracy: 0.9474\n",
            "Epoch 66/100\n",
            "15/15 [==============================] - 0s 6ms/step - loss: 0.1318 - accuracy: 0.9550 - val_loss: 0.1187 - val_accuracy: 0.9561\n",
            "Epoch 67/100\n",
            "15/15 [==============================] - 0s 5ms/step - loss: 0.1301 - accuracy: 0.9498 - val_loss: 0.1021 - val_accuracy: 0.9561\n",
            "Epoch 68/100\n",
            "15/15 [==============================] - 0s 6ms/step - loss: 0.1307 - accuracy: 0.9463 - val_loss: 0.1450 - val_accuracy: 0.9386\n",
            "Epoch 69/100\n",
            "15/15 [==============================] - 0s 5ms/step - loss: 0.1361 - accuracy: 0.9442 - val_loss: 0.3831 - val_accuracy: 0.8509\n",
            "Epoch 70/100\n",
            "15/15 [==============================] - 0s 5ms/step - loss: 0.1597 - accuracy: 0.9380 - val_loss: 0.1030 - val_accuracy: 0.9561\n",
            "Epoch 71/100\n",
            "15/15 [==============================] - 0s 5ms/step - loss: 0.1079 - accuracy: 0.9598 - val_loss: 0.1029 - val_accuracy: 0.9474\n",
            "Epoch 72/100\n",
            "15/15 [==============================] - 0s 6ms/step - loss: 0.1288 - accuracy: 0.9514 - val_loss: 0.1055 - val_accuracy: 0.9474\n",
            "Epoch 73/100\n",
            "15/15 [==============================] - 0s 5ms/step - loss: 0.1131 - accuracy: 0.9516 - val_loss: 0.3873 - val_accuracy: 0.8596\n",
            "Epoch 74/100\n",
            "15/15 [==============================] - 0s 5ms/step - loss: 0.1524 - accuracy: 0.9246 - val_loss: 0.1011 - val_accuracy: 0.9561\n",
            "Epoch 75/100\n",
            "15/15 [==============================] - 0s 5ms/step - loss: 0.1184 - accuracy: 0.9487 - val_loss: 0.1339 - val_accuracy: 0.9386\n",
            "Epoch 76/100\n",
            "15/15 [==============================] - 0s 5ms/step - loss: 0.1310 - accuracy: 0.9510 - val_loss: 0.2243 - val_accuracy: 0.8947\n",
            "Epoch 77/100\n",
            "15/15 [==============================] - 0s 5ms/step - loss: 0.1584 - accuracy: 0.9415 - val_loss: 0.1598 - val_accuracy: 0.9386\n",
            "Epoch 78/100\n",
            "15/15 [==============================] - 0s 5ms/step - loss: 0.1579 - accuracy: 0.9424 - val_loss: 0.1952 - val_accuracy: 0.9035\n",
            "Epoch 79/100\n",
            "15/15 [==============================] - 0s 5ms/step - loss: 0.1328 - accuracy: 0.9575 - val_loss: 0.1345 - val_accuracy: 0.9474\n",
            "Epoch 80/100\n",
            "15/15 [==============================] - 0s 6ms/step - loss: 0.1416 - accuracy: 0.9521 - val_loss: 2.2963 - val_accuracy: 0.6053\n",
            "Epoch 81/100\n",
            "15/15 [==============================] - 0s 5ms/step - loss: 0.1960 - accuracy: 0.9267 - val_loss: 0.9341 - val_accuracy: 0.6754\n",
            "Epoch 82/100\n",
            "15/15 [==============================] - 0s 6ms/step - loss: 0.1992 - accuracy: 0.9144 - val_loss: 0.5532 - val_accuracy: 0.7719\n",
            "Epoch 83/100\n",
            "15/15 [==============================] - 0s 5ms/step - loss: 0.1368 - accuracy: 0.9520 - val_loss: 0.7741 - val_accuracy: 0.7018\n",
            "Epoch 84/100\n",
            "15/15 [==============================] - 0s 5ms/step - loss: 0.1528 - accuracy: 0.9354 - val_loss: 0.2009 - val_accuracy: 0.9123\n",
            "Epoch 85/100\n",
            "15/15 [==============================] - 0s 5ms/step - loss: 0.1661 - accuracy: 0.9239 - val_loss: 0.1757 - val_accuracy: 0.9386\n",
            "Epoch 86/100\n",
            "15/15 [==============================] - 0s 5ms/step - loss: 0.1083 - accuracy: 0.9464 - val_loss: 0.4285 - val_accuracy: 0.8333\n",
            "Epoch 87/100\n",
            "15/15 [==============================] - 0s 5ms/step - loss: 0.1261 - accuracy: 0.9471 - val_loss: 0.1658 - val_accuracy: 0.9211\n",
            "Epoch 88/100\n",
            "15/15 [==============================] - 0s 5ms/step - loss: 0.1868 - accuracy: 0.9190 - val_loss: 0.2421 - val_accuracy: 0.8947\n",
            "Epoch 89/100\n",
            "15/15 [==============================] - 0s 5ms/step - loss: 0.1168 - accuracy: 0.9556 - val_loss: 0.1352 - val_accuracy: 0.9474\n",
            "Epoch 90/100\n",
            "15/15 [==============================] - 0s 5ms/step - loss: 0.1215 - accuracy: 0.9496 - val_loss: 0.1176 - val_accuracy: 0.9561\n",
            "Epoch 91/100\n",
            "15/15 [==============================] - 0s 5ms/step - loss: 0.1320 - accuracy: 0.9553 - val_loss: 0.1269 - val_accuracy: 0.9474\n",
            "Epoch 92/100\n",
            "15/15 [==============================] - 0s 6ms/step - loss: 0.1188 - accuracy: 0.9506 - val_loss: 1.1869 - val_accuracy: 0.6316\n",
            "Epoch 93/100\n",
            "15/15 [==============================] - 0s 15ms/step - loss: 0.1199 - accuracy: 0.9508 - val_loss: 0.2564 - val_accuracy: 0.8947\n",
            "Epoch 94/100\n",
            "15/15 [==============================] - 0s 5ms/step - loss: 0.1248 - accuracy: 0.9499 - val_loss: 0.1663 - val_accuracy: 0.9211\n",
            "Epoch 95/100\n",
            "15/15 [==============================] - 0s 5ms/step - loss: 0.0958 - accuracy: 0.9685 - val_loss: 0.3648 - val_accuracy: 0.8333\n",
            "Epoch 96/100\n",
            "15/15 [==============================] - 0s 5ms/step - loss: 0.1347 - accuracy: 0.9421 - val_loss: 0.2512 - val_accuracy: 0.9035\n",
            "Epoch 97/100\n",
            "15/15 [==============================] - 0s 6ms/step - loss: 0.1631 - accuracy: 0.9336 - val_loss: 0.2801 - val_accuracy: 0.8860\n",
            "Epoch 98/100\n",
            "15/15 [==============================] - 0s 5ms/step - loss: 0.1467 - accuracy: 0.9512 - val_loss: 0.2514 - val_accuracy: 0.8860\n",
            "Epoch 99/100\n",
            "15/15 [==============================] - 0s 5ms/step - loss: 0.2035 - accuracy: 0.9186 - val_loss: 0.3097 - val_accuracy: 0.8509\n",
            "Epoch 100/100\n",
            "15/15 [==============================] - 0s 5ms/step - loss: 0.1246 - accuracy: 0.9433 - val_loss: 0.1490 - val_accuracy: 0.9386\n"
          ],
          "name": "stdout"
        }
      ]
    },
    {
      "cell_type": "code",
      "metadata": {
        "colab": {
          "base_uri": "https://localhost:8080/",
          "height": 265
        },
        "id": "jGY7pB3Ra5dE",
        "outputId": "7b242655-eecc-4044-fcc8-c0eefb0fa4fe"
      },
      "source": [
        "plt.plot(range(100), hist.history['loss'])\r\n",
        "plt.plot(range(100), hist.history['val_loss'])\r\n",
        "plt.legend(['train','test'])\r\n",
        "plt.show()"
      ],
      "execution_count": 116,
      "outputs": [
        {
          "output_type": "display_data",
          "data": {
            "image/png": "[encoded data removed]",
            "text/plain": [
              "<Figure size 432x288 with 1 Axes>"
            ]
          },
          "metadata": {
            "tags": [],
            "needs_background": "light"
          }
        }
      ]
    },
    {
      "cell_type": "code",
      "metadata": {
        "colab": {
          "base_uri": "https://localhost:8080/"
        },
        "id": "adpaDSFQbP8b",
        "outputId": "98af3315-d85d-4d9c-9137-6b4e17fb4cc8"
      },
      "source": [
        "len(hist.history['loss']), len(hist.history['val_loss'])"
      ],
      "execution_count": 117,
      "outputs": [
        {
          "output_type": "execute_result",
          "data": {
            "text/plain": [
              "(100, 100)"
            ]
          },
          "metadata": {
            "tags": []
          },
          "execution_count": 117
        }
      ]
    },
    {
      "cell_type": "code",
      "metadata": {
        "id": "TQYgoERjbvVv"
      },
      "source": [
        ""
      ],
      "execution_count": null,
      "outputs": []
    }
  ]
}