{
  "nbformat": 4,
  "nbformat_minor": 0,
  "metadata": {
    "colab": {
      "name": "Mnist_Ann.ipynb",
      "provenance": []
    },
    "kernelspec": {
      "name": "python3",
      "display_name": "Python 3"
    }
  },
  "cells": [
    {
      "cell_type": "code",
      "metadata": {
        "id": "rHwiogT-wzQj"
      },
      "source": [
        "import tensorflow.compat.v2 as tf\r\n",
        "import tensorflow_datasets as tfds\r\n",
        "\r\n",
        "tf.enable_v2_behavior()"
      ],
      "execution_count": 65,
      "outputs": []
    },
    {
      "cell_type": "code",
      "metadata": {
        "id": "4Rp6qwTxxhvk"
      },
      "source": [
        "(ds_train, ds_test), ds_info = tfds.load(\r\n",
        "    'mnist',\r\n",
        "    split=['train', 'test'],\r\n",
        "    shuffle_files=True,\r\n",
        "    as_supervised=True,\r\n",
        "    with_info=True,\r\n",
        ")"
      ],
      "execution_count": 66,
      "outputs": []
    },
    {
      "cell_type": "markdown",
      "metadata": {
        "id": "MbQFAplnzEfR"
      },
      "source": [
        "# Build training pipeline\r\n",
        "## Apply the following transormations:\r\n",
        "\r\n",
        "1. ds.map: TFDS provide the images as tf.uint8, while the model expect tf.float32, so normalize images\r\n",
        "2. ds.cache As the dataset fit in memory, cache before shuffling for better performance.<br/>\r\n",
        "Note: Random transformations should be applied after caching\r\n",
        "3. ds.shuffle: For true randomness, set the shuffle buffer to the full dataset size.<br/>\r\n",
        "Note: For bigger datasets which do not fit in memory, a standard value is 1000 if your system allows it.\r\n",
        "4. ds.batch: Batch after shuffling to get unique batches at each epoch.\r\n",
        "5. ds.prefetch: Good practice to end the pipeline by prefetching for performances."
      ]
    },
    {
      "cell_type": "code",
      "metadata": {
        "id": "lKNkSsC7yFsg"
      },
      "source": [
        "# def normalize(image, label):\r\n",
        "#   \"\"\"Normalizes images: `uint8` -> `float32`.\"\"\"\r\n",
        "#   return tf.cast(image, tf.float32) / 255., label\r\n",
        "\r\n",
        "# ds_train = ds_train.map(\r\n",
        "#     normalize_img, num_parallel_calls=tf.data.experimental.AUTOTUNE)\r\n",
        "# ds_train = ds_train.cache()\r\n",
        "# ds_train = ds_train.shuffle(ds_info.splits['train'].num_examples)\r\n",
        "# ds_train = ds_train.batch(128)\r\n",
        "# ds_train = ds_train.prefetch(tf.data.experimental.AUTOTUNE)\r\n",
        "\r\n",
        "\r\n",
        "def normalize(feat, label):\r\n",
        "  return tf.cast(feat, tf.float32) / 255., label\r\n",
        "\r\n",
        "ds_train = ds_train.map(normalize, num_parallel_calls=tf.data.experimental.AUTOTUNE)\r\n",
        "ds_train = ds_train.cache()\r\n",
        "ds_train = ds_train.shuffle(info.splits['train'].num_examples)\r\n",
        "ds_train = ds_train.batch(128)\r\n",
        "ds_train = ds_train.prefetch(tf.data.experimental.AUTOTUNE)"
      ],
      "execution_count": 67,
      "outputs": []
    },
    {
      "cell_type": "code",
      "metadata": {
        "colab": {
          "base_uri": "https://localhost:8080/"
        },
        "id": "g5yQ0hVz65XG",
        "outputId": "be4e124e-1fcf-422b-dc3b-1ef104daa9cf"
      },
      "source": [
        "normalize"
      ],
      "execution_count": 68,
      "outputs": [
        {
          "output_type": "execute_result",
          "data": {
            "text/plain": [
              "<function __main__.normalize>"
            ]
          },
          "metadata": {
            "tags": []
          },
          "execution_count": 68
        }
      ]
    },
    {
      "cell_type": "code",
      "metadata": {
        "id": "ozszLItb21_Q"
      },
      "source": [
        "ds_test = ds_test.map(\r\n",
        "    normalize, num_parallel_calls=tf.data.experimental.AUTOTUNE)\r\n",
        "ds_test = ds_test.batch(128)\r\n",
        "ds_test = ds_test.cache()\r\n",
        "ds_test = ds_test.prefetch(tf.data.experimental.AUTOTUNE)"
      ],
      "execution_count": 69,
      "outputs": []
    },
    {
      "cell_type": "code",
      "metadata": {
        "colab": {
          "base_uri": "https://localhost:8080/"
        },
        "id": "gDm0Skv30bVC",
        "outputId": "bf4b404e-3dca-4601-8a17-2b91bd2b24b1"
      },
      "source": [
        "model = tf.keras.models.Sequential([\r\n",
        "  tf.keras.layers.Flatten(input_shape=(28, 28)),\r\n",
        "  tf.keras.layers.Dense(128,activation='relu'),\r\n",
        "  tf.keras.layers.Dense(10)\r\n",
        "])\r\n",
        "model.compile(\r\n",
        "    optimizer=tf.keras.optimizers.Adam(0.001),\r\n",
        "    loss=tf.keras.losses.SparseCategoricalCrossentropy(from_logits=True),\r\n",
        "    metrics=[tf.keras.metrics.SparseCategoricalAccuracy()],\r\n",
        ")\r\n",
        "\r\n",
        "model.fit(\r\n",
        "    ds_train,\r\n",
        "    epochs=6,\r\n",
        "    validation_data=ds_test,\r\n",
        ")"
      ],
      "execution_count": 70,
      "outputs": [
        {
          "output_type": "stream",
          "text": [
            "Epoch 1/6\n",
            "469/469 [==============================] - 9s 6ms/step - loss: 0.6113 - sparse_categorical_accuracy: 0.8306 - val_loss: 0.2030 - val_sparse_categorical_accuracy: 0.9374\n",
            "Epoch 2/6\n",
            "469/469 [==============================] - 2s 4ms/step - loss: 0.1759 - sparse_categorical_accuracy: 0.9496 - val_loss: 0.1373 - val_sparse_categorical_accuracy: 0.9590\n",
            "Epoch 3/6\n",
            "469/469 [==============================] - 2s 4ms/step - loss: 0.1246 - sparse_categorical_accuracy: 0.9650 - val_loss: 0.1136 - val_sparse_categorical_accuracy: 0.9667\n",
            "Epoch 4/6\n",
            "469/469 [==============================] - 2s 4ms/step - loss: 0.0935 - sparse_categorical_accuracy: 0.9725 - val_loss: 0.0946 - val_sparse_categorical_accuracy: 0.9716\n",
            "Epoch 5/6\n",
            "469/469 [==============================] - 2s 4ms/step - loss: 0.0739 - sparse_categorical_accuracy: 0.9794 - val_loss: 0.0867 - val_sparse_categorical_accuracy: 0.9738\n",
            "Epoch 6/6\n",
            "469/469 [==============================] - 2s 4ms/step - loss: 0.0587 - sparse_categorical_accuracy: 0.9833 - val_loss: 0.0839 - val_sparse_categorical_accuracy: 0.9739\n"
          ],
          "name": "stdout"
        },
        {
          "output_type": "execute_result",
          "data": {
            "text/plain": [
              "<tensorflow.python.keras.callbacks.History at 0x7ff850edfba8>"
            ]
          },
          "metadata": {
            "tags": []
          },
          "execution_count": 70
        }
      ]
    },
    {
      "cell_type": "code",
      "metadata": {
        "id": "pTdjqABj1a9p"
      },
      "source": [
        ""
      ],
      "execution_count": 70,
      "outputs": []
    },
    {
      "cell_type": "code",
      "metadata": {
        "id": "HuiDm4sb2GTK"
      },
      "source": [
        ""
      ],
      "execution_count": 70,
      "outputs": []
    },
    {
      "cell_type": "code",
      "metadata": {
        "id": "_U7NvtcY2N4_"
      },
      "source": [
        ""
      ],
      "execution_count": 70,
      "outputs": []
    }
  ]
}